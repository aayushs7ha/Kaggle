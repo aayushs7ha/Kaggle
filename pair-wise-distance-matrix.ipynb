{
 "cells": [
  {
   "cell_type": "code",
   "execution_count": 1,
   "id": "33f3147b",
   "metadata": {
    "_cell_guid": "b1076dfc-b9ad-4769-8c92-a6c4dae69d19",
    "_uuid": "8f2839f25d086af736a60e9eeb907d3b93b6e0e5",
    "execution": {
     "iopub.execute_input": "2024-06-30T15:06:14.879609Z",
     "iopub.status.busy": "2024-06-30T15:06:14.878555Z",
     "iopub.status.idle": "2024-06-30T15:06:15.877442Z",
     "shell.execute_reply": "2024-06-30T15:06:15.876297Z"
    },
    "papermill": {
     "duration": 1.011865,
     "end_time": "2024-06-30T15:06:15.880443",
     "exception": false,
     "start_time": "2024-06-30T15:06:14.868578",
     "status": "completed"
    },
    "tags": []
   },
   "outputs": [
    {
     "name": "stdout",
     "output_type": "stream",
     "text": [
      "/kaggle/input/mayforheatmap/May.parquet\n",
      "/kaggle/input/workshops/District to SSO master.csv\n",
      "/kaggle/input/workshops/WS location details.csv\n",
      "/kaggle/input/workshops/all_region_workshops.csv\n"
     ]
    }
   ],
   "source": [
    "import numpy as np # linear algebra\n",
    "import pandas as pd # data processing, CSV file I/O (e.g. pd.read_csv)\n",
    "import os\n",
    "for dirname, _, filenames in os.walk('/kaggle/input'):\n",
    "    for filename in filenames:\n",
    "        print(os.path.join(dirname, filename))"
   ]
  },
  {
   "cell_type": "code",
   "execution_count": 2,
   "id": "f9ac8658",
   "metadata": {
    "execution": {
     "iopub.execute_input": "2024-06-30T15:06:15.897140Z",
     "iopub.status.busy": "2024-06-30T15:06:15.896598Z",
     "iopub.status.idle": "2024-06-30T15:06:33.467019Z",
     "shell.execute_reply": "2024-06-30T15:06:33.465518Z"
    },
    "papermill": {
     "duration": 17.581853,
     "end_time": "2024-06-30T15:06:33.470046",
     "exception": false,
     "start_time": "2024-06-30T15:06:15.888193",
     "status": "completed"
    },
    "tags": []
   },
   "outputs": [
    {
     "name": "stdout",
     "output_type": "stream",
     "text": [
      "Collecting fastparquet\r\n",
      "  Downloading fastparquet-2024.5.0-cp310-cp310-manylinux_2_17_x86_64.manylinux2014_x86_64.whl.metadata (4.1 kB)\r\n",
      "Requirement already satisfied: pandas>=1.5.0 in /opt/conda/lib/python3.10/site-packages (from fastparquet) (2.2.2)\r\n",
      "Requirement already satisfied: numpy in /opt/conda/lib/python3.10/site-packages (from fastparquet) (1.26.4)\r\n",
      "Collecting cramjam>=2.3 (from fastparquet)\r\n",
      "  Downloading cramjam-2.8.3-cp310-cp310-manylinux_2_17_x86_64.manylinux2014_x86_64.whl.metadata (4.2 kB)\r\n",
      "Requirement already satisfied: fsspec in /opt/conda/lib/python3.10/site-packages (from fastparquet) (2024.3.1)\r\n",
      "Requirement already satisfied: packaging in /opt/conda/lib/python3.10/site-packages (from fastparquet) (21.3)\r\n",
      "Requirement already satisfied: python-dateutil>=2.8.2 in /opt/conda/lib/python3.10/site-packages (from pandas>=1.5.0->fastparquet) (2.9.0.post0)\r\n",
      "Requirement already satisfied: pytz>=2020.1 in /opt/conda/lib/python3.10/site-packages (from pandas>=1.5.0->fastparquet) (2023.3.post1)\r\n",
      "Requirement already satisfied: tzdata>=2022.7 in /opt/conda/lib/python3.10/site-packages (from pandas>=1.5.0->fastparquet) (2023.4)\r\n",
      "Requirement already satisfied: pyparsing!=3.0.5,>=2.0.2 in /opt/conda/lib/python3.10/site-packages (from packaging->fastparquet) (3.1.1)\r\n",
      "Requirement already satisfied: six>=1.5 in /opt/conda/lib/python3.10/site-packages (from python-dateutil>=2.8.2->pandas>=1.5.0->fastparquet) (1.16.0)\r\n",
      "Downloading fastparquet-2024.5.0-cp310-cp310-manylinux_2_17_x86_64.manylinux2014_x86_64.whl (1.7 MB)\r\n",
      "\u001b[2K   \u001b[90m━━━━━━━━━━━━━━━━━━━━━━━━━━━━━━━━━━━━━━━━\u001b[0m \u001b[32m1.7/1.7 MB\u001b[0m \u001b[31m15.0 MB/s\u001b[0m eta \u001b[36m0:00:00\u001b[0m\r\n",
      "\u001b[?25hDownloading cramjam-2.8.3-cp310-cp310-manylinux_2_17_x86_64.manylinux2014_x86_64.whl (2.0 MB)\r\n",
      "\u001b[2K   \u001b[90m━━━━━━━━━━━━━━━━━━━━━━━━━━━━━━━━━━━━━━━━\u001b[0m \u001b[32m2.0/2.0 MB\u001b[0m \u001b[31m22.1 MB/s\u001b[0m eta \u001b[36m0:00:00\u001b[0m\r\n",
      "\u001b[?25hInstalling collected packages: cramjam, fastparquet\r\n",
      "Successfully installed cramjam-2.8.3 fastparquet-2024.5.0\r\n"
     ]
    }
   ],
   "source": [
    "!pip install fastparquet"
   ]
  },
  {
   "cell_type": "code",
   "execution_count": 3,
   "id": "326aaaf1",
   "metadata": {
    "execution": {
     "iopub.execute_input": "2024-06-30T15:06:33.489923Z",
     "iopub.status.busy": "2024-06-30T15:06:33.488776Z",
     "iopub.status.idle": "2024-06-30T15:06:41.163898Z",
     "shell.execute_reply": "2024-06-30T15:06:41.162527Z"
    },
    "papermill": {
     "duration": 7.688006,
     "end_time": "2024-06-30T15:06:41.166664",
     "exception": false,
     "start_time": "2024-06-30T15:06:33.478658",
     "status": "completed"
    },
    "tags": []
   },
   "outputs": [],
   "source": [
    "df_tele = pd.read_parquet(\"/kaggle/input/mayforheatmap/May.parquet\",engine='fastparquet')"
   ]
  },
  {
   "cell_type": "code",
   "execution_count": 4,
   "id": "79576ed1",
   "metadata": {
    "execution": {
     "iopub.execute_input": "2024-06-30T15:06:41.186141Z",
     "iopub.status.busy": "2024-06-30T15:06:41.184856Z",
     "iopub.status.idle": "2024-06-30T15:06:41.216151Z",
     "shell.execute_reply": "2024-06-30T15:06:41.214492Z"
    },
    "papermill": {
     "duration": 0.044597,
     "end_time": "2024-06-30T15:06:41.219705",
     "exception": false,
     "start_time": "2024-06-30T15:06:41.175108",
     "status": "completed"
    },
    "tags": []
   },
   "outputs": [
    {
     "data": {
      "text/html": [
       "<div>\n",
       "<style scoped>\n",
       "    .dataframe tbody tr th:only-of-type {\n",
       "        vertical-align: middle;\n",
       "    }\n",
       "\n",
       "    .dataframe tbody tr th {\n",
       "        vertical-align: top;\n",
       "    }\n",
       "\n",
       "    .dataframe thead th {\n",
       "        text-align: right;\n",
       "    }\n",
       "</style>\n",
       "<table border=\"1\" class=\"dataframe\">\n",
       "  <thead>\n",
       "    <tr style=\"text-align: right;\">\n",
       "      <th></th>\n",
       "      <th>vehicleId</th>\n",
       "      <th>geohash_7</th>\n",
       "      <th>geohash_5</th>\n",
       "      <th>Latitude</th>\n",
       "      <th>Longitude</th>\n",
       "      <th>month</th>\n",
       "      <th>LOB</th>\n",
       "      <th>PL</th>\n",
       "      <th>PPL</th>\n",
       "      <th>region</th>\n",
       "      <th>state</th>\n",
       "      <th>city</th>\n",
       "      <th>rashturning</th>\n",
       "      <th>overspeeding</th>\n",
       "      <th>harshacceleration</th>\n",
       "      <th>harshbrake</th>\n",
       "      <th>VinCount</th>\n",
       "      <th>event_type</th>\n",
       "      <th>totalVinCount</th>\n",
       "      <th>eventdate_1</th>\n",
       "    </tr>\n",
       "  </thead>\n",
       "  <tbody>\n",
       "    <tr>\n",
       "      <th>0</th>\n",
       "      <td>MAT790005L1J03687</td>\n",
       "      <td>tu7p9m8</td>\n",
       "      <td>tu7p9</td>\n",
       "      <td>25.255508</td>\n",
       "      <td>83.024368</td>\n",
       "      <td>5</td>\n",
       "      <td>MCV Trucks</td>\n",
       "      <td>LPT 1918</td>\n",
       "      <td>MCV LPT 19</td>\n",
       "      <td>North</td>\n",
       "      <td>Haryana</td>\n",
       "      <td>GURGAON</td>\n",
       "      <td>1</td>\n",
       "      <td>0</td>\n",
       "      <td>0</td>\n",
       "      <td>0</td>\n",
       "      <td>1</td>\n",
       "      <td>rashturning_event</td>\n",
       "      <td>1097</td>\n",
       "      <td>2024-05-01</td>\n",
       "    </tr>\n",
       "    <tr>\n",
       "      <th>1</th>\n",
       "      <td>MAT797031L2K05106</td>\n",
       "      <td>tg22ctf</td>\n",
       "      <td>tg22c</td>\n",
       "      <td>18.445358</td>\n",
       "      <td>79.170914</td>\n",
       "      <td>5</td>\n",
       "      <td>HCV Const</td>\n",
       "      <td>SIGNA 2821.K. FBV</td>\n",
       "      <td>MAV Tippers 28</td>\n",
       "      <td>South</td>\n",
       "      <td>Telangana</td>\n",
       "      <td>HYDERABAD</td>\n",
       "      <td>1</td>\n",
       "      <td>0</td>\n",
       "      <td>0</td>\n",
       "      <td>0</td>\n",
       "      <td>1</td>\n",
       "      <td>rashturning_event</td>\n",
       "      <td>95</td>\n",
       "      <td>2024-05-01</td>\n",
       "    </tr>\n",
       "    <tr>\n",
       "      <th>2</th>\n",
       "      <td>MAT790207NAJ09776</td>\n",
       "      <td>tukn0s1</td>\n",
       "      <td>tukn0</td>\n",
       "      <td>24.983597</td>\n",
       "      <td>84.399033</td>\n",
       "      <td>5</td>\n",
       "      <td>MCV Trucks</td>\n",
       "      <td>LPT1918 5L</td>\n",
       "      <td>MCV LPT 19</td>\n",
       "      <td>North</td>\n",
       "      <td>Haryana</td>\n",
       "      <td>GURGAON</td>\n",
       "      <td>1</td>\n",
       "      <td>0</td>\n",
       "      <td>0</td>\n",
       "      <td>0</td>\n",
       "      <td>1</td>\n",
       "      <td>rashturning_event</td>\n",
       "      <td>740</td>\n",
       "      <td>2024-05-01</td>\n",
       "    </tr>\n",
       "    <tr>\n",
       "      <th>3</th>\n",
       "      <td>MAT812033N5B03743</td>\n",
       "      <td>ttp45w5</td>\n",
       "      <td>ttp45</td>\n",
       "      <td>28.510208</td>\n",
       "      <td>77.502365</td>\n",
       "      <td>5</td>\n",
       "      <td>ICV Trucks</td>\n",
       "      <td>1109g LPT</td>\n",
       "      <td>ICV 10T - 12T</td>\n",
       "      <td>North</td>\n",
       "      <td>Uttar Pradesh</td>\n",
       "      <td>NOIDA</td>\n",
       "      <td>1</td>\n",
       "      <td>0</td>\n",
       "      <td>0</td>\n",
       "      <td>0</td>\n",
       "      <td>1</td>\n",
       "      <td>rashturning_event</td>\n",
       "      <td>357</td>\n",
       "      <td>2024-05-01</td>\n",
       "    </tr>\n",
       "    <tr>\n",
       "      <th>4</th>\n",
       "      <td>MAT563010N5N13935</td>\n",
       "      <td>ttr8nsh</td>\n",
       "      <td>ttr8n</td>\n",
       "      <td>29.553909</td>\n",
       "      <td>78.338699</td>\n",
       "      <td>5</td>\n",
       "      <td>ICV Trucks</td>\n",
       "      <td>1512 LPT</td>\n",
       "      <td>ICV 15T - 16T</td>\n",
       "      <td>North</td>\n",
       "      <td>Uttar Pradesh</td>\n",
       "      <td>BAREILLY</td>\n",
       "      <td>1</td>\n",
       "      <td>0</td>\n",
       "      <td>0</td>\n",
       "      <td>0</td>\n",
       "      <td>1</td>\n",
       "      <td>rashturning_event</td>\n",
       "      <td>381</td>\n",
       "      <td>2024-05-01</td>\n",
       "    </tr>\n",
       "  </tbody>\n",
       "</table>\n",
       "</div>"
      ],
      "text/plain": [
       "           vehicleId geohash_7 geohash_5   Latitude  Longitude  month  \\\n",
       "0  MAT790005L1J03687   tu7p9m8     tu7p9  25.255508  83.024368      5   \n",
       "1  MAT797031L2K05106   tg22ctf     tg22c  18.445358  79.170914      5   \n",
       "2  MAT790207NAJ09776   tukn0s1     tukn0  24.983597  84.399033      5   \n",
       "3  MAT812033N5B03743   ttp45w5     ttp45  28.510208  77.502365      5   \n",
       "4  MAT563010N5N13935   ttr8nsh     ttr8n  29.553909  78.338699      5   \n",
       "\n",
       "          LOB                 PL             PPL region          state  \\\n",
       "0  MCV Trucks           LPT 1918      MCV LPT 19  North        Haryana   \n",
       "1   HCV Const  SIGNA 2821.K. FBV  MAV Tippers 28  South      Telangana   \n",
       "2  MCV Trucks         LPT1918 5L      MCV LPT 19  North        Haryana   \n",
       "3  ICV Trucks          1109g LPT   ICV 10T - 12T  North  Uttar Pradesh   \n",
       "4  ICV Trucks           1512 LPT   ICV 15T - 16T  North  Uttar Pradesh   \n",
       "\n",
       "        city  rashturning  overspeeding  harshacceleration  harshbrake  \\\n",
       "0    GURGAON            1             0                  0           0   \n",
       "1  HYDERABAD            1             0                  0           0   \n",
       "2    GURGAON            1             0                  0           0   \n",
       "3      NOIDA            1             0                  0           0   \n",
       "4   BAREILLY            1             0                  0           0   \n",
       "\n",
       "   VinCount         event_type  totalVinCount eventdate_1  \n",
       "0         1  rashturning_event           1097  2024-05-01  \n",
       "1         1  rashturning_event             95  2024-05-01  \n",
       "2         1  rashturning_event            740  2024-05-01  \n",
       "3         1  rashturning_event            357  2024-05-01  \n",
       "4         1  rashturning_event            381  2024-05-01  "
      ]
     },
     "execution_count": 4,
     "metadata": {},
     "output_type": "execute_result"
    }
   ],
   "source": [
    "df_tele.head()"
   ]
  },
  {
   "cell_type": "code",
   "execution_count": 5,
   "id": "e7f7c059",
   "metadata": {
    "execution": {
     "iopub.execute_input": "2024-06-30T15:06:41.241840Z",
     "iopub.status.busy": "2024-06-30T15:06:41.240580Z",
     "iopub.status.idle": "2024-06-30T15:07:06.922022Z",
     "shell.execute_reply": "2024-06-30T15:07:06.920665Z"
    },
    "papermill": {
     "duration": 25.695232,
     "end_time": "2024-06-30T15:07:06.925611",
     "exception": false,
     "start_time": "2024-06-30T15:06:41.230379",
     "status": "completed"
    },
    "tags": []
   },
   "outputs": [],
   "source": [
    "grouped_df = df_tele.groupby(['geohash_7', 'geohash_5', 'Latitude', 'Longitude', 'month', 'LOB', 'PL', 'PPL']).size().reset_index(name='vehicleId_count')\n"
   ]
  },
  {
   "cell_type": "code",
   "execution_count": 6,
   "id": "8d8037dd",
   "metadata": {
    "execution": {
     "iopub.execute_input": "2024-06-30T15:07:06.949870Z",
     "iopub.status.busy": "2024-06-30T15:07:06.949450Z",
     "iopub.status.idle": "2024-06-30T15:07:06.956634Z",
     "shell.execute_reply": "2024-06-30T15:07:06.955463Z"
    },
    "papermill": {
     "duration": 0.020845,
     "end_time": "2024-06-30T15:07:06.959222",
     "exception": false,
     "start_time": "2024-06-30T15:07:06.938377",
     "status": "completed"
    },
    "tags": []
   },
   "outputs": [
    {
     "data": {
      "text/plain": [
       "(5017561, 9)"
      ]
     },
     "execution_count": 6,
     "metadata": {},
     "output_type": "execute_result"
    }
   ],
   "source": [
    "grouped_df.shape"
   ]
  },
  {
   "cell_type": "code",
   "execution_count": 7,
   "id": "2fbd0a39",
   "metadata": {
    "execution": {
     "iopub.execute_input": "2024-06-30T15:07:06.979558Z",
     "iopub.status.busy": "2024-06-30T15:07:06.979175Z",
     "iopub.status.idle": "2024-06-30T15:07:07.027298Z",
     "shell.execute_reply": "2024-06-30T15:07:07.026048Z"
    },
    "papermill": {
     "duration": 0.061706,
     "end_time": "2024-06-30T15:07:07.030571",
     "exception": false,
     "start_time": "2024-06-30T15:07:06.968865",
     "status": "completed"
    },
    "tags": []
   },
   "outputs": [],
   "source": [
    "df_tel = grouped_df.query(\"vehicleId_count >=20\")"
   ]
  },
  {
   "cell_type": "code",
   "execution_count": 8,
   "id": "ed56daea",
   "metadata": {
    "execution": {
     "iopub.execute_input": "2024-06-30T15:07:07.055128Z",
     "iopub.status.busy": "2024-06-30T15:07:07.054754Z",
     "iopub.status.idle": "2024-06-30T15:07:07.061848Z",
     "shell.execute_reply": "2024-06-30T15:07:07.060692Z"
    },
    "papermill": {
     "duration": 0.021192,
     "end_time": "2024-06-30T15:07:07.064585",
     "exception": false,
     "start_time": "2024-06-30T15:07:07.043393",
     "status": "completed"
    },
    "tags": []
   },
   "outputs": [
    {
     "data": {
      "text/plain": [
       "(7511, 9)"
      ]
     },
     "execution_count": 8,
     "metadata": {},
     "output_type": "execute_result"
    }
   ],
   "source": [
    "df_tel.shape"
   ]
  },
  {
   "cell_type": "code",
   "execution_count": 9,
   "id": "0d1cffa2",
   "metadata": {
    "execution": {
     "iopub.execute_input": "2024-06-30T15:07:07.084767Z",
     "iopub.status.busy": "2024-06-30T15:07:07.084358Z",
     "iopub.status.idle": "2024-06-30T15:07:07.110376Z",
     "shell.execute_reply": "2024-06-30T15:07:07.109077Z"
    },
    "jupyter": {
     "source_hidden": true
    },
    "papermill": {
     "duration": 0.039466,
     "end_time": "2024-06-30T15:07:07.113322",
     "exception": false,
     "start_time": "2024-06-30T15:07:07.073856",
     "status": "completed"
    },
    "tags": []
   },
   "outputs": [],
   "source": [
    "df_workshop=pd.read_csv(\"/kaggle/input/workshops/all_region_workshops.csv\")"
   ]
  },
  {
   "cell_type": "code",
   "execution_count": null,
   "id": "c483aad9",
   "metadata": {
    "papermill": {
     "duration": 0.009004,
     "end_time": "2024-06-30T15:07:07.131856",
     "exception": false,
     "start_time": "2024-06-30T15:07:07.122852",
     "status": "completed"
    },
    "tags": []
   },
   "outputs": [],
   "source": []
  },
  {
   "cell_type": "code",
   "execution_count": null,
   "id": "59207b24",
   "metadata": {
    "papermill": {
     "duration": 0.008814,
     "end_time": "2024-06-30T15:07:07.149893",
     "exception": false,
     "start_time": "2024-06-30T15:07:07.141079",
     "status": "completed"
    },
    "tags": []
   },
   "outputs": [],
   "source": []
  },
  {
   "cell_type": "code",
   "execution_count": 10,
   "id": "d7367687",
   "metadata": {
    "execution": {
     "iopub.execute_input": "2024-06-30T15:07:07.170267Z",
     "iopub.status.busy": "2024-06-30T15:07:07.169770Z",
     "iopub.status.idle": "2024-06-30T15:07:07.187652Z",
     "shell.execute_reply": "2024-06-30T15:07:07.186492Z"
    },
    "papermill": {
     "duration": 0.031822,
     "end_time": "2024-06-30T15:07:07.190807",
     "exception": false,
     "start_time": "2024-06-30T15:07:07.158985",
     "status": "completed"
    },
    "tags": []
   },
   "outputs": [
    {
     "data": {
      "text/html": [
       "<div>\n",
       "<style scoped>\n",
       "    .dataframe tbody tr th:only-of-type {\n",
       "        vertical-align: middle;\n",
       "    }\n",
       "\n",
       "    .dataframe tbody tr th {\n",
       "        vertical-align: top;\n",
       "    }\n",
       "\n",
       "    .dataframe thead th {\n",
       "        text-align: right;\n",
       "    }\n",
       "</style>\n",
       "<table border=\"1\" class=\"dataframe\">\n",
       "  <thead>\n",
       "    <tr style=\"text-align: right;\">\n",
       "      <th></th>\n",
       "      <th>Division</th>\n",
       "      <th>Lattitude</th>\n",
       "      <th>Longitude</th>\n",
       "      <th>SSO</th>\n",
       "      <th>State</th>\n",
       "    </tr>\n",
       "  </thead>\n",
       "  <tbody>\n",
       "    <tr>\n",
       "      <th>0</th>\n",
       "      <td>100B520-Sv&amp;Pa-Nagercoils-AfjTor</td>\n",
       "      <td>8.190837</td>\n",
       "      <td>77.419204</td>\n",
       "      <td>Salem</td>\n",
       "      <td>Tamil Nadu</td>\n",
       "    </tr>\n",
       "    <tr>\n",
       "      <th>1</th>\n",
       "      <td>1001650-Sv&amp;Pa-Nagercoil-ABTInM</td>\n",
       "      <td>8.198264</td>\n",
       "      <td>77.431443</td>\n",
       "      <td>Salem</td>\n",
       "      <td>Tamil Nadu</td>\n",
       "    </tr>\n",
       "    <tr>\n",
       "      <th>2</th>\n",
       "      <td>2088645-Sv&amp;Pa-Neyyattinkara-KdmMot</td>\n",
       "      <td>8.368100</td>\n",
       "      <td>77.082080</td>\n",
       "      <td>Cochin</td>\n",
       "      <td>Kerala</td>\n",
       "    </tr>\n",
       "    <tr>\n",
       "      <th>3</th>\n",
       "      <td>2089374-Sv&amp;Pa-Vallioor-SavAut</td>\n",
       "      <td>8.370961</td>\n",
       "      <td>77.601832</td>\n",
       "      <td>Salem</td>\n",
       "      <td>Tamil Nadu</td>\n",
       "    </tr>\n",
       "    <tr>\n",
       "      <th>4</th>\n",
       "      <td>2088731-Sv&amp;Pa-Trivandrum-VjyMtr</td>\n",
       "      <td>8.424550</td>\n",
       "      <td>76.962980</td>\n",
       "      <td>Cochin</td>\n",
       "      <td>Kerala</td>\n",
       "    </tr>\n",
       "  </tbody>\n",
       "</table>\n",
       "</div>"
      ],
      "text/plain": [
       "                             Division  Lattitude  Longitude     SSO  \\\n",
       "0     100B520-Sv&Pa-Nagercoils-AfjTor   8.190837  77.419204   Salem   \n",
       "1      1001650-Sv&Pa-Nagercoil-ABTInM   8.198264  77.431443   Salem   \n",
       "2  2088645-Sv&Pa-Neyyattinkara-KdmMot   8.368100  77.082080  Cochin   \n",
       "3       2089374-Sv&Pa-Vallioor-SavAut   8.370961  77.601832   Salem   \n",
       "4     2088731-Sv&Pa-Trivandrum-VjyMtr   8.424550  76.962980  Cochin   \n",
       "\n",
       "        State  \n",
       "0  Tamil Nadu  \n",
       "1  Tamil Nadu  \n",
       "2      Kerala  \n",
       "3  Tamil Nadu  \n",
       "4      Kerala  "
      ]
     },
     "execution_count": 10,
     "metadata": {},
     "output_type": "execute_result"
    }
   ],
   "source": [
    "df_workshop.head()"
   ]
  },
  {
   "cell_type": "code",
   "execution_count": 11,
   "id": "cfbaa53e",
   "metadata": {
    "execution": {
     "iopub.execute_input": "2024-06-30T15:07:07.211797Z",
     "iopub.status.busy": "2024-06-30T15:07:07.211402Z",
     "iopub.status.idle": "2024-06-30T15:07:07.219163Z",
     "shell.execute_reply": "2024-06-30T15:07:07.217996Z"
    },
    "papermill": {
     "duration": 0.021003,
     "end_time": "2024-06-30T15:07:07.221612",
     "exception": false,
     "start_time": "2024-06-30T15:07:07.200609",
     "status": "completed"
    },
    "tags": []
   },
   "outputs": [],
   "source": [
    "df_workshop = df_workshop.dropna()"
   ]
  },
  {
   "cell_type": "code",
   "execution_count": 12,
   "id": "a505c5e2",
   "metadata": {
    "execution": {
     "iopub.execute_input": "2024-06-30T15:07:07.242343Z",
     "iopub.status.busy": "2024-06-30T15:07:07.241883Z",
     "iopub.status.idle": "2024-06-30T15:07:07.261754Z",
     "shell.execute_reply": "2024-06-30T15:07:07.260555Z"
    },
    "papermill": {
     "duration": 0.03423,
     "end_time": "2024-06-30T15:07:07.265349",
     "exception": false,
     "start_time": "2024-06-30T15:07:07.231119",
     "status": "completed"
    },
    "tags": []
   },
   "outputs": [
    {
     "name": "stdout",
     "output_type": "stream",
     "text": [
      "<class 'pandas.core.frame.DataFrame'>\n",
      "Index: 1586 entries, 0 to 1590\n",
      "Data columns (total 5 columns):\n",
      " #   Column     Non-Null Count  Dtype  \n",
      "---  ------     --------------  -----  \n",
      " 0   Division   1586 non-null   object \n",
      " 1   Lattitude  1586 non-null   float64\n",
      " 2   Longitude  1586 non-null   float64\n",
      " 3   SSO        1586 non-null   object \n",
      " 4   State      1586 non-null   object \n",
      "dtypes: float64(2), object(3)\n",
      "memory usage: 74.3+ KB\n"
     ]
    }
   ],
   "source": [
    "df_workshop.info()"
   ]
  },
  {
   "cell_type": "markdown",
   "id": "95f7776c",
   "metadata": {
    "papermill": {
     "duration": 0.009387,
     "end_time": "2024-06-30T15:07:07.284814",
     "exception": false,
     "start_time": "2024-06-30T15:07:07.275427",
     "status": "completed"
    },
    "tags": []
   },
   "source": []
  },
  {
   "cell_type": "code",
   "execution_count": 13,
   "id": "04438bff",
   "metadata": {
    "execution": {
     "iopub.execute_input": "2024-06-30T15:07:07.306523Z",
     "iopub.status.busy": "2024-06-30T15:07:07.305517Z",
     "iopub.status.idle": "2024-06-30T15:07:09.513829Z",
     "shell.execute_reply": "2024-06-30T15:07:09.512628Z"
    },
    "papermill": {
     "duration": 2.222238,
     "end_time": "2024-06-30T15:07:09.516713",
     "exception": false,
     "start_time": "2024-06-30T15:07:07.294475",
     "status": "completed"
    },
    "tags": []
   },
   "outputs": [],
   "source": [
    "import pandas as pd\n",
    "import numpy as np\n",
    "from sklearn.metrics import pairwise_distances\n",
    "\n",
    "# Function to calculate haversine distance matrix in kilometers\n",
    "def haversine_distance_matrix(workshops, telemetry):\n",
    "    # Convert degrees to radians\n",
    "    workshops_rad = np.radians(workshops)\n",
    "    telemetry_rad = np.radians(telemetry)\n",
    "\n",
    "    # Calculate the pairwise haversine distance matrix\n",
    "    distances = pairwise_distances(telemetry_rad, workshops_rad, metric='haversine')\n",
    "    # Convert radians to kilometers (earth radius ~6371 km)\n",
    "    distances_km = distances * 6371\n",
    "    return distances_km\n",
    "'''\n",
    "\n",
    "# Sample dataframes\n",
    "# Workshop dataframe\n",
    "workshops = pd.DataFrame({\n",
    "    'lat': [12.9715987, 13.0826802, 12.2958104],\n",
    "    'lon': [77.5945627, 80.2707184, 76.6393805]\n",
    "})\n",
    "\n",
    "# Telemetry dataframe\n",
    "telemetry = pd.DataFrame({\n",
    "    'lat': [12.9715987, 13.0826802, 11.0168445],\n",
    "    'lon': [77.5945627, 80.2707184, 76.9558321]\n",
    "})\n",
    "'''\n",
    "# Calculate the haversine distance matrix in kilometers\n",
    "distances_km = haversine_distance_matrix(df_workshop[['Lattitude', 'Longitude']], df_tel[['Latitude', 'Longitude']])\n",
    "\n",
    "# Function to classify points based on distance\n",
    "def classify_points(workshops, telemetry, distances_km, threshold_km=15):\n",
    "    min_distances = distances_km.min(axis=1)\n",
    "    colors = ['green' if dist <= threshold_km else 'red' for dist in min_distances]\n",
    "    result = telemetry.copy()\n",
    "    result['distance'] = min_distances\n",
    "    result['color'] = colors\n",
    "    return result\n",
    "\n",
    "# Classify the telemetry points\n",
    "classified_points = classify_points(df_workshop, df_tel, distances_km)\n",
    "#print(classified_points)\n"
   ]
  },
  {
   "cell_type": "code",
   "execution_count": 14,
   "id": "86d1e3d2",
   "metadata": {
    "execution": {
     "iopub.execute_input": "2024-06-30T15:07:09.538910Z",
     "iopub.status.busy": "2024-06-30T15:07:09.538487Z",
     "iopub.status.idle": "2024-06-30T15:07:09.557287Z",
     "shell.execute_reply": "2024-06-30T15:07:09.556102Z"
    },
    "papermill": {
     "duration": 0.033215,
     "end_time": "2024-06-30T15:07:09.559729",
     "exception": false,
     "start_time": "2024-06-30T15:07:09.526514",
     "status": "completed"
    },
    "tags": []
   },
   "outputs": [
    {
     "data": {
      "text/html": [
       "<div>\n",
       "<style scoped>\n",
       "    .dataframe tbody tr th:only-of-type {\n",
       "        vertical-align: middle;\n",
       "    }\n",
       "\n",
       "    .dataframe tbody tr th {\n",
       "        vertical-align: top;\n",
       "    }\n",
       "\n",
       "    .dataframe thead th {\n",
       "        text-align: right;\n",
       "    }\n",
       "</style>\n",
       "<table border=\"1\" class=\"dataframe\">\n",
       "  <thead>\n",
       "    <tr style=\"text-align: right;\">\n",
       "      <th></th>\n",
       "      <th>geohash_7</th>\n",
       "      <th>geohash_5</th>\n",
       "      <th>Latitude</th>\n",
       "      <th>Longitude</th>\n",
       "      <th>month</th>\n",
       "      <th>LOB</th>\n",
       "      <th>PL</th>\n",
       "      <th>PPL</th>\n",
       "      <th>vehicleId_count</th>\n",
       "      <th>distance</th>\n",
       "      <th>color</th>\n",
       "    </tr>\n",
       "  </thead>\n",
       "  <tbody>\n",
       "    <tr>\n",
       "      <th>242</th>\n",
       "      <td>t9qygyn</td>\n",
       "      <td>t9qyg</td>\n",
       "      <td>8.251419</td>\n",
       "      <td>77.165909</td>\n",
       "      <td>5</td>\n",
       "      <td>ICV Trucks</td>\n",
       "      <td>912 LPK</td>\n",
       "      <td>ICV Tipper</td>\n",
       "      <td>37</td>\n",
       "      <td>15.918548</td>\n",
       "      <td>red</td>\n",
       "    </tr>\n",
       "    <tr>\n",
       "      <th>567</th>\n",
       "      <td>t9qyuss</td>\n",
       "      <td>t9qyu</td>\n",
       "      <td>8.243179</td>\n",
       "      <td>77.196121</td>\n",
       "      <td>5</td>\n",
       "      <td>LCV</td>\n",
       "      <td>610 SK</td>\n",
       "      <td>LCV Tippers</td>\n",
       "      <td>22</td>\n",
       "      <td>18.718955</td>\n",
       "      <td>red</td>\n",
       "    </tr>\n",
       "    <tr>\n",
       "      <th>7107</th>\n",
       "      <td>t9rnqmw</td>\n",
       "      <td>t9rnq</td>\n",
       "      <td>8.160782</td>\n",
       "      <td>77.627335</td>\n",
       "      <td>5</td>\n",
       "      <td>Buses</td>\n",
       "      <td>LPO1315</td>\n",
       "      <td>ICV Buses</td>\n",
       "      <td>28</td>\n",
       "      <td>21.959578</td>\n",
       "      <td>red</td>\n",
       "    </tr>\n",
       "    <tr>\n",
       "      <th>7174</th>\n",
       "      <td>t9rnqy2</td>\n",
       "      <td>t9rnq</td>\n",
       "      <td>8.164902</td>\n",
       "      <td>77.641068</td>\n",
       "      <td>5</td>\n",
       "      <td>Buses</td>\n",
       "      <td>LPO1315</td>\n",
       "      <td>ICV Buses</td>\n",
       "      <td>21</td>\n",
       "      <td>23.315958</td>\n",
       "      <td>red</td>\n",
       "    </tr>\n",
       "    <tr>\n",
       "      <th>7230</th>\n",
       "      <td>t9rnrp6</td>\n",
       "      <td>t9rnr</td>\n",
       "      <td>8.170395</td>\n",
       "      <td>77.654800</td>\n",
       "      <td>5</td>\n",
       "      <td>HCV Const</td>\n",
       "      <td>SIGNA 3525.TK. FBV</td>\n",
       "      <td>MAV Tippers 35</td>\n",
       "      <td>22</td>\n",
       "      <td>23.050879</td>\n",
       "      <td>red</td>\n",
       "    </tr>\n",
       "  </tbody>\n",
       "</table>\n",
       "</div>"
      ],
      "text/plain": [
       "     geohash_7 geohash_5  Latitude  Longitude  month         LOB  \\\n",
       "242    t9qygyn     t9qyg  8.251419  77.165909      5  ICV Trucks   \n",
       "567    t9qyuss     t9qyu  8.243179  77.196121      5         LCV   \n",
       "7107   t9rnqmw     t9rnq  8.160782  77.627335      5       Buses   \n",
       "7174   t9rnqy2     t9rnq  8.164902  77.641068      5       Buses   \n",
       "7230   t9rnrp6     t9rnr  8.170395  77.654800      5   HCV Const   \n",
       "\n",
       "                      PL             PPL  vehicleId_count   distance color  \n",
       "242              912 LPK      ICV Tipper               37  15.918548   red  \n",
       "567               610 SK     LCV Tippers               22  18.718955   red  \n",
       "7107             LPO1315       ICV Buses               28  21.959578   red  \n",
       "7174             LPO1315       ICV Buses               21  23.315958   red  \n",
       "7230  SIGNA 3525.TK. FBV  MAV Tippers 35               22  23.050879   red  "
      ]
     },
     "execution_count": 14,
     "metadata": {},
     "output_type": "execute_result"
    }
   ],
   "source": [
    "classified_points.head()"
   ]
  },
  {
   "cell_type": "code",
   "execution_count": 15,
   "id": "62cd34a3",
   "metadata": {
    "execution": {
     "iopub.execute_input": "2024-06-30T15:07:09.581143Z",
     "iopub.status.busy": "2024-06-30T15:07:09.580760Z",
     "iopub.status.idle": "2024-06-30T15:07:10.095399Z",
     "shell.execute_reply": "2024-06-30T15:07:10.094274Z"
    },
    "papermill": {
     "duration": 0.530497,
     "end_time": "2024-06-30T15:07:10.099993",
     "exception": false,
     "start_time": "2024-06-30T15:07:09.569496",
     "status": "completed"
    },
    "tags": []
   },
   "outputs": [
    {
     "data": {
      "text/html": [
       "        <script type=\"text/javascript\">\n",
       "        window.PlotlyConfig = {MathJaxConfig: 'local'};\n",
       "        if (window.MathJax && window.MathJax.Hub && window.MathJax.Hub.Config) {window.MathJax.Hub.Config({SVG: {font: \"STIX-Web\"}});}\n",
       "        if (typeof require !== 'undefined') {\n",
       "        require.undef(\"plotly\");\n",
       "        requirejs.config({\n",
       "            paths: {\n",
       "                'plotly': ['https://cdn.plot.ly/plotly-2.27.0.min']\n",
       "            }\n",
       "        });\n",
       "        require(['plotly'], function(Plotly) {\n",
       "            window._Plotly = Plotly;\n",
       "        });\n",
       "        }\n",
       "        </script>\n",
       "        "
      ]
     },
     "metadata": {},
     "output_type": "display_data"
    },
    {
     "data": {
      "text/html": [
       "<div>                            <div id=\"2706211a-ee01-45fd-bf51-6b2998cb2ed4\" class=\"plotly-graph-div\" style=\"height:525px; width:100%;\"></div>            <script type=\"text/javascript\">                require([\"plotly\"], function(Plotly) {                    window.PLOTLYENV=window.PLOTLYENV || {};                                    if (document.getElementById(\"2706211a-ee01-45fd-bf51-6b2998cb2ed4\")) {                    Plotly.newPlot(                        \"2706211a-ee01-45fd-bf51-6b2998cb2ed4\",                        [{\"lat\":[8.33519,8.340683,8.884506,8.516464,8.593369,8.862534,8.863907,8.862534,9.634323,8.645554,8.646927,8.646927,8.6483,8.631821,8.629074,8.624954,8.635941,8.637314,8.762283,8.469772,10.250931,10.303116,10.793381,10.892258,10.949936,11.121597,11.121597,11.249313,10.643692,10.680771,11.100998,11.106491,11.107864,9.9144745,9.944687,10.678024,10.820847,11.190262,12.069168,12.060928,12.043076,12.86293,12.86293,12.872543,12.876663,12.956314,12.950821,12.9673,12.970047,12.970047,12.970047,12.9109955,12.912369,12.876663,13.333969,13.993149,13.998642,11.253433,11.253433,11.25206,11.679153,11.399002,12.372665,12.569046,12.614365,12.619858,12.622604,12.623978,12.628098,12.629471,12.376785,13.066177,13.066177,13.302383,13.290024,13.306503,13.310623,12.728348,12.75032,12.783279,12.783279,12.684402,12.685776,12.820358,12.817612,12.806625,12.854691,12.895889,12.894516,12.912369,12.917862,12.873917,12.882156,12.8780365,12.849197,12.839584,12.85881,12.856064,12.924728,12.998886,12.921982,12.923355,12.924728,12.926102,12.927475,12.927475,12.928848,12.930222,13.000259,12.710495,12.776413,12.77916,12.788773,12.803879,12.801132,12.729721,12.733841,12.821732,12.816238,12.854691,12.860184,12.864304,12.891769,12.861557,12.861557,12.942581,12.957687,12.970047,12.97142,12.99614,12.976913,13.000259,12.943954,12.943954,12.972794,12.843704,12.846451,12.989273,13.090897,13.085403,13.042831,13.049698,13.045578,13.045578,13.045578,13.073044,13.066177,13.067551,13.067551,13.066177,13.067551,13.068924,13.068924,13.060684,13.056564,13.056564,13.056564,13.057938,13.057938,13.063431,13.055191,13.097763,13.097763,13.114243,13.055191,13.056564,13.101883,13.162308,13.116989,13.116989,13.270798,13.291397,13.016739,13.011246,13.056564,13.031845,13.108749,13.111496,13.111496,13.112869,13.114243,13.112869,13.114243,13.115616,13.116989,13.132095,13.122482,13.132095,13.132095,13.129349,13.20076,12.728348,12.728348,15.45845,15.393906,15.26207,15.540848,16.143723,16.669693,16.47194,16.375809,16.378555,16.448593,16.754837,16.783676,15.531235,15.469437,16.853714,14.192276,14.5012665,15.105515,15.109634,15.111008,15.2895355,15.290909,15.292282,15.327988,15.336227,15.1714325,15.168686,15.170059,15.172806,15.1384735,15.076675,15.076675,15.14534,15.14534,15.160446,15.172806,15.174179,15.174179,15.186539,15.179672,15.172806,15.164566,15.165939,15.168686,15.183792,15.194778,15.197525,18.939743,18.953476,18.956223,18.95485,18.956223,18.957596,18.95897,18.972702,18.972702,18.972702,18.978195,18.979568,18.94249,18.945236,18.947983,18.949356,18.94661,18.94249,18.943863,18.941116,18.94661,18.949356,18.952103,18.953476,18.95485,18.95485,18.957596,18.95897,18.960342,18.961716,18.961716,18.968582,18.963089,18.964462,18.967209,18.971329,18.972702,18.976822,18.976822,18.974075,18.976822,18.976822,18.978195,18.979568,18.979568,18.980942,18.983688,18.947983,18.928757,18.95485,18.95485,18.956223,18.956223,18.956223,18.961716,18.960342,18.957596,18.95897,18.957596,18.963089,18.963089,18.964462,18.94249,18.957596,18.963089,18.963089,18.975449,18.978195,18.987808,18.989182,18.990555,18.991928,18.993301,18.994675,18.997421,18.998795,19.000168,19.001541,18.985062,18.987808,18.989182,18.994675,18.990555,18.991928,18.994675,18.994675,18.994675,18.998795,19.005661,19.004288,19.005661,18.996048,18.997421,18.997421,19.002914,19.005661,19.004288,19.007034,19.008408,19.00978,19.011154,19.012527,19.0139,19.012527,19.012527,19.0139,19.015274,19.015274,19.0139,19.0139,19.0139,19.016647,19.015274,19.0139,19.015274,19.016647,19.01802,19.01802,19.019394,19.011154,19.0139,19.015274,19.016647,19.015274,19.016647,19.01802,19.019394,19.020767,19.020767,19.020767,19.02214,19.01802,19.019394,19.01802,19.019394,19.023514,19.024887,19.02626,19.027634,19.01802,19.019394,19.02214,19.019394,19.02626,19.024887,19.027634,19.045486,19.04686,19.049606,19.029007,19.03038,19.031754,19.031754,19.033127,19.0345,19.035873,19.03862,19.037247,19.029007,19.03038,19.0345,19.035873,19.039993,19.041367,19.04274,19.04686,19.048233,19.048233,19.049606,19.049606,19.049606,19.05098,19.052353,19.053726,19.0551,19.056473,19.05922,19.071579,19.070206,19.071579,19.052353,19.052353,19.053726,19.0551,19.0551,19.056473,19.056473,19.060593,19.060593,19.05098,19.05098,19.061966,19.01802,19.01802,19.01802,19.019394,19.020767,19.02214,19.023514,19.024887,19.023514,19.024887,19.02626,19.02626,19.027634,19.02626,19.0139,19.029007,19.03038,19.029007,19.031754,19.031754,19.033127,19.031754,19.037247,19.037247,19.037247,19.03862,19.0345,19.035873,19.037247,19.037247,19.037247,19.037247,19.037247,19.037247,19.03862,19.039993,19.041367,19.04274,19.044113,19.04274,19.044113,19.039993,19.041367,19.045486,19.04686,19.045486,19.049606,19.039993,19.041367,19.041367,19.04274,19.044113,19.044113,19.04274,19.04274,19.044113,19.045486,19.045486,19.031754,19.033127,19.035873,19.037247,19.03862,19.041367,19.041367,19.04274,19.044113,19.045486,19.04686,19.048233,19.049606,19.039993,19.039993,19.045486,19.045486,19.052353,19.05098,19.05922,19.071579,19.071579,19.070206,19.06746,19.06746,19.068832,19.05098,19.057846,19.053726,19.052353,19.064713,19.066086,19.045486,19.045486,19.045486,19.045486,19.04686,19.04686,19.045486,19.045486,19.04686,19.048233,19.044113,19.044113,19.044113,19.04274,19.04274,19.044113,19.04274,19.04274,19.04274,19.035873,19.0345,19.035873,19.037247,19.03862,19.03862,19.04274,19.04274,19.04274,19.04274,19.041367,19.041367,19.041367,19.041367,19.04274,19.045486,19.04686,19.039993,19.041367,19.041367,19.041367,19.039993,19.039993,19.053726,19.0551,19.0551,19.052353,19.05922,19.070206,19.061966,19.05098,19.052353,19.074326,19.077072,19.081192,19.081192,19.082565,19.082565,19.085312,19.086685,19.088058,19.089432,19.090805,19.092178,19.093552,19.085312,19.085312,19.085312,19.085312,19.083939,19.083939,19.083939,19.083939,19.085312,19.088058,19.086685,19.088058,19.089432,19.090805,19.089432,19.090805,19.090805,19.092178,19.092178,19.074326,19.081192,19.082565,19.081192,19.079819,19.079819,19.079819,19.081192,19.082565,19.072952,19.074326,19.075699,19.081192,19.081192,19.081192,19.094925,19.096298,19.097672,19.099045,19.100418,19.103165,19.104538,19.104538,19.101791,19.103165,19.104538,19.105911,19.105911,19.107285,19.108658,19.107285,19.108658,19.111404,19.114151,19.115524,19.115524,19.115524,19.111404,19.112778,19.114151,19.115524,19.094925,19.096298,19.097672,19.099045,19.100418,19.103165,19.094925,19.096298,19.094925,19.111404,19.110031,19.108658,19.108658,19.105911,19.107285,19.115524,19.115524,19.115524,19.114151,19.115524,19.115524,19.116898,19.116898,19.11827,19.121017,19.123764,19.125137,19.129257,19.127884,19.132004,19.11827,19.119644,19.119644,19.121017,19.11827,19.11827,19.116898,19.116898,19.119644,19.12239,19.123764,19.125137,19.125137,19.12651,19.125137,19.12651,19.12651,19.145737,19.145737,19.145737,19.14711,19.148483,19.15947,19.077072,19.074326,19.078445,19.074326,19.075699,19.072952,19.074326,19.075699,19.077072,19.079819,19.081192,19.085312,19.079819,19.085312,19.085312,19.085312,19.088058,19.093552,19.089432,19.092178,19.093552,19.093552,19.094925,19.096298,19.097672,19.097672,19.097672,19.103165,19.103165,19.101791,19.103165,19.103165,19.103165,19.103165,19.104538,19.105911,19.112778,19.112778,19.114151,19.115524,19.111404,19.111404,19.111404,19.105911,19.107285,19.110031,19.108658,19.108658,19.110031,19.107285,19.107285,19.107285,19.108658,19.108658,19.097672,19.097672,19.099045,19.104538,19.103165,19.103165,19.104538,19.104538,19.104538,19.104538,19.100418,19.101791,19.101791,19.100418,19.103165,19.094925,19.096298,19.096298,19.094925,19.094925,19.105911,19.107285,19.085312,19.088058,19.088058,19.086685,19.088058,19.089432,19.090805,19.089432,19.090805,19.092178,19.092178,19.093552,19.089432,19.092178,19.092178,19.092178,19.093552,19.093552,19.083939,19.086685,19.088058,19.088058,19.086685,19.089432,19.089432,19.096298,19.101791,19.099045,19.100418,19.101791,19.110031,19.111404,19.110031,19.108658,19.110031,19.108658,19.110031,19.115524,19.111404,19.114151,19.116898,19.116898,19.11827,19.11827,19.11827,19.119644,19.11827,19.11827,19.11827,19.119644,19.121017,19.12239,19.123764,19.125137,19.125137,19.12239,19.12239,19.123764,19.12651,19.116898,19.119644,19.125137,19.12651,19.127884,19.127884,19.129257,19.129257,19.13063,19.132004,19.132004,19.137497,19.133377,19.13475,19.136124,19.137497,19.137497,19.127884,19.129257,19.129257,19.13063,19.132004,19.13063,19.13063,19.129257,19.129257,19.133377,19.13475,19.119644,19.12239,19.12651,19.12651,19.125137,19.125137,19.121017,19.119644,19.119644,19.119644,19.12239,19.123764,19.125137,19.129257,19.127884,19.129257,19.13887,19.13887,19.140244,19.140244,19.13887,19.13887,19.121017,19.123764,19.123764,19.123764,19.125137,19.116898,19.121017,19.125137,19.125137,19.123764,19.125137,19.125137,19.125137,19.12651,19.127884,19.129257,19.13063,19.132004,19.119644,19.116898,19.11827,19.125137,19.125137,19.125137,19.121017,19.129257,19.136124,19.137497,19.13887,19.141617,19.14299,19.144363,19.145737,19.148483,19.144363,19.14711,19.149857,19.15123,19.152603,19.15535,19.15947,19.149857,19.153976,19.02214,19.033127,19.0345,19.0345,19.064713,19.05922,18.990555,19.0139,19.044113,19.074326,19.077072,19.081192,19.083939,19.104538,19.099045,19.107285,19.110031,19.096298,19.101791,19.101791,19.103165,19.103165,19.104538,19.114151,19.12651,19.148483,19.14711,19.148483,19.145737,19.140244,19.097672,19.097672,19.097672,19.077072,19.12239,19.132004,19.14299,19.14299,19.14299,19.14299,19.144363,19.14711,19.144363,19.144363,19.153976,19.15947,19.160843,19.16359,19.164963,19.170456,19.173203,19.174576,19.17595,19.177322,19.180069,19.181442,19.184189,19.189682,19.192429,19.196548,19.197922,19.203415,19.195175,19.195175,19.195175,19.207535,19.210281,19.225388,19.215775,19.219894,19.232254,19.23088,19.23912,19.17595,19.200668,19.202042,19.160843,19.162216,19.16359,19.16359,19.160843,19.162216,19.16359,19.16771,19.178696,19.182816,19.186935,19.196548,19.200668,19.199295,19.200668,19.202042,19.202042,19.204788,19.23912,19.23912,19.295425,19.298172,19.298172,19.250107,19.25148,19.2556,19.256973,19.258347,19.25972,19.25972,19.261093,19.26384,19.292679,19.300919,19.302292,19.317398,19.33525,19.295425,19.299545,19.320145,19.173203,19.174576,19.17595,19.17595,19.174576,19.17183,19.174576,19.170456,19.17183,19.182816,19.184189,19.184189,19.185562,19.185562,19.186935,19.186935,19.186935,19.188309,19.191055,19.195175,19.193802,19.203415,19.202042,19.193802,19.197922,19.200668,19.200668,19.199295,19.199295,19.186935,19.188309,19.188309,19.188309,19.200668,19.208908,19.207535,19.215775,19.225388,19.210281,19.222641,19.225388,19.22676,19.200668,19.241867,19.245987,19.261093,19.26384,19.324265,19.269333,19.269333,19.270706,19.270706,19.273453,19.273453,19.27208,19.337997,19.34349,19.340744,19.34761,19.348984,19.34761,19.38881,19.412155,19.446487,19.446487,19.44786,19.439621,19.439621,19.440994,19.527512,22.316666,22.331772,22.335892,22.37297,22.399063,22.396317,22.41829,22.430649,22.49382,20.841751,21.00792,19.81041,19.865341,20.149612,20.218277,20.218277,20.21965,20.221024,20.351486,20.234756,20.23613,20.23613,20.274582,20.288315,20.34874,20.413284,21.076584,21.072464,21.073837,20.742874,20.76622,20.789566,20.79918,20.812912,20.88707,20.888443,20.906296,20.90355,20.90355,20.904922,20.906296,21.040878,21.049118,21.044998,21.046371,21.073837,21.077957,21.084824,20.9626,21.001053,21.001053,21.086197,21.084824,22.275467,22.237015,22.246628,22.246628,22.274094,22.318039,22.28508,21.09993,21.113663,21.11229,21.17546,21.178207,21.137009,21.134262,21.137009,21.161728,21.138382,21.138382,21.139755,21.1837,21.223526,21.119156,21.131516,21.131516,21.132889,21.132889,21.197433,21.197433,21.197433,21.198807,21.198807,21.198807,21.20018,21.20018,21.268845,21.257858,21.201553,21.201553,21.201553,21.201553,21.201553,21.202927,21.22078,21.22078,21.215286,21.139755,21.226273,21.211166,21.211166,21.330643,21.686325,21.698685,21.723404,21.781082,21.782455,21.796188,21.587448,21.516037,21.573715,21.548996,21.55037,21.580582,21.616287,21.616287,21.632767,21.683578,21.720657,21.72203,21.808548,21.837387,21.896439,22.403183,16.991043,16.98967,17.011642,16.98967,16.975937,17.464828,17.525253,17.208023,17.037735,17.037735,17.037735,17.037735,17.087173,17.360458,17.489548,17.506027,17.508774,17.508774,17.508774,17.510147,17.283554,17.983932,18.08281,18.139114,18.159714,17.692795,17.766953,17.812271,17.809525,18.085556,18.136368,17.273941,17.273941,17.901535,18.115768,18.115768,18.198166,17.680435,17.809525,18.26271,18.526382,18.531876,18.540115,18.581314,18.581314,18.58818,18.593674,18.593674,18.593674,18.593674,18.610153,18.581314,18.549728,18.60878,18.610153,18.632126,18.945236,18.953476,18.916397,18.916397,18.68431,18.669205,18.634872,18.673325,18.641739,18.649979,18.671951,18.674698,18.658218,18.656845,18.658218,18.658218,18.659592,18.656845,18.656845,18.658218,18.674698,18.69667,18.69667,18.682938,18.69255,18.703537,18.779068,18.750229,18.751602,18.757095,18.763962,18.724136,18.724136,18.72551,18.736496,18.74199,18.72551,18.72551,18.72551,18.72963,18.726883,18.740616,18.746109,18.743362,18.748856,18.761215,18.743362,18.748856,18.7928,18.814774,18.454971,18.529129,18.476944,18.494797,18.497543,18.498917,18.50029,18.497543,18.490677,18.556595,18.603287,18.555222,18.546982,18.562088,18.578568,18.563461,18.566208,18.581314,18.589554,18.611526,18.6129,18.614273,18.615646,18.614273,18.622513,18.660965,18.667831,18.673325,18.687057,18.868332,18.774948,18.783188,18.80104,18.802414,19.019394,19.15947,19.15947,19.140244,19.184189,19.193802,19.195175,19.196548,19.197922,19.244614,19.245987,19.245987,19.24736,19.24736,19.24736,19.24736,19.294052,19.328384,19.283066,19.28444,19.28444,19.328384,19.329758,19.331131,19.331131,19.375076,19.445114,19.079819,19.177322,17.396164,17.530746,17.40715,17.409897,17.409897,17.41539,17.405777,17.433243,17.462082,17.521133,17.510147,17.500534,17.49916,17.49916,17.574692,17.577438,17.562332,17.232742,17.235489,17.231369,17.268448,17.341232,17.353592,17.367325,17.370071,17.482681,17.50328,17.506027,17.51976,17.445602,17.521133,17.581558,17.596664,17.625504,17.584305,17.580185,17.580185,17.581558,17.606277,17.606277,18.29567,18.41652,18.417892,19.197922,19.298172,19.173203,19.178696,18.50853,18.519516,18.529129,18.533249,18.537369,18.538742,18.538742,18.540115,19.848862,19.962845,20.389938,21.009293,20.391312,19.817276,19.817276,19.81865,19.829636,19.884567,19.90654,19.880447,19.880447,19.909286,21.233139,21.20018,21.66298,21.853867,21.868973,22.221909,22.223282,22.341385,22.437515,22.312546,22.312546,22.312546,21.686325,21.797562,21.829147,21.831894,21.831894,21.833267,21.833267,20.994186,21.823654,21.825027,21.820908,21.82228,22.175217,22.340012,21.903305,21.904678,21.903305,21.904678,11.529465,11.530838,11.537704,11.540451,11.545944,11.56929,11.56929,11.567917,11.57753,11.717606,11.865921,11.870041,11.916733,11.919479,11.920853,11.934586,11.938705,11.934586,11.935959,11.940079,11.940079,12.924728,12.919235,12.919235,13.171921,13.182907,13.1801605,13.1801605,13.1801605,13.178787,13.1801605,13.178787,13.141708,13.143082,12.784653,12.784653,12.786026,12.786026,12.786026,12.786026,12.787399,12.948074,12.949448,12.948074,12.945328,12.949448,12.97142,12.97142,12.972794,12.972794,12.963181,12.963181,12.945328,12.828598,12.828598,12.7695465,12.860184,12.861557,12.860184,12.861557,12.86293,12.86293,12.954941,12.982407,12.99614,12.994766,12.998886,13.004379,12.993393,12.993393,12.994766,12.99614,12.994766,12.994766,12.99614,12.99614,12.993393,12.993393,12.99202,12.993393,12.993393,12.994766,12.994766,12.994766,12.99614,12.99614,12.994766,12.994766,12.994766,12.994766,12.99614,12.99614,12.99614,12.997513,12.998886,12.997513,12.997513,12.998886,12.998886,12.997513,12.997513,12.998886,12.997513,13.005753,13.005753,12.97554,13.015366,13.045578,13.016739,13.018112,13.059311,13.4726715,13.4726715,13.512497,13.555069,12.893143,12.9673,12.968674,12.968674,12.970047,12.970047,12.968674,13.07991,13.136215,13.134842,13.158188,13.134842,13.136215,13.1375885,13.138962,13.140335,13.187027,13.29277,17.258835,17.51976,17.97432,18.493423,17.056961,17.703781,17.709274,17.698288,17.699661,17.699661,17.702408,17.703781,17.706528,17.705154,19.928513,19.929886,19.774704,19.81041,19.811783,19.81041,19.825516,19.832382,19.833755,19.837875,19.837875,19.841995,19.843369,19.843369,19.844742,19.787064,19.782944,19.782944,19.776077,19.776077,19.837875,19.903793,19.905167,19.90654,19.901047,19.8983,19.899673,19.90242,19.903793,19.903793,19.90242,19.907913,19.907913,19.909286,19.91066,19.912033,19.916153,19.917526,19.913406,19.91478,19.916153,19.916153,19.917526,19.9189,19.920273,19.9189,19.921646,19.92302,19.925766,19.932632,19.934006,19.935379,19.936752,19.938126,19.939499,19.940872,19.942245,19.944992,19.943619,19.944992,20.032883,19.92714,20.939255,21.049118,21.054611,21.060104,21.061478,21.06285,21.06285,21.064224,21.064224,21.064224,21.065598,21.061478,21.061478,21.06285,21.06285,21.020279,21.006546,20.663223,20.664597,21.09581,21.150742,21.146622,21.190567,21.432266,21.447372,21.150742,21.150742,21.230392,21.121902,21.121902,21.227646,21.22902,22.052994,22.05162,22.052994,22.094193,22.095566,22.095566,21.105423,21.139755,21.194687,21.19606,21.19606,21.102676,21.101303,21.102676,21.805801,21.816788,21.818161,21.818161,20.668716,21.22078,21.246872,21.246872,21.252365,21.230392,21.190567,21.19194,21.377335,21.373215,21.373215,21.373215,21.374588,21.375961,21.370468,21.380081,21.985703,22.107925,22.05574,22.05574,22.057114,22.057114,22.057114,22.058487,22.125778,22.14775,22.146378,22.061234,22.061234,22.061234,22.061234,22.153244,22.149124,22.150497,22.15187,22.153244,22.15599,22.157364,22.157364,21.966476,21.96785,21.970596,22.029648,22.029648,22.002182,22.018661,22.342758,22.342758,22.345505,22.36473,22.344131,22.344131,22.344131,22.345505,22.345505,22.345505,22.345505,22.345505,22.345505,22.346878,22.346878,22.348251,22.348251,22.348251,22.346878,22.346878,22.346878,22.346878,22.352371,22.352371,22.352371,22.352371,22.352371,22.352371,22.352371,22.353745,22.353745,22.263107,22.261734,22.26448,22.26036,22.265854,22.322159,22.322159,22.322159,22.322159,22.322159,22.322159,22.323532,22.323532,22.323532,22.322159,22.322159,22.323532,22.323532,22.322159,22.323532,22.323532,22.265854,22.271347,22.27272,22.269974,22.324905,22.324905,22.326279,22.326279,22.327652,22.329025,22.344131,22.345505,22.345505,22.344131,22.344131,22.349625,22.348251,22.346878,22.346878,22.348251,22.348251,22.349625,22.349625,22.349625,22.349625,22.349625,22.350998,22.350998,22.350998,22.346878,22.352371,22.352371,22.352371,22.352371,22.324905,22.324905,22.326279,22.324905,22.324905,22.335892,22.335892,22.337265,22.337265,22.338638,22.337265,22.337265,22.337265,22.338638,22.338638,22.338638,22.338638,22.340012,22.340012,22.340012,22.341385,22.342758,22.344131,22.344131,22.344131,22.344131,22.338638,22.340012,22.340012,22.342758,22.326279,22.340012,22.342758,22.342758,22.346878,22.346878,22.346878,22.349625,22.361984,22.39357,22.394943,21.28395,21.32515,21.451492,21.527023,21.779709,21.74675,21.74675,21.74675,21.74675,21.74675,21.748123,21.748123,21.749496,21.749496,21.748123,21.748123,21.748123,21.748123,21.749496,21.749496,21.75087,21.75087,21.75087,21.748123,21.748123,21.748123,21.748123,21.749496,21.749496,21.749496,21.75087,21.75087,21.749496,21.749496,21.749496,21.749496,21.749496,21.749496,21.74675,21.74675,21.74675,21.74675,21.748123,21.748123,21.748123,21.748123,21.748123,21.770096,21.669846,21.671219,21.673965,21.673965,21.675339,21.676712,21.676712,21.679459,21.680832,21.672592,21.701431,21.71379,21.71379,21.71379,21.716537,21.716537,21.715164,21.715164,21.715164,21.715164,21.716537,21.716537,21.71379,21.71379,21.71379,21.712418,21.712418,21.711044,21.711044,21.711044,21.712418,21.712418,21.712418,21.712418,21.71379,21.715164,21.715164,21.715164,21.716537,21.716537,21.716537,21.715164,21.715164,21.715164,21.716537,21.715164,21.715164,21.715164,21.716537,21.749496,21.752243,21.75087,21.75087,21.752243,21.757736,21.760483,21.75911,21.785202,21.787949,21.786575,21.882706,21.882706,21.87584,21.87584,21.886826,21.886826,21.886826,21.886826,21.886826,21.886826,21.888199,21.890945,21.908798,21.910172,21.911545,22.054367,22.057114,21.999435,22.020035,22.020035,21.982956,21.87996,21.87996,21.918411,21.921158,21.915665,21.911545,21.914291,21.914291,21.915665,21.915665,21.915665,21.915665,21.915665,21.915665,21.912918,21.912918,21.914291,21.914291,21.911545,21.911545,22.103806,22.106552,22.106552,22.110672,22.036514,22.103806,22.091446,22.101059,22.107925,22.131271,22.131271,22.131271,22.131271,22.131271,22.131271,22.127151,22.109299,22.109299,22.085953,22.296066,22.29744,22.29744,22.29744,22.298813,22.29744,22.15599,21.954117,21.8264,21.827774,21.823654,21.85524,22.037888,22.037888,22.037888,22.037888,22.024155,22.037888,22.028275,22.028275,22.032394,22.028275,22.029648,22.029648,22.029648,22.029648,22.031021,22.031021,22.031021,22.031021,22.032394,22.033768,22.037888,22.037888,22.03926,22.040634,22.040634,22.03926,22.03926,22.042007,22.042007,22.042007,22.04338,22.03926,22.03926,22.03926,21.999435,21.999435,22.002182,22.003555,22.004929,22.004929,22.004929,22.006302,22.011795,22.011795,22.013168,22.013168,22.013168,22.013168,22.014542,22.015915,22.014542,22.028275,22.029648,22.028275,22.029648,22.029648,22.029648,21.798935,21.800308,21.82228,21.827774,21.816788,21.819534,21.820908,21.877213,21.877213,21.877213,21.896439,19.289932,19.289932,19.289932,19.289932,19.291306,19.294052,19.295425,19.292679,19.292679,19.294052,19.296799,19.299545,19.300919,19.300919,19.309158,19.311905,19.311905,20.884323,20.898056,20.89943,20.909042,20.876083,20.876083,20.952988,20.954361,20.95848,20.955734,20.952988,20.954361,20.954361,20.955734,20.955734,20.955734,20.955734,20.957108,20.957108,20.95848,20.959854,20.959854,20.961227,20.961227,20.961227,20.959854,20.959854,20.961227,20.959854,20.959854,20.959854,20.959854,20.950241,20.959854,20.959854,20.959854,20.95848,20.961227,20.961227,20.961227,20.9626,20.9626,20.9626,20.9626,20.9626,20.9626,20.9626,20.963974,20.963974,20.965347,20.96672,20.5616,20.600052,20.590439,20.597305,20.567093,20.808792,20.821152,20.796432,20.906296,20.906296,20.90767,20.90767,20.90355,20.90355,20.900803,20.900803,20.910416,20.75798,20.789566,20.74562,20.943375,20.948868,20.950241,20.950241,20.957108,20.95848,20.95848,20.961227,20.951614,20.951614,20.95848,20.947495,20.947495,20.948868,20.946121,20.950241,20.950241,20.959854,20.961227,20.933762,20.939255,20.948868,20.948868,20.948868,20.961227,20.940628,20.940628,20.942001,20.950241,20.950241,20.940628,20.947495,20.951614,20.952988,20.952988,20.955734,20.957108,20.961227,20.9626,20.963974,20.96672,20.968094,20.972214,20.968094,20.972214,20.972214,20.973587,20.981827,20.9626,20.965347,20.963974,20.963974,20.963974,20.980453,20.961227,20.955734,20.961227,20.952988,20.952988,20.952988,20.954361,20.954361,20.954361,20.955734,20.957108,20.959854,20.961227,20.961227,20.961227,20.9626,20.963974,20.965347,20.9626,20.35286,20.285568,20.286942,20.288315,20.310287,20.44487,20.447617,20.53688,20.539627,20.56572,20.567093,20.567093,20.763474,20.75798,20.759354,20.767593,20.7621,21.0038,20.922775,20.959854,20.961227,20.95848,20.961227,20.959854,20.961227,20.961227,20.961227,20.961227,20.972214,20.9832,20.9832,20.973587,21.0038,21.005173,21.0038,21.0038,21.005173,21.005173,21.005173,20.9626,20.9626,20.996933,20.939255,20.939255,20.939255,20.96672,20.812912,21.735764,21.614914,21.735764,21.966476,21.969223,21.96785,21.969223,21.973343,22.238388,22.238388,22.227402,22.223282,22.224655,22.227402,22.238388,22.239761,22.239761,22.237015,22.239761,22.31392,22.271347,21.847,21.85112,21.852493,21.87172,21.87584,21.878586,21.87584,21.877213,21.878586,21.87996,21.882706,21.882706,21.85112,21.85112,21.852493,21.852493,21.853867,21.85524,21.87996,21.881332,21.882706,21.881332,21.884079,21.8676,21.8676,21.923904,21.923904,21.922531,21.922531,21.922531,21.922531,21.923904,21.923904,21.926651,21.928024,21.93077,21.93077,21.932144,21.932144,21.932144,21.93077,21.929398,21.93077,21.932144,21.936264,21.852493,21.848373,21.848373,21.848373,21.848373,21.849747,21.85112,21.85112,21.85112,21.85112,21.85112,21.85112,21.848373,21.847,21.852493,21.853867,21.85524,21.856613,21.852493,21.852493,21.85936,21.860733,21.862106,21.8676,21.868973,21.86348,21.864853,21.866226,21.8676,21.870346,21.870346,21.8676,21.868973,21.870346,21.870346,21.87172,21.873093,21.874466,21.87584,21.877213,21.878586,21.87996,21.881332,21.881332,21.882706,21.884079,21.949997,21.949997,21.949997,21.949997,21.949997,21.948624,21.949997,21.948624,21.948624,21.949997,21.949997,21.95137,21.962357,21.97197,21.95137,21.95137,21.95137,21.95137,21.95137,21.95137,21.958237,21.95961,21.95961,21.95961,21.95961,21.885452,21.889572,21.892319,21.900558,21.901932,21.906052,21.928024,21.926651,21.925278,21.923904,21.923904,21.926651,21.910172,21.911545,21.915665,21.923904,21.923904,21.926651,21.928024,21.937637,21.93901,21.93901,21.932144,21.933517,21.932144,21.93489,21.936264,21.936264,21.937637,21.940384,21.944504,21.945877,21.945877,21.945877,21.93077,21.929398,21.929398,21.93077,21.932144,21.932144,21.93489,21.95961,21.93077,21.929398,21.929398,21.932144,21.929398,21.93077,21.932144,21.933517,21.936264,21.933517,21.93489,21.936264,21.936264,21.937637,21.93901,21.944504,21.949997,21.95137,21.952744,21.956863,21.958237,21.960983,21.965103,21.965103,21.962357,21.96373,21.965103,21.974716,21.974716,21.97609,21.974716,21.977463,21.987076,21.98845,21.98845,21.98845,21.989822,21.989822,21.989822,21.989822,21.991196,21.995316,21.996689,21.995316,21.996689,21.989822,21.989822,21.992569,21.991196,21.992569,21.992569,21.993942,21.98845,21.987076,21.989822,21.991196,21.996689,21.995316,21.996689,21.995316,21.996689,21.998062,21.999435,21.999435,22.000809,22.000809,22.002182,22.004929,22.009048,22.006302,22.007675,22.044754,22.0475,22.04338,22.044754,22.046127,22.050247,22.05162,22.05986,22.054367,22.054367,22.05574,22.05574,22.057114,22.057114,22.057114,22.033768,22.054367,22.052994,22.057114,22.05574,22.05574,22.057114,22.058487,22.114792,22.095566,22.09694,22.098312,22.08458,22.090073,22.103806,22.103806,22.103806,22.102432,22.102432,22.102432,22.103806,22.098312,22.09694,22.098312,22.101059,22.102432,22.102432,22.131271,22.131271,22.131271,22.134018,22.135391,22.135391,22.120285,22.125778,22.114792,22.106552,22.107925,22.109299,22.112045,22.113419,22.110672,22.110672,22.110672,22.116165,22.120285,22.121658,22.123032,22.125778,22.128525,22.128525,22.129898,22.132645,22.134018,22.145004,22.146378,22.127151,22.128525,22.129898,22.136765,22.132645,22.138138,21.804428,21.845627,21.844254,21.890945,22.009048,22.014542,22.018661,22.04338,22.05574,22.057114,22.0887,22.0887,22.090073,22.090073,22.090073,22.091446,22.091446,22.062607,22.07222,22.073593,22.081833,22.087326,22.087326,22.085953,22.087326,22.087326,22.0887,22.0887,22.109299,22.110672,22.112045,22.136765,22.136765,22.138138,22.139511,22.140884,22.142258,22.16835,22.16835,22.16835,22.344131,22.341385,22.361984,22.361984,22.361984,22.363358,22.363358,22.363358,22.38121,22.382584,22.383957,22.382584,22.383957,22.388077,22.41417,22.801437,22.85225,22.742386,22.758865,22.790451,22.801437,22.80281,22.80693,22.81105,22.83577,22.84401,22.546005,22.975845,23.010178,23.012924,22.995071,22.996445,23.004684,23.01979,23.071976,23.071976,23.037643,23.12004,23.298569,22.876968,23.316422,23.338394,22.80281,22.769852,22.887955,22.916794,22.893448,22.934647,22.951126,22.978592,22.970352,22.979965,23.001938,22.989578,23.001938,23.022537,23.026657,23.012924,23.021164,23.01979,23.021164,23.02391,23.022537,23.02391,23.025284,23.025284,23.025284,23.026657,23.026657,23.017044,22.962112,22.988205,22.989578,23.022537,23.022537,23.022537,23.026657,23.010178,23.010178,23.014297,22.982712,23.041763,23.033524,23.034897,23.04451,23.050003,23.05687,23.030777,23.04039,23.041763,23.047256,23.03627,23.037643,23.037643,23.039017,23.055496,23.055496,23.067856,23.070602,23.063736,23.071976,23.071976,23.080215,23.081589,23.077469,23.122787,23.029404,23.030777,23.030777,23.05275,23.073349,23.077469,23.093948,23.117294,22.926407,23.15712,23.15712,23.489456,23.207932,23.25325,23.25325,23.25325,27.796097,27.79747,27.88124,22.962112,23.814926,23.869858,22.595444,22.59819,22.59407,22.550125,22.636642,22.639389,22.697067,22.69844,22.705307,22.705307,22.683334,22.692947,22.692947,22.68608,22.688828,22.708054,22.708054,22.716293,22.71904,22.717667,22.69844,22.703934,22.708054,22.699814,22.701187,22.713547,22.713547,22.712173,22.692947,22.749252,22.738266,22.741013,22.745132,22.746506,22.746506,22.779465,22.769852,22.771225,23.117294,23.117294,23.183212,23.184586,23.185959,23.187332,23.16948,23.330154,23.330154,23.331528,23.343887,23.371353,23.238144,23.210678,23.210678,24.356003,24.45488,24.505692,24.588089,24.588089,24.604568,24.660873,24.068985,24.460373,24.945145,24.973984,25.123672,25.19783,22.600937,22.60231,22.962112,23.198318,23.199692,23.420792,23.26561,23.26561,23.271103,23.271103,23.309555,22.776718,22.756119,22.757492,22.757492,23.179092,23.16124,23.162613,23.17772,23.194199,23.184586,23.235397,23.229904,23.272476,23.272476,23.258743,23.260117,23.251877,23.251877,23.210678,23.212051,23.210678,23.231277,23.231277,23.251877,23.850632,23.836899,24.568863,24.645767,24.64714,24.645767,24.64714,24.702072,25.622177,26.20308,26.527176,25.31868,25.320053,25.321426,25.31868,25.320053,26.183853,27.99385,26.871872,26.888351,26.774368,26.785355,26.8293,26.92955,26.907578,26.92543,27.312698,27.635422,27.612076,27.618942,27.621689,27.628555,27.636795,27.750778,27.770004,28.117447,25.424423,25.424423,25.428543,25.456009,25.358505,25.888596,25.686722,25.685349,25.685349,25.682602,25.686722,26.488724,26.494217,26.496964,26.192093,26.193466,26.223679,26.226425,27.77275,27.757645,27.726059,27.728806,27.56401,27.892227,27.9142,27.916946,27.92244,27.92244,27.967758,27.975998,28.04741,27.665634,27.768631,27.768631,27.691727,28.124313,26.932297,26.932297,27.178116,27.305832,27.305832,27.305832,27.305832,27.305832,27.305832,27.305832,27.303085,27.257767,27.509079,27.509079,28.1147,28.916702,28.905716,28.89473,29.139175,30.596237,30.868149,28.160019,28.199844,28.21083,28.574753,28.576126,28.497849,28.499222,28.499222,28.551407,28.547287,28.550034,28.54866,28.555527,28.550034,28.554153,28.562393,28.554153,28.566513,28.567886,28.567886,28.567886,28.567886,28.56926,28.56926,28.567886,28.567886,28.610458,28.610458,28.599472,28.54042,28.241043,28.173752,28.23143,28.232803,28.228683,28.22731,28.23143,28.263016,28.265762,28.274002,28.275375,28.280869,28.282242,28.283615,28.283615,28.284988,28.284988,28.284988,28.286362,28.286362,28.286362,28.287735,28.287735,28.287735,28.287735,28.289108,28.293228,28.275375,28.268509,28.274002,28.289108,28.289108,28.289108,28.290482,28.290482,28.290482,28.290482,28.290482,28.291855,28.291855,28.291855,28.291855,28.293228,28.293228,28.294601,28.294601,28.295975,28.297348,28.36464,28.306961,28.308334,28.317947,28.317947,28.36876,28.370132,28.370132,28.381119,28.366013,28.370132,28.374252,28.375626,28.376999,28.376999,28.36876,28.36876,28.36876,28.36876,28.36876,28.36876,28.36876,28.36876,28.36876,28.36876,28.370132,28.371506,28.371506,28.372879,28.372879,28.372879,28.372879,28.372879,28.363266,28.361893,28.353653,28.355026,28.357773,28.357773,28.361893,28.361893,28.371506,28.372879,28.372879,28.372879,28.372879,28.379745,28.387985,28.371506,28.349533,28.3564,28.36464,28.385239,28.386612,28.392105,28.394852,28.403091,28.389359,28.392105,28.407211,28.407211,28.418198,28.390732,28.390732,28.390732,28.390732,28.392105,28.392105,28.407211,28.407211,28.418198,28.41957,28.41957,28.420944,28.411331,28.420944,28.429184,28.412704,28.414078,28.411331,28.414078,28.390732,28.396225,28.396225,28.400345,28.414078,28.414078,28.415451,28.451157,28.467636,28.232803,28.232803,28.22319,28.301468,28.378372,28.378372,28.398972,28.401718,28.403091,28.400345,28.400345,28.400345,28.400345,28.400345,28.405838,28.418198,28.420944,28.41957,28.449783,28.449783,28.466263,28.403091,28.42369,28.418198,28.411331,28.442917,28.437424,28.322067,28.304214,28.32756,28.361893,28.403091,28.420944,28.389359,28.397598,28.397598,28.404465,28.441544,28.44841,28.451157,28.449783,28.449783,28.45665,28.462143,28.462143,28.463516,28.463516,28.467636,28.403091,28.44841,28.474503,28.474503,28.474503,28.474503,28.602219,28.606339,28.607712,28.486862,28.482742,28.484116,28.482742,28.493729,28.506088,28.54454,28.54454,28.572006,28.572006,28.57338,28.57338,28.588486,28.566513,28.593979,28.596725,28.598099,28.600845,28.606339,28.607712,28.609085,28.696976,28.668137,28.680496,28.687363,28.688736,28.687363,28.687363,28.680496,28.778,28.776627,28.79036,28.788986,28.519821,28.485489,28.496475,28.522568,28.523941,28.525314,28.526688,28.52806,28.526688,28.534927,28.539047,28.5363,28.5363,28.5363,28.537674,28.539047,28.558273,28.55278,28.56102,28.511581,28.518448,28.518448,28.529434,28.534927,28.534927,28.5363,28.5363,28.5363,28.537674,28.537674,28.539047,28.541794,28.5569,28.555527,28.555527,28.555527,28.555527,28.5569,28.555527,28.555527,28.555527,28.555527,28.5569,28.55278,28.55278,28.54866,28.550034,28.55278,28.55278,28.543167,28.54454,28.54454,28.54454,28.545914,28.554153,28.554153,28.555527,28.555527,28.555527,28.554153,28.558273,28.534927,28.534927,28.5363,28.5363,28.539047,28.537674,28.539047,28.539047,28.537674,28.525314,28.525314,28.525314,28.547287,28.547287,28.551407,28.55278,28.570633,28.580246,28.591232,28.591232,28.591232,28.588486,28.588486,28.589859,28.589859,28.570633,28.570633,28.570633,28.570633,28.582993,28.58162,28.591232,28.592606,28.593979,28.595352,28.613205,28.614578,28.631058,28.643417,28.643417,28.625565,28.625565,28.631058,28.631058,28.607712,28.611832,28.609085,28.613205,28.614578,28.615952,28.615952,28.635178,28.478622,28.481369,28.496475,28.497849,28.501968,28.499222,28.507462,28.507462,28.507462,28.507462,28.511581,28.517075,28.522568,28.486862,28.486862,28.493729,28.493729,28.496475,28.496475,28.492355,28.508835,28.501968,28.510208,28.511581,28.511581,28.512955,28.510208,28.511581,28.492355,28.492355,28.522568,28.537674,28.54866,28.543167,28.543167,28.57338,28.570633,28.56926,28.610458,28.572006,28.584366,28.58574,28.582993,28.584366,28.622818,28.646164,28.670883,28.666763,28.659897,28.684616,28.684616,28.68599,28.691483,28.692856,28.692856,28.692856,28.695602,28.683243,28.683243,28.683243,28.683243,28.683243,28.691483,28.692856,28.68599,28.687363,28.68187,28.68187,28.67775,28.67775,28.68187,28.695602,28.738174,28.738174,28.696976,28.696976,28.712082,28.725815,28.679123,28.680496,28.680496,28.688736,28.67363,28.703842,28.703842,28.707962,28.698349,28.738174,28.705215,28.709335,28.710709,28.713455,28.727188,28.734055,28.734055,28.735428,28.735428,28.736801,28.739548,28.739548,28.738174,28.738174,28.738174,28.739548,28.739548,28.739548,28.731308,28.732681,28.735428,28.736801,28.76564,28.76564,28.76564,28.778,28.740921,28.740921,28.742294,28.742294,28.743668,28.746414,28.746414,28.747787,28.742294,28.740921,28.751907,28.75328,28.75328,28.756027,28.75328,28.7574,28.758774,28.772507,28.78212,28.78212,28.778,28.78212,28.783493,28.764267,28.788986,28.809586,28.809586,28.813705,28.810959,28.812332,28.666763,28.67363,28.675003,28.675003,28.687363,28.66951,28.66951,28.670883,28.67363,28.67775,28.679123,28.679123,28.680496,28.713455,28.713455,28.714828,28.714828,28.717575,28.717575,28.734055,28.734055,28.734055,28.738174,28.739548,28.699722,28.702469,28.703842,28.67363,28.676376,28.676376,28.675003,28.676376,28.695602,28.701096,28.710709,28.710709,28.710709,28.712082,28.701096,28.706589,28.699722,28.701096,28.709335,28.716202,28.723068,28.747787,28.751907,28.74504,28.768387,28.775253,28.775253,28.779373,28.9991,29.000473,29.00322,29.325943,28.87413,28.875504,28.876877,29.130936,29.155655,28.830185,28.838425,28.838425,28.838425,28.841171,28.856277,28.856277,28.856277,28.85765,28.85765,28.875504,28.96202,28.997726,28.837051,29.026566,29.071884,29.143295,29.144669,29.34105,29.34105,29.393234,29.42482,29.427567,29.427567,29.43306,29.434433,29.43306,29.492111,29.240799,29.244919,29.244919,29.398727,29.431686,29.43306,29.43306,29.435806,29.43718,29.43718,29.438553,29.44542,29.446793,29.448166,29.450912,29.452286,29.459152,29.460526,28.171005,28.171005,28.171005,28.177872,28.194351,28.194351,28.171005,28.171005,28.172379,28.173752,28.172379,28.175125,28.175125,28.176498,28.176498,28.177872,28.165512,28.166885,28.166885,28.165512,28.265762,28.267136,28.33168,28.355026,28.451157,28.463516,28.316574,28.316574,28.316574,28.317947,28.317947,28.434677,28.512955,28.486862,28.492355,28.492355,28.5363,28.550034,28.510208,28.533554,28.533554,28.523941,28.523941,28.523941,28.53218,28.547287,28.56102,28.562393,28.530807,28.530807,28.53218,28.566513,28.566513,28.611832,28.617325,28.580246,28.58162,28.596725,28.596725,28.574753,28.582993,28.602219,28.650284,28.497849,28.512955,28.511581,28.69011,28.65303,28.67775,28.687363,28.703842,28.703842,28.703842,28.675003,28.65303,28.65303,28.670883,28.725815,28.76976,28.771133,28.655777,28.65303,28.688736,28.699722,28.701096,28.79036,28.780746,28.923569,29.672012,29.534683,29.536057,29.54567,29.596481,29.582748,29.584122,29.622574,29.72145,29.722824,29.722824,29.722824,29.744797,29.74205,29.74205,29.801102,29.805222,29.840927,29.681625,29.707718,29.722824,29.731064,29.732437,29.710464,29.710464,29.707718,29.901352,29.912338,29.97551,29.976883,29.978256,29.97963,30.024948,30.174637,30.16365,30.169144,30.170517,30.173264,30.041428,30.049667,30.05516,29.99199,30.230942,30.925827,30.353165,30.357285,30.375137,30.30098,30.30098,30.340805,30.342178,30.338058,30.339432,30.339432,30.339432,30.339432,30.340805,30.340805,30.340805,30.58525,30.28862,30.31334,30.343552,30.36827,30.732193,30.733566,30.733566,30.715714,30.715714,30.717087,30.703354,30.73494,30.586624,30.616837,30.69786,30.840683,30.875015,30.892868,30.899734,30.899734,30.899734,30.91072,29.86702,29.99199,30.398483,30.261154,30.262527,30.265274,30.277634,30.269394,30.27214,30.270767,30.270767,30.26802,30.273514,30.281754,30.287247,30.28862,30.28862,30.289993,30.289993,30.29274,30.294113,30.302353,30.299606,30.302353,30.303726,30.3051,30.306473,30.306473,30.306473,30.307846,30.30922,30.31334,30.314713,30.316086,30.316086,30.316086,30.316086,30.316086,30.31746,30.31746,30.316086,30.316086,30.316086,30.320206,30.320206,30.321579,30.336685,30.336685,30.333939,30.324326,30.325699,30.322952,30.322952,30.324326,30.324326,30.322952,30.324326,30.324326,30.327072,30.328445,30.350418,30.295486,30.320206,30.31746,30.310593,30.30922,30.306473,30.322952,30.324326,30.324326,30.325699,30.324326,30.324326,30.324326,30.324326,30.324326,30.335312,30.342178,30.362778,30.364151,30.371017,31.628952,31.630325,31.310349,31.313095,31.532822,32.305984,32.314224,33.257675,33.36891,33.36891,32.682266,32.69188,32.68364,32.68364,32.685013,32.685013,32.686386,32.686386,32.68776,32.689133,32.689133,32.690506,32.584763,32.645187,32.64244,32.652054,32.653427,32.653427,32.678146,32.682266,32.676773,32.678146,32.682266,32.668533,32.67128,32.68776,32.68776,32.55867,32.706985,32.82509,32.70012,32.701492,32.702866,32.705612,32.711105,32.75917,32.757797,32.760544,32.764664,32.822342,32.741318,32.74269,32.74269,32.745438,32.774277,32.77565,32.778397,32.70836,32.71248,32.727585,32.75505,32.756424,32.766037,32.786636,32.8347,32.852554,32.853928,32.8553,32.88002,32.936325,32.98439,32.59987,32.61635,32.614975,33.366165,33.378525,33.721848,33.565292,33.56804,33.625717,33.62709,33.62709,33.61885,33.633957,33.632584,33.638077,33.636703,33.636703,33.646317,33.653183,33.61885,33.683395,33.691635,33.68889,33.68889,33.746567,31.270523,31.46965,30.949173,31.266403,31.24855,31.012344,31.008224,31.041183,31.078262,31.097488,31.100235,31.101608,31.097488,31.097488,31.098862,31.104355,31.339188,31.3488,31.597366,31.59874,31.71135,31.689377,31.68663,31.876144,31.876144,32.110977,32.23732,32.238693,32.234573,32.235947,32.23732,32.240067,32.09587,32.190628,31.705856,31.67015,31.47377,31.514969,31.514969,31.516342,23.110428,23.110428,22.967606,23.087082,23.154373,23.14888,23.14888,23.168106,23.172226,23.82042,23.821793,23.821793,23.823166,23.832779,23.832779,23.47435,23.475723,23.832779,23.308182,23.309555,23.316422,24.757004,24.757004,24.758377,24.750137,24.773483,24.853134,24.906693,24.247513,24.263992,24.259872,24.601822,24.568863,24.56749,24.568863,24.574356,24.296951,24.269485,24.270859,24.520798,24.531784,24.533157,24.52629,24.53041,24.625168,23.150253,23.151627,23.163986,23.166733,23.183212,23.183212,23.183212,23.185959,23.950882,24.11293,24.11293,24.114304,24.14177,24.128036,24.12941,24.12941,24.130783,24.115677,24.118423,24.143143,24.22142,24.22142,24.222794,24.222794,24.22554,24.22554,24.215927,24.215927,24.2173,24.2173,24.215927,24.211807,24.211807,24.211807,24.207687,24.20906,24.20906,24.2173,23.979721,23.981094,24.070358,24.067612,24.071732,24.110184,24.119797,24.122543,24.123917,24.119797,24.119797,24.119797,24.119797,24.119797,24.123917,24.12117,24.12117,24.122543,24.10881,24.110184,24.123917,24.140396,24.128036,24.128036,24.134903,24.140396,24.143143,24.152756,24.160995,24.162369,24.163742,24.162369,24.169235,24.169235,24.167862,24.167862,24.167862,24.169235,24.169235,24.169235,24.165115,24.166489,24.166489,24.166489,24.167862,24.167862,24.167862,24.126663,24.128036,24.128036,24.128036,24.158249,24.158249,24.152756,24.169235,24.11705,24.11705,24.12117,24.136276,24.147263,24.148636,24.134903,24.136276,24.152756,24.152756,24.152756,24.15001,24.152756,24.151382,24.154129,24.20906,24.20906,24.20906,24.20906,24.199448,24.20082,24.202194,24.20082,24.202194,24.202194,24.202194,24.202194,24.206314,24.206314,24.203568,24.203568,24.203568,24.203568,24.20494,24.20494,24.21318,24.215927,24.184341,24.991837,24.432907,24.53041,24.540024,24.541397,24.615555,24.618301,24.619675,24.611435,24.618301,24.621048,24.621048,24.621048,24.627914,24.633408,24.64714,25.164871,25.164871,25.307693,25.307693,25.184097,24.746017,24.953384,25.347519,25.332413,25.332413,25.333786,25.328293,25.324173,25.325546,25.32692,25.32692,25.32692,25.329666,25.350266,25.351639,25.33516,25.33516,25.336533,25.33516,25.33516,25.336533,25.336533,25.337906,25.33928,25.33516,25.337906,25.33928,25.3434,25.33516,25.33928,25.336533,25.33516,25.342026,25.348892,25.350266,25.351639,25.353012,25.403824,25.403824,25.403824,25.405197,25.405197,25.405197,25.407944,25.40657,25.40657,25.407944,25.407944,25.409317,25.41069,25.413437,25.41481,25.41481,25.412064,25.413437,25.413437,25.412064,25.412064,25.412064,25.412064,25.420303,25.425797,25.42717,25.42717,25.33104,25.33104,25.332413,25.333786,25.324173,25.337906,25.344772,25.361252,25.392838,25.361252,25.358505,25.358505,25.358505,25.362625,25.363998,25.365372,25.366745,25.368118,25.368118,25.369492,25.370865,25.370865,25.372238,25.377731,25.385971,25.384598,25.384598,25.384598,25.379105,25.381851,25.381851,25.33104,25.354385,25.355759,25.357132,25.409317,25.409317,25.413437,25.434036,26.565628,26.016312,26.046524,26.020432,26.020432,25.456009,25.460129,25.464249,25.51506,25.568619,25.905075,25.913315,25.933914,25.94078,25.942154,25.9449,25.954514,25.955887,26.141281,26.142654,26.465378,26.466751,26.462631,26.462631,26.465378,26.465378,26.464005,26.464005,26.464005,26.465378,26.468124,26.469498,26.470871,26.466751,26.468124,26.466751,26.472244,26.476364,26.47911,26.480484,26.481857,26.480484,26.588974,26.588974,26.606827,26.61644,26.61644,26.617813,26.619186,26.617813,26.619186,26.62056,26.626053,26.2072,26.205826,26.205826,26.2072,26.208572,26.196213,26.19484,26.196213,26.197586,26.980362,27.110825,27.341537,27.344284,27.34291,27.349777,27.34703,27.345657,27.345657,27.370377,27.356644,28.008957,28.121567,28.121567,28.124313,27.340164,27.341537,27.341537,27.34291,27.34291,26.740036,25.377731,25.377731,25.379105,25.380478,25.380478,25.44777,25.370865,25.39009,25.465622,25.758133,25.329666,25.61943,25.598831,25.613937,25.609818,25.61531,25.620804,25.622177,25.620804,26.05339,26.690598,26.226425,26.836166,26.80458,26.885605,26.886978,26.885605,26.826553,26.834793,26.834793,26.83754,26.84578,26.862259,26.778488,26.783981,26.783981,26.783981,26.788101,26.740036,26.735916,26.81282,26.867752,26.827927,26.83342,26.834793,26.755142,26.757889,26.759262,26.753769,26.757889,26.763382,23.784714,23.786087,23.78746,23.814926,23.8163,23.843765,23.845139,23.845139,23.845139,23.846512,23.846512,23.846512,23.849258,23.849258,23.849258,23.847885,23.739395,23.732529,23.732529,23.738022,23.810806,23.827286,23.82866,23.832779,23.830032,23.830032,23.831406,23.831406,23.831406,23.830032,23.831406,23.831406,23.839645,23.82866,23.841019,23.842392,23.841019,23.842392,23.842392,23.843765,23.843765,23.843765,23.845139,23.845139,23.842392,23.842392,23.842392,23.842392,23.846512,23.847885,23.847885,23.847885,23.849258,23.849258,23.841019,23.842392,23.842392,23.841019,23.842392,23.842392,23.854752,23.856125,23.856125,23.857498,23.858871,23.842392,23.862991,23.864365,23.371353,23.409805,23.387833,23.514175,23.515549,23.407059,23.516922,23.563614,23.905563,23.880844,23.882217,23.882217,23.88359,23.878098,23.87947,23.880844,23.882217,23.882217,23.882217,23.882217,23.77922,23.77922,23.777847,23.780594,23.780594,23.780594,23.7751,23.776474,23.777847,23.776474,23.777847,23.77922,22.786331,22.808304,22.779465,22.860489,22.861862,22.861862,22.861862,22.872849,23.77098,23.77922,23.777847,23.780594,23.776474,23.636398,23.637772,23.637772,23.640518,23.640518,23.636398,23.67073,23.68721,23.68721,23.68721,23.681717,23.780594,23.739395,23.766861,23.792953,23.792953,23.56224,23.56224,23.563614,23.56636,23.68309,23.735275,23.736649,23.776474,23.777847,23.788834,23.788834,23.788834,24.56749,23.91243,23.911057,23.92067,23.935776,23.935776,23.938522,23.938522,23.938522,23.938522,23.939896,23.953629,23.959122,23.960495,23.968735,23.970108,23.972855,23.972855,23.972855,23.972855,23.972855,23.972855,23.972855,23.972855,24.159622,24.432907,24.585342,24.739151,24.79683,24.619675,24.89296,25.22255,25.243149,25.247269,22.695694,22.697067,22.570724,22.570724,22.51442,22.642136,22.680588,22.688828,22.692947,22.697067,22.69844,22.69844,22.69844,22.724533,22.724533,22.725906,22.725906,22.725906,22.724533,22.724533,22.725906,22.813797,22.947006,23.133774,23.1324,23.073349,23.483963,23.203812,23.258743,23.260117,23.689957,23.689957,23.790207,23.92067,23.935776,23.935776,23.946762,23.945389,23.955002,24.051132,24.052505,24.075851,24.077225,24.077225,24.077225,24.079971,24.081345,24.081345,24.082718,24.084091,24.085464,24.086838,24.085464,24.088211,24.089584,24.090958,24.09233,24.093704,24.099197,24.10057,24.103317,24.111557,24.107437,24.10469,24.106064,24.110184,24.111557,24.110184,24.110184,24.11293,24.11293,24.115677,24.314804,24.298325,24.564743,24.564743,24.564743,24.564743,24.56337,24.564743,24.56749,24.56749,24.56749,24.56749,24.566116,24.56749,24.572983,24.572983,24.574356,24.574356,24.594955,24.605942,23.938522,24.198074,24.123917,24.15001,24.151382,24.155502,23.9962,24.291458,24.269485,24.299698,24.314804,24.318924,24.323044,24.32167,24.32579,24.339523,24.343643,24.347763,24.357376,24.262619,24.773483,24.706192,24.721298,24.722672,24.623795,24.625168,24.626541,24.629288,24.630661,24.632034,24.633408,24.633408,24.632034,24.632034,24.632034,24.633408,24.685593,24.696579,24.696579,24.630661,24.630661,24.630661,24.630661,24.630661,24.630661,24.629288,24.629288,24.630661,24.627914,24.627914,24.626541,24.626541,24.627914,24.629288,24.629288,24.626541,24.626541,24.626541,24.626541,24.626541,24.625168,24.625168,24.625168,24.626541,24.626541,24.626541,24.626541,24.626541,24.623795,24.623795,24.621048,24.621048,24.632034,24.632034,24.632034,24.632034,24.632034,24.632034,24.6389,24.725418,24.735031,24.75975,24.75975,24.766617,24.770737,24.78035,24.849014,24.821548,24.829788,25.247269,25.243149,25.243149,25.243149,25.245895,25.247269,25.247269,25.039902,25.044022,25.195084,25.196457,25.196457,24.669113,24.6801,24.682846,24.68422,24.693832,24.695206,24.696579,24.65538,24.658127,24.656754,24.697952,24.699326,24.708939,24.713058,24.714432,24.715805,24.718552,24.719925,24.721298,24.722672,24.724045,24.725418,24.726791,24.728165,24.733658,24.735031,24.737778,24.740524,24.744644,24.746017,24.74739,24.752884,24.754257,24.75563,24.75975,24.783096,24.78447,24.78035,24.807816,24.807816,24.807816,24.822922,24.822922,25.405197,25.464249,25.54802,25.517807,25.574112,25.572739,25.571365,25.575485,25.575485,25.574112,25.583725,25.626297,25.582352,25.616684,25.883102,26.669998,25.392838,25.880356,25.880356,25.880356,26.216812,26.351395,25.451889,25.620804,26.685104,26.715317,26.47499,26.472244,26.742783,26.72493,27.049026,27.081985,27.17949,27.194595,27.178116,27.184982,27.25914,27.25914,27.25914,27.25914,28.809586,29.113083,29.121323,29.11583,29.118576,29.121323,29.135056,29.143295,29.159775,29.162521,29.163895,29.165268,29.166641,29.162521,29.168015,29.165268,29.166641,29.168015,29.169388,29.169388,29.170761,29.172134,29.173508,29.173508,29.174881,29.176254,29.174881,29.174881,29.176254,29.177628,29.169388,29.169388,29.169388,29.169388,29.174881,29.174881,29.159775,29.034805,34.025345,33.96904,34.02672,34.02672,34.03221,34.02809,34.030838,34.04045,34.04045,34.041824,33.786392,33.79875,33.79875,33.80974,33.79875,33.80287,33.804245,33.841324,33.91548,33.941574,33.94844,33.97728,33.99376,33.995132,33.999252,33.991013,34.02397,34.150314,34.150314,34.166794,34.500504,34.555435,11.614609,11.614609,11.617355,11.618729,11.620102,11.620102,11.621475,11.621475,11.6228485,11.6228485,11.621475,11.621475,11.624222,11.624222,23.727036,23.731155,23.735275,24.791336,24.728165,24.90944,24.928665,25.190964,25.19783,25.203323,25.190964,25.190964,25.219803,25.22255,25.221176,25.22255,25.243149,25.243149,25.244522,25.244522,25.243149,25.243149,25.22667,25.240402,25.240402,25.015182,24.967117,23.641891,26.116562,26.168747,26.425552,26.485977,26.48735,26.388474,26.465378,26.505203,26.510696,26.52443,25.992966,26.071243,26.115189,26.189346,26.108322,26.115189,26.115189,26.116562,26.111069,26.15776,26.15776,26.159134,26.160507,26.160507,26.159134,26.160507,26.197586,26.200333,26.193466,26.193466,26.201706,26.308823,26.344528,26.344528,26.344528,26.076736,26.101456,26.101456,26.100082,26.100082,26.100082,26.100082,26.100082,26.101456,26.102829,26.102829,26.102829,26.112442,26.112442,26.119308,26.119308,26.113815,26.109695,26.119308,26.119308,26.119308,26.116562,26.117935,26.159134,26.17012,26.17836,26.108322,26.108322,26.104202,26.112442,26.453018,26.435165,26.436539,26.433792,26.329422,26.362381,26.359634,26.361008,26.363754,26.711197,26.71257,26.698837,26.376114,26.680984,25.822678,25.821304,25.819931,25.819931,25.895462,25.847397,25.867996,25.894089,25.858383,25.966873,26.101456,26.102829,26.097336,26.100082,26.09871,26.101456,26.141281,26.141281,26.104202,26.105576,26.108322,26.109695,26.112442,26.113815,26.115189,26.116562,26.117935,26.119308,26.120682,26.122055,26.123428,26.124802,26.126175,26.127548,26.128922,26.130295,26.131668,26.133041,26.135788,26.134415,26.137161,26.138535,26.139908,26.49559,26.513443,26.513443,26.529922,26.536789,26.572495,26.573868,26.593094,26.597214,26.63292,26.631546,27.075119,27.090225,27.091599,27.105331,27.116318,27.124557,27.157516,27.112198,27.113571,27.109451,27.12181,27.362137,27.333298,27.333298,27.333298,27.331924,27.331924,27.330551,27.330551,27.331924,27.331924,27.333298,27.333298,27.35115,27.352524,27.353897,27.353897,27.35527,27.35527,27.35527,27.364883,27.366257,27.364883,27.366257,27.366257,27.37587,27.337418,27.33879,27.341537,27.34291,27.34291,27.344284,27.344284,27.34703,27.348404,27.348404,27.348404,27.35527,27.35527,27.35527,27.35527,27.35527,27.35527,27.35115,27.35115,27.35115,27.35115,27.35115,27.352524,27.353897,27.35527,27.356644,27.356644,27.356644,27.356644,27.356644,27.356644,27.356644,27.358017,27.48436,27.493973,27.495346,27.57225],\"lon\":[77.70012,77.72484,76.63307,76.89674,76.9091,76.69899,76.69899,76.70723,76.52321,77.64519,77.64519,77.64656,77.65068,77.68364,77.68776,77.694626,77.65617,77.67815,77.68089,77.89513,76.18675,76.15242,76.23619,76.3488,76.00685,75.989,75.99037,76.08238,76.642685,76.97502,76.98601,77.02446,77.02446,77.96654,78.07915,78.53783,78.69301,79.1819,75.29686,75.336685,75.3463,74.83681,74.83818,74.84642,74.83818,74.81346,74.818954,74.835434,74.83406,74.835434,74.83681,74.890366,74.890366,74.94118,74.78874,75.51659,75.528946,76.07826,76.079636,76.08101,76.02333,76.718216,76.60011,76.73332,77.92259,77.95555,77.95418,77.95418,77.956924,77.948685,78.182144,77.28813,77.29088,77.16179,77.22496,77.22908,77.22908,77.36641,77.36229,77.41585,77.41722,77.65068,77.65068,77.62596,77.635574,77.65892,77.42821,77.35954,77.360916,77.35268,77.35817,77.43645,77.494125,77.5573,77.64107,77.67677,77.65617,77.66441,77.531204,77.58888,77.67952,77.68089,77.68089,77.67677,77.67952,77.68089,77.68227,77.68501,77.67677,77.79762,77.77702,77.77016,77.735825,77.74269,77.76466,77.9171,77.936325,77.8965,77.92259,77.70012,77.711105,77.77016,77.73033,77.78526,77.78664,77.69737,77.76878,77.72209,77.72209,77.71797,77.76878,77.739944,77.815475,77.81685,77.85393,77.95967,77.95967,77.88002,77.39937,77.41173,77.4749,77.494125,77.50511,77.506485,77.50786,77.43919,77.44606,77.44881,77.45018,77.45293,77.45155,77.44743,77.44881,77.46117,77.47215,77.473526,77.4749,77.46803,77.469406,77.45705,77.50786,77.385635,77.385635,77.37465,77.53258,77.6136,77.58751,77.594376,77.62459,77.64656,77.34718,77.4337,77.72072,77.74269,77.76741,77.827835,77.98714,77.98851,77.99126,77.99126,77.99126,77.99263,77.994,77.994,77.994,77.97066,77.98988,77.98164,77.98302,77.98988,77.71385,78.68477,78.68614,73.967514,74.00459,75.03456,73.77388,74.51683,73.54317,74.34654,74.39873,74.39461,74.35753,74.18999,74.272385,74.935684,74.97826,74.56352,76.4518,76.04118,76.62895,76.626205,76.626205,76.22795,76.22795,76.22795,76.20598,76.287,76.37764,76.38313,76.38313,76.38313,76.53282,76.86653,76.867905,76.70036,76.70174,76.71135,76.66466,76.663284,76.66466,76.67427,76.69212,76.70036,76.714096,76.71272,76.714096,76.69075,76.718216,76.73332,72.83455,72.816696,72.81395,72.816696,72.81532,72.8112,72.80983,72.80983,72.81258,72.81395,72.8112,72.81258,72.82631,72.82768,72.82219,72.820816,72.82356,72.829056,72.829056,72.83455,72.829056,72.83455,72.81807,72.833176,72.8318,72.833176,72.8318,72.8318,72.8318,72.8318,72.8318,72.82219,72.8318,72.8318,72.833176,72.8318,72.833176,72.82631,72.82768,72.833176,72.8318,72.833176,72.833176,72.8318,72.83455,72.83455,72.83592,72.941666,72.95265,72.954025,72.95677,72.95677,72.958145,72.95952,72.949905,72.95265,72.95677,72.9554,72.958145,72.949905,72.95128,72.95128,73.03093,73.04329,73.054276,73.054276,73.05153,73.054276,72.81395,72.81395,72.81395,72.81395,72.81532,72.81532,72.816696,72.816696,72.816696,72.81532,72.83592,72.83592,72.83592,72.8318,72.83592,72.83592,72.83592,72.837296,72.83867,72.81807,72.81807,72.820816,72.820816,72.837296,72.837296,72.84004,72.84279,72.84004,72.84279,72.81807,72.81944,72.81944,72.820816,72.82219,72.820816,72.82356,72.824936,72.824936,72.82631,72.82768,72.829056,72.83043,72.833176,72.829056,72.8318,72.83455,72.837296,72.837296,72.83043,72.8318,72.83592,72.84279,72.845535,72.845535,72.84691,72.85103,72.8524,72.84004,72.84004,72.841415,72.84279,72.84416,72.84279,72.84691,72.845535,72.84828,72.84828,72.841415,72.84004,72.841415,72.841415,72.85515,72.85515,72.85103,72.85652,72.85515,72.85652,72.85652,72.83867,72.83867,72.83867,72.841415,72.841415,72.841415,72.84279,72.84279,72.84279,72.84279,72.841415,72.84279,72.85652,72.857895,72.85927,72.86064,72.841415,72.841415,72.84004,72.8524,72.85515,72.85652,72.85652,72.857895,72.85927,72.83867,72.83867,72.837296,72.837296,72.837296,72.837296,72.83455,72.837296,72.837296,72.84691,72.84828,72.84691,72.845535,72.84691,72.845535,72.84691,72.84691,72.84828,72.857895,72.85927,72.85103,72.862015,72.86339,72.86476,72.866135,72.866135,72.866135,72.86339,72.86339,72.866135,72.866135,72.86476,72.866135,72.866135,72.86751,72.890854,72.86339,72.86339,72.866135,72.86339,72.866135,72.866135,72.86751,72.86339,72.86476,72.866135,72.866135,72.86751,72.86751,72.86751,72.86888,72.870255,72.87163,72.873,72.874374,72.874374,72.86476,72.86476,72.86339,72.86339,72.86476,72.86476,72.86751,72.870255,72.86339,72.86339,72.86476,72.86476,72.874374,72.874374,72.87575,72.873,72.873,72.874374,72.87575,72.87712,72.87575,72.87575,72.87712,72.89223,72.89635,72.89497,72.89497,72.89497,72.89223,72.8936,72.8936,72.8936,72.8936,72.8936,72.8936,72.8936,72.89497,72.89497,72.89635,72.90459,72.862015,72.86476,72.862015,72.86339,72.87163,72.87575,72.878494,72.87987,72.878494,72.8936,72.88399,72.89497,72.90047,72.89909,72.90047,72.90871,72.91008,72.91145,72.91283,72.91145,72.91283,72.9142,72.91557,72.9142,72.91283,72.91832,72.91969,72.92107,72.92244,72.92381,72.92244,72.925186,72.92656,72.92656,72.945786,72.94853,72.94716,72.945786,72.94441,72.94441,72.92793,72.929306,72.93068,72.93205,72.9348,72.9348,72.93617,72.937546,72.933426,72.929306,72.93068,72.94029,72.93892,72.93892,72.94029,72.941666,72.94304,72.91145,72.91145,72.91145,72.91832,72.92381,72.90733,72.91695,72.93617,72.93617,72.837296,72.837296,72.837296,72.83867,72.837296,72.83867,72.82768,72.82768,72.82768,72.82768,72.82768,72.82768,72.82768,72.829056,72.83043,72.8318,72.833176,72.83455,72.83592,72.837296,72.83867,72.83867,72.83455,72.83867,72.83867,72.83455,72.83592,72.83867,72.837296,72.83867,72.837296,72.83867,72.84691,72.841415,72.841415,72.84279,72.84691,72.84828,72.849655,72.84691,72.84691,72.86064,72.86064,72.86064,72.8524,72.853775,72.85927,72.82768,72.82768,72.82631,72.82768,72.82768,72.82631,72.82631,72.82768,72.83867,72.837296,72.837296,72.82631,72.82768,72.82631,72.82631,72.837296,72.837296,72.829056,72.83043,72.83043,72.8318,72.833176,72.837296,72.837296,72.83592,72.83455,72.84004,72.84004,72.84691,72.845535,72.84416,72.84691,72.8524,72.8524,72.853775,72.849655,72.8524,72.853775,72.85515,72.86064,72.85927,72.85515,72.85652,72.857895,72.86064,72.85927,72.86064,72.829056,72.83043,72.83043,72.83043,72.83043,72.83043,72.82631,72.83043,72.8318,72.84828,72.84828,72.849655,72.849655,72.85103,72.8524,72.853775,72.85515,72.85103,72.85103,72.85103,72.85103,72.8524,72.85515,72.85652,72.857895,72.85927,72.8318,72.833176,72.83592,72.83592,72.83592,72.83455,72.862015,72.870255,72.862015,72.87575,72.87712,72.87987,72.87987,72.878494,72.878494,72.87987,72.88124,72.88124,72.89635,72.88536,72.886734,72.88948,72.90321,72.89909,72.90321,72.90184,72.90047,72.90047,72.86476,72.866135,72.86476,72.866135,72.86751,72.866135,72.87163,72.873,72.873,72.873,72.874374,72.874374,72.874374,72.87163,72.86476,72.866135,72.862015,72.862015,72.86888,72.870255,72.87163,72.873,72.87575,72.874374,72.87575,72.87712,72.87575,72.87987,72.88124,72.882614,72.878494,72.87987,72.89223,72.8936,72.89223,72.88536,72.886734,72.88811,72.886734,72.886734,72.886734,72.886734,72.890854,72.88948,72.890854,72.89223,72.88948,72.89635,72.89497,72.89635,72.89772,72.90047,72.88536,72.88399,72.90596,72.90596,72.90733,72.90871,72.90871,72.90733,72.90733,72.90871,72.91008,72.90871,72.91008,72.91008,72.91557,72.91145,72.91145,72.91283,72.91283,72.91283,72.92107,72.91832,72.91695,72.91832,72.91969,72.91695,72.91695,72.91557,72.91145,72.91695,72.91832,72.91969,72.925186,72.925186,72.929306,72.93205,72.93205,72.933426,72.933426,72.93205,72.9348,72.93617,72.862015,72.86339,72.86339,72.86476,72.866135,72.86339,72.86751,72.86888,72.870255,72.870255,72.870255,72.86476,72.86476,72.86476,72.866135,72.870255,72.87163,72.87163,72.86751,72.87987,72.87987,72.873,72.874374,72.86751,72.86888,72.86751,72.86888,72.86888,72.86888,72.870255,72.866135,72.870255,72.870255,72.870255,72.870255,72.87163,72.874374,72.87575,72.87712,72.874374,72.874374,72.87575,72.87712,72.878494,72.88124,72.874374,72.874374,72.886734,72.89223,72.88948,72.890854,72.89223,72.8936,72.89909,72.90047,72.90321,72.90459,72.89909,72.89772,72.89497,72.88399,72.88811,72.886734,72.86476,72.866135,72.86751,72.86888,72.870255,72.87163,72.90733,72.91008,72.91145,72.91283,72.91557,72.92656,72.925186,72.91695,72.91695,72.925186,72.92381,72.925186,72.925186,72.925186,72.925186,72.925186,72.92656,72.92656,72.93205,72.93617,72.937546,72.93205,72.933426,72.933426,72.93892,72.933426,72.929306,72.9348,72.93068,72.93205,72.933426,72.9348,72.93617,72.937546,72.94029,72.941666,72.937546,72.937546,72.937546,72.937546,72.937546,72.94441,72.94716,73.02818,72.949905,72.949905,72.949905,72.99797,73.03093,73.11607,73.087234,73.103714,72.99797,72.99797,73.033676,73.02132,73.00346,73.00484,73.00209,73.00209,73.02681,73.02818,73.02818,73.03093,73.03093,73.03093,73.01582,73.00484,72.995224,73.00072,72.999344,73.01308,73.03642,73.07213,73.07213,73.07213,73.087234,73.05565,73.0529,73.046036,73.046036,73.04741,73.04741,73.03917,73.04054,73.04466,73.04466,73.04878,73.11607,72.83455,72.83455,72.83455,72.83592,72.83592,72.837296,72.837296,72.837296,72.83592,72.83592,72.83592,72.83592,72.83455,72.82768,72.82768,72.82768,72.83043,72.8318,72.833176,72.829056,72.829056,72.82768,72.829056,72.829056,72.83043,72.86064,72.84279,72.86476,72.862015,72.86751,72.937546,72.937546,72.937546,72.937546,72.945786,72.945786,72.94716,72.94441,72.945786,72.94853,72.945786,72.94304,72.945786,72.94853,72.94853,72.94441,72.945786,72.87987,72.86339,72.86476,72.849655,72.841415,72.857895,72.866135,72.86751,72.870255,72.87163,72.87163,72.873,72.873,72.873,72.874374,72.866135,72.90459,72.90459,72.89909,72.8936,72.90596,72.90596,72.941666,72.949905,72.95128,72.95128,72.95265,72.95677,72.96913,72.96913,72.97188,72.974625,72.949905,72.95265,72.954025,72.9554,72.9554,72.9554,72.96089,72.96913,72.96364,72.96776,72.949905,72.954025,72.9554,72.958145,72.96776,72.966385,72.96089,72.962265,72.96364,72.96501,72.976,72.974625,72.976,72.97737,72.97325,72.95128,72.982864,73.01033,73.01308,73.01582,73.0172,73.01582,73.02269,73.10921,73.041916,73.04054,72.978745,73.0323,73.0323,73.037796,73.03917,73.03917,73.03917,73.041916,73.041916,73.087234,72.8936,72.88811,72.90459,72.890854,72.88948,72.89223,73.074875,73.11745,73.06938,73.07213,73.07213,73.09822,73.099594,73.099594,73.074875,69.8806,69.903946,69.936905,69.90669,69.90257,69.91356,69.88609,70.00282,70.03029,70.47798,71.45714,72.85103,72.866135,72.91832,72.85515,72.85652,72.85652,72.85652,72.90733,72.95952,72.95952,72.96089,72.9554,73.02132,73.00621,72.96501,72.632675,72.636795,72.636795,73.00346,73.00484,73.09685,73.095474,73.11058,73.02956,73.02956,73.06389,73.06526,73.066635,73.06526,73.06526,72.88811,72.8936,72.89635,72.89497,72.87712,72.886734,72.92656,73.03917,73.05153,73.0529,73.06389,73.09273,70.73753,70.79384,70.81856,70.81993,70.8062,70.75813,70.83778,72.636795,72.6313,72.653275,72.66838,72.66838,72.737045,72.741165,72.741165,72.69173,72.7343,72.73567,72.73567,72.72331,72.68623,72.837296,72.84691,72.84828,72.84691,72.84828,72.84828,72.849655,72.85103,72.8524,72.853775,72.85515,72.85652,72.85927,72.79335,72.84691,72.862015,72.86339,72.86476,72.866135,72.86751,72.86751,72.90321,72.90321,72.937546,73.12431,72.96913,73.05153,73.0529,72.91969,72.58598,72.59422,72.61894,72.73018,72.73567,72.741165,72.94853,73.04054,72.98424,73.01445,73.01445,73.03642,73.04741,73.050156,73.03093,73.11882,72.98149,72.98424,72.72743,72.71095,73.11195,73.099594,73.28911,73.308334,73.33992,73.50746,73.525314,73.24242,73.5157,74.155655,74.22844,74.22844,74.22981,74.22981,74.21883,74.1172,74.05815,74.059525,74.059525,74.059525,74.0609,74.0609,74.18312,73.46489,73.42781,73.32207,73.320694,74.00459,73.98399,73.97026,73.971634,73.98811,73.97987,74.54018,74.54155,75.02907,74.54292,74.5443,74.614334,75.89836,75.637436,75.666275,73.77388,73.77937,73.82469,73.6805,73.6956,73.70384,73.69148,73.692856,73.73543,73.7368,73.738174,73.76701,73.80821,73.7574,73.78349,73.75191,73.14766,73.15178,73.28224,73.283615,73.64754,73.6805,73.78212,73.78212,73.821945,73.80821,73.78624,73.801346,73.81233,73.821945,73.82057,73.821945,73.821945,73.82332,73.826065,73.82332,73.817825,73.79173,73.79173,73.8192,73.81645,73.8192,73.692856,73.78349,73.78212,73.77525,73.77525,73.79585,73.797226,73.79585,73.793106,73.79585,73.809586,73.826065,73.82744,73.821945,73.82469,73.80684,73.78899,73.793106,73.78624,73.79036,73.80684,73.809586,73.77525,73.738174,73.85765,73.854904,73.922195,73.926315,73.91945,73.918076,73.918076,73.922195,73.93181,73.86177,73.905716,73.91945,73.930435,73.92769,73.95378,73.96477,73.9991,73.98811,74.00185,74.00047,74.00047,74.00047,74.00047,74.00185,73.99773,73.8604,73.90434,73.905716,73.90022,73.87276,74.276505,74.282,74.284744,74.284744,73.13255,73.12569,73.12706,73.1559,73.13805,73.162766,73.16139,73.16139,73.16414,73.23555,73.23555,73.23692,73.23555,73.23692,73.23967,73.24104,73.183365,73.212204,73.21358,73.21358,73.21495,73.21358,73.21495,73.263016,73.26439,73.212204,73.375626,74.72969,74.69948,78.33046,78.16841,78.32085,78.34831,78.34831,78.333206,78.37166,78.3799,78.38127,78.25905,78.34694,78.36342,78.38127,78.382645,78.32771,78.32909,78.38539,78.562546,78.558426,78.57216,78.54469,78.54469,78.73833,78.712234,78.712234,78.53645,78.49251,78.49251,78.50899,78.63533,78.74931,78.120346,78.12584,78.28926,78.32359,78.38951,78.46916,78.470535,78.52959,78.53096,76.028824,76.57677,76.57677,76.70174,76.763535,77.3156,77.322464,78.21785,78.232956,78.23433,78.237076,78.23982,78.23982,78.23982,78.23982,73.67638,73.91121,74.17763,73.13942,74.179,75.22957,75.23094,75.22957,75.27626,75.324326,75.340805,75.37514,75.37651,75.353165,73.35091,73.40584,73.13255,73.15315,73.16414,73.175125,73.18199,73.254776,73.21907,74.33693,74.35478,74.356155,75.090866,75.17052,75.62233,75.62782,75.629196,75.62782,75.629196,76.02196,76.34331,76.34331,76.35155,76.35704,76.07002,77.093124,77.89787,77.89787,77.89925,77.89925,79.45244,79.45244,79.459305,79.47441,79.51698,79.51149,79.51149,79.52797,79.52522,79.65843,79.63371,79.63234,79.75319,79.75044,79.74907,79.747696,79.74907,79.76143,79.7628,79.76143,79.7628,79.137955,79.3412,79.3412,78.945694,78.9402,78.94295,78.945694,78.94707,78.949814,78.94844,78.95119,79.08165,79.08165,79.651566,79.65294,79.651566,79.65294,79.65431,79.655685,79.655685,79.56093,79.5623,79.563675,79.57741,79.57878,79.57741,79.57878,79.58702,79.588394,79.65019,79.651566,79.71611,79.9482,79.9482,80.02098,80.122604,80.122604,80.12398,80.12398,80.12535,80.126724,79.99214,79.99901,79.99214,79.997635,80.001755,79.99626,80.00313,80.00725,80.0045,80.0045,80.005875,80.00725,80.005875,80.00725,80.00862,80.009995,80.01137,80.01137,80.01274,80.00862,80.00862,80.009995,80.00862,80.009995,80.01137,80.01137,80.01274,80.01274,80.01137,80.01274,80.01274,80.0045,80.0045,80.005875,80.00725,80.005875,80.00725,80.00862,80.009995,80.00862,80.01137,80.0045,80.0045,80.0869,79.96193,80.02373,80.130844,80.13222,80.11574,80.00862,80.009995,80.00313,79.99077,80.2256,80.17067,80.17616,80.177536,80.173416,80.17479,80.1844,80.28877,80.18303,80.18852,80.22423,80.26405,80.26405,80.26543,80.26543,80.26543,80.20363,80.177536,78.77403,78.75069,79.6859,79.11186,81.7733,83.231735,83.22899,83.25508,83.25508,83.28117,83.2798,83.28392,83.2798,83.28529,79.100876,79.100876,79.42772,79.30412,79.30412,79.30687,79.3,79.346695,79.346695,79.34807,79.34944,79.35356,79.35219,79.35219,79.350815,79.38103,79.40437,79.40437,79.426346,79.426346,79.38103,79.11186,79.11186,79.11186,79.117355,79.1201,79.11873,79.11461,79.113235,79.11461,79.11598,79.11049,79.11186,79.11049,79.11049,79.11049,79.10637,79.104996,79.11049,79.11049,79.10774,79.109116,79.10774,79.10362,79.10362,79.104996,79.10362,79.10225,79.10225,79.104996,79.10637,79.10637,79.10637,79.104996,79.104996,79.10362,79.10362,79.10362,79.104996,79.104996,79.19014,79.31099,78.96629,79.04732,79.01985,79.04869,79.0432,79.0432,79.04457,79.04457,79.045944,79.045944,79.04457,79.04732,79.04869,79.04732,79.05693,79.13109,79.19014,81.49452,81.49452,79.06242,79.08028,79.41261,79.40025,79.28764,79.30138,79.59938,79.59938,79.62273,79.6447,79.6447,79.62959,79.62959,78.93608,78.937454,78.937454,79.551315,79.54994,79.551315,80.93834,81.20476,81.20888,81.20888,81.21025,81.45195,81.45332,81.45332,80.16106,80.181656,80.181656,80.18303,81.67992,81.64284,81.5728,81.57417,81.64833,81.66344,81.87767,81.87767,81.64009,81.67717,81.67854,81.68129,81.67992,81.67992,81.68541,81.67992,82.05757,82.08641,82.22374,82.230606,82.234726,82.234726,82.2361,82.23747,82.10152,82.0919,82.11388,82.23747,82.24022,82.24022,82.24022,82.08916,82.0919,82.0919,82.09053,82.0919,82.0919,82.09053,82.09053,82.400894,82.40227,82.40227,82.53685,82.54234,82.66731,82.80739,82.56706,82.568436,82.572556,82.556076,82.57393,82.5753,82.5753,82.57393,82.57393,82.5753,82.576675,82.576675,82.57805,82.57393,82.5753,82.5753,82.5753,82.5753,82.576675,82.576675,82.57805,82.57805,82.58629,82.58629,82.58766,82.58766,82.58766,82.589035,82.597275,82.597275,82.59865,82.65221,82.65358,82.65221,82.681046,82.6783,82.65495,82.65495,82.65633,82.6577,82.65907,82.660446,82.65907,82.65907,82.660446,82.66182,82.66319,82.66182,82.66319,82.664566,82.664566,82.66594,82.71675,82.71538,82.71538,82.73323,82.65907,82.660446,82.65907,82.660446,82.6577,82.6577,82.64671,82.64534,82.64671,82.64809,82.64946,82.63847,82.64122,82.64397,82.64397,82.64259,82.64397,82.63985,82.63985,82.64122,82.64122,82.64122,82.63985,82.64122,82.64397,82.64534,82.64122,82.64122,82.64122,82.64259,82.66182,82.66319,82.66182,82.664566,82.66594,82.664566,82.66594,82.664566,82.66594,82.66594,82.66731,82.66731,82.668686,82.66731,82.66731,82.668686,82.668686,82.66731,82.668686,82.668686,82.67006,82.67143,82.668686,82.668686,82.67006,82.67006,82.67555,82.67555,82.676926,82.672806,82.68654,82.689285,82.68379,82.685165,82.668686,82.672806,82.67555,82.6783,82.69478,82.74696,82.74696,83.59978,83.982925,83.91289,83.90602,83.878555,83.982925,83.98567,83.98567,83.987045,83.987045,83.98155,83.98155,83.98155,83.98155,83.982925,83.982925,83.9843,83.9843,83.982925,83.982925,83.98155,83.982925,83.982925,83.98567,83.98567,83.98842,83.98979,83.991165,83.991165,83.99254,83.99391,83.995285,83.99803,83.99803,83.999405,83.999405,84.00078,84.00078,84.0049,84.00627,84.007645,84.007645,84.00215,84.00215,84.003525,84.003525,84.015884,84.02275,84.0406,84.04198,84.04472,84.04472,84.04472,84.0406,84.04198,84.04335,84.04335,84.0461,84.03511,84.032364,84.03374,84.03374,84.03099,84.03099,84.032364,84.032364,84.03374,84.03374,84.03374,84.03374,84.03511,84.03648,84.03648,84.03786,84.03923,84.04198,84.04335,84.04335,84.0406,84.0406,84.04472,84.04472,84.04472,84.03511,84.03648,84.03648,84.03511,84.03511,84.03648,84.03786,84.03786,84.04198,84.04198,84.04335,84.04472,84.04472,84.04472,84.0255,84.0255,84.02687,84.02687,84.02687,84.02962,84.028244,84.02962,84.05434,84.05022,84.05571,83.119125,83.1205,83.123245,83.123245,83.11638,83.11638,83.11638,83.11775,83.11775,83.11775,83.11775,83.11775,83.1823,83.1823,83.18367,83.12874,83.13011,83.207016,83.20152,83.20152,83.24272,83.49129,83.49266,83.33473,83.35533,83.39653,83.40614,83.40202,83.40202,83.3979,83.3979,83.39928,83.39928,83.40065,83.40065,83.40477,83.40477,83.4034,83.4034,83.40889,83.41026,83.44597,83.44185,83.44322,83.452835,83.536606,83.51875,83.58055,83.57231,83.52013,83.52562,83.52562,83.52562,83.52699,83.52699,83.52699,83.536606,83.56407,83.565445,83.590164,83.28117,83.28117,83.28117,83.28117,83.28255,83.28529,83.33473,83.70827,83.90053,83.99803,84.020004,83.96782,83.73024,83.73161,83.73299,83.73299,83.75084,83.74809,83.753586,83.753586,83.75221,83.75496,83.75496,83.757706,83.75908,83.75908,83.757706,83.757706,83.757706,83.75908,83.757706,83.75221,83.75221,83.75221,83.72887,83.72887,83.72887,83.73024,83.73024,83.72887,83.72887,83.73024,83.73024,83.73711,83.74809,83.749466,83.765945,83.765945,83.76732,83.76732,83.765945,83.765945,83.765945,83.76457,83.76732,83.76732,83.76869,83.76869,83.76869,83.770065,83.76732,83.76732,83.76869,83.761826,83.76045,83.7632,83.76457,83.76457,83.77968,84.04198,84.04198,84.04472,84.05159,84.06944,84.06807,84.06807,84.05571,84.05571,84.05571,84.06395,84.73686,84.946976,84.94835,84.94972,84.94972,84.94972,84.94972,84.95247,84.95384,84.95384,84.95659,84.96071,84.96071,84.96208,84.963455,84.9662,84.967575,84.97719,84.98543,84.98543,84.979935,84.99367,84.99916,84.95659,84.95659,84.95659,85.01015,85.01289,85.01289,85.01427,85.01289,85.01427,85.01564,85.01701,85.01564,85.01701,85.01701,85.01564,85.01701,85.01701,85.01839,85.02251,85.02388,85.02525,85.02525,85.02663,85.028,85.03075,85.03212,85.047226,85.03487,85.03624,85.04173,85.07469,85.07469,85.07469,85.076065,85.01701,85.01839,85.01976,85.02113,85.07332,85.07332,85.07469,85.07332,85.07332,85.07332,85.07469,85.72975,85.63362,85.65834,85.68306,85.78056,85.09117,85.109024,85.25185,85.2079,85.209274,85.2079,85.209274,85.21889,85.22026,85.22301,85.22438,85.213394,85.29579,85.25871,85.42351,85.080185,85.09117,85.09804,85.09941,85.07881,85.07881,85.07881,85.08705,85.09804,85.09941,85.09117,85.10216,85.10353,85.100784,85.10628,85.11452,85.11726,85.12138,85.12138,85.15709,85.16121,85.12276,85.12276,85.12413,85.12276,85.15297,85.15297,85.15297,85.15022,85.151596,85.16258,85.16121,85.15022,85.15022,85.15709,85.15846,85.15846,85.15846,85.08705,85.088425,85.09117,85.092545,85.10765,85.14061,85.14061,85.14198,85.13924,85.13786,85.15709,85.15846,85.16121,85.16258,85.163956,85.14885,85.1873,85.19829,85.19005,85.19966,85.19966,85.20241,85.19966,85.201035,85.20241,85.20241,85.201035,85.201035,85.19966,85.201035,85.217514,85.18593,85.18593,85.2079,85.21614,85.8094,86.6169,86.61827,86.619644,86.67183,85.835495,85.92888,85.806656,85.8094,85.78468,85.78331,85.78468,86.02638,86.040115,86.03874,86.04698,86.09505,85.956345,86.04149,86.027756,86.02638,86.031876,86.0305,86.031876,86.031876,86.031876,86.031876,86.031876,85.99342,85.98793,85.9893,85.99205,85.95909,85.95909,85.960464,85.96184,85.960464,85.96184,85.96321,86.031876,86.031876,86.019516,86.056595,86.05797,86.05797,86.06209,86.240616,85.429,85.72014,85.434494,85.01152,85.00603,85.00877,85.0074,85.004654,84.658585,84.65996,84.80415,84.867325,84.867325,84.867325,84.7657,84.7657,84.767075,84.771194,84.8069,84.7657,84.90166,85.12001,85.11864,85.12138,85.1104,85.11589,85.11589,85.11726,85.11726,85.11726,85.11726,85.12001,85.12138,85.12276,85.12413,85.12276,85.12413,85.12413,85.12413,85.12413,85.12276,85.12276,85.12825,85.15022,85.180435,85.18181,85.21889,85.22026,85.221634,85.221634,85.22301,85.22301,85.22438,85.22438,85.22575,85.22438,85.217514,85.21889,85.21889,85.21889,85.22026,85.221634,85.22575,85.22575,85.23125,85.22713,85.33836,85.401535,85.40291,85.40703,85.41252,85.41252,85.41252,85.41252,85.41252,85.413895,85.41527,85.41664,85.426254,85.42763,85.41252,85.41252,85.41252,85.41115,85.413895,85.41527,85.409775,85.4084,85.4084,85.39467,85.39604,85.40703,85.40703,85.40703,85.40703,85.39879,85.40016,85.4084,85.4084,85.4084,85.409775,85.41115,85.41115,85.409775,85.409775,85.409775,85.409775,85.409775,85.41115,85.413895,85.41527,85.41664,85.31914,85.32051,85.321884,85.32875,85.330124,85.33287,85.3315,85.33424,85.33562,85.33562,85.33699,85.31914,85.31914,85.31639,85.32051,85.321884,85.32326,85.32463,85.326004,85.32738,85.321884,85.32051,85.321884,85.32326,85.32326,85.418015,85.42351,85.42488,85.42351,85.42351,85.422134,85.393295,85.39467,85.39879,85.40291,85.40428,85.40428,85.422134,85.422134,85.42076,85.41527,85.41664,85.41527,85.41527,85.3521,85.35072,85.3521,85.36034,85.35896,85.36308,85.35484,85.35347,85.35484,85.35347,85.35072,85.34798,85.34523,85.3466,85.34798,85.36583,85.3672,85.368576,85.3672,85.364456,85.36583,85.385056,85.37819,85.38643,85.393295,85.409775,85.41252,85.41527,85.413895,85.413895,85.418015,85.41527,85.41939,85.41939,85.41939,85.42076,85.42076,85.42076,85.41939,85.41939,85.42076,85.422134,85.42488,85.42488,85.426254,85.422134,85.42351,85.42763,85.42763,85.429,85.28206,85.28343,85.284805,85.2903,85.31639,85.301285,85.301285,85.30266,85.30403,85.30403,85.305405,85.30678,85.317764,85.31914,85.31502,85.31502,85.32326,85.32463,85.401535,85.405655,85.405655,85.4084,85.41115,85.41252,85.41115,85.42076,85.422134,85.41939,85.41939,85.40703,85.41115,85.41115,85.41939,85.41939,85.41939,85.42076,85.422134,85.422134,85.42351,85.42351,85.41939,85.42076,85.429,85.42763,85.36308,85.36308,85.364456,85.364456,85.364456,85.36995,85.372696,85.368576,85.376816,85.37819,85.37956,85.380936,85.38231,85.38368,85.385056,85.42076,85.39055,85.39192,85.3878,85.389175,85.39055,85.389175,85.389175,85.326004,85.34935,85.34935,85.3521,85.385056,85.385056,85.368576,85.36995,85.37132,85.372696,85.37407,85.37407,85.372696,85.376816,85.38368,85.38368,85.376816,85.37544,85.376816,85.376816,85.37819,85.37819,85.38231,85.38368,85.38368,85.38643,85.389175,85.41527,85.42763,85.42763,85.429,85.42076,85.41939,85.426254,85.42763,85.429,85.41527,85.41527,85.41664,85.41664,85.41664,85.39192,85.393295,85.39467,85.39879,85.39879,85.40703,85.405655,85.41527,85.413895,85.413895,85.409775,85.41664,85.4084,85.46745,85.43175,85.43312,85.55122,85.430374,85.430374,85.43312,85.44136,85.46196,85.46745,85.472946,85.472946,85.47157,85.472946,85.472946,85.47157,85.47157,85.47569,85.477066,85.477066,85.477066,85.47432,85.47569,85.47844,85.477066,85.47844,85.47432,85.47569,85.430374,85.430374,85.430374,85.49217,85.49629,85.50453,85.50453,85.50453,85.50453,85.438614,85.438614,85.438614,87.141495,87.1772,87.3008,87.30217,87.30354,87.29942,87.30354,87.30492,87.28981,87.28844,87.28844,87.28981,87.28981,87.28844,87.859726,69.53316,69.57573,69.68834,69.691086,69.6801,69.682846,69.682846,69.68422,69.686966,69.68834,69.73778,70.03166,70.221176,70.16899,70.170364,70.21294,70.22392,70.21843,70.19096,70.08522,70.08659,70.13878,70.174484,69.953384,70.880356,70.49309,70.58098,72.33467,72.407455,72.4102,72.36351,72.51869,72.520065,72.55989,72.56401,72.58736,72.5901,72.54753,72.59697,72.5901,72.57088,72.57088,72.59148,72.58324,72.58598,72.58461,72.57774,72.57912,72.57912,72.57774,72.57912,72.58049,72.58049,72.58186,72.59148,72.62718,72.640915,72.640915,72.59834,72.59972,72.60246,72.59972,72.66289,72.66426,72.68349,72.757645,72.511826,72.548904,72.548904,72.54204,72.51869,72.52281,72.57088,72.5695,72.5695,72.57088,72.58736,72.58736,72.58873,72.58873,72.57088,72.57225,72.56264,72.55989,72.565384,72.52556,72.56401,72.57774,72.57774,72.58736,72.58049,72.59972,72.59834,72.59972,72.632675,72.61345,72.65602,72.67525,72.61757,72.782364,72.816696,72.816696,71.98036,72.54616,72.67799,72.67937,72.67937,73.03917,73.04054,72.9554,74.227066,73.688736,73.76289,75.30235,75.30373,75.30922,75.76378,75.82832,75.88875,75.84755,75.84755,75.84343,75.8448,75.85579,75.866776,75.86815,75.87364,75.88463,75.854416,75.85579,75.85579,75.85579,75.8654,75.87776,75.87639,75.879135,75.883255,75.88463,75.87776,75.879135,75.88051,75.899734,75.89287,75.90111,75.90248,75.91759,75.91759,75.91759,75.85167,75.87227,75.87227,75.77614,75.77614,75.783005,75.783005,75.783005,75.78438,75.83519,75.03731,75.03868,75.04555,75.03044,75.023575,75.83382,75.87639,75.87776,73.642044,73.6544,73.76564,73.69148,73.692856,73.68736,74.40285,75.07164,74.873886,74.673386,74.669266,75.31471,75.85716,76.07277,76.07277,76.04805,77.08214,77.08214,76.27464,77.310104,77.310104,77.3362,77.3362,77.2744,77.68089,77.7166,77.71797,77.719345,77.426834,77.44469,77.44881,77.43919,77.45567,77.498245,77.397995,77.41722,77.37053,77.37053,77.393875,77.393875,77.430954,77.430954,77.44331,77.44331,77.45705,77.43233,77.43233,77.485886,77.93358,78.74931,76.12633,77.30736,77.30736,77.30873,77.30873,78.39775,73.809586,74.27376,73.91258,74.53468,74.53468,74.53468,74.53743,74.53743,75.71571,73.35503,75.73082,75.737686,75.84755,75.85167,75.8654,75.71846,75.81459,75.846176,75.92308,75.07164,75.15129,75.16228,75.160904,75.17876,75.1815,75.89424,75.93544,75.39574,77.65068,77.652054,77.652054,77.67265,78.6422,78.33458,78.441696,78.44307,78.44444,78.46367,78.44307,77.98027,77.9995,77.99812,78.15605,78.161545,78.22334,78.22334,75.93819,76.06178,76.13457,76.13594,76.61247,76.00273,76.05354,76.05492,76.05492,76.05629,76.00685,76.409225,76.550674,76.730576,76.98601,76.98601,77.00386,76.82396,77.93358,77.93358,78.015976,77.86766,77.88002,77.88139,77.88277,77.88414,77.88551,77.88689,77.89925,78.00087,77.70973,77.711105,77.57515,75.61546,75.84892,75.87364,75.71846,75.87776,75.83656,76.63307,76.638565,76.62483,76.10161,76.096115,76.1483,76.1483,76.15105,76.1895,76.19911,76.192245,76.19362,76.179886,76.20323,76.20323,76.208725,76.229324,76.1895,76.1895,76.19087,76.19362,76.19499,76.19362,76.19499,76.200485,76.200485,76.26228,76.28563,76.29387,76.59325,76.8116,76.955795,76.826706,76.826706,76.82945,76.830826,76.82808,76.82945,76.830826,76.84044,76.843185,76.8528,76.85417,76.855545,76.855545,76.85692,76.85692,76.85692,76.85829,76.85829,76.85829,76.859665,76.859665,76.859665,76.859665,76.859665,76.85692,76.892624,76.90086,76.894,76.86104,76.86104,76.86104,76.86104,76.86241,76.86241,76.86241,76.86241,76.86241,76.86241,76.863785,76.863785,76.863785,76.86516,76.86516,76.86653,76.86653,76.867905,76.73744,76.880264,76.88164,76.892624,76.894,76.851425,76.851425,76.851425,76.84044,76.88301,76.87889,76.87477,76.8734,76.87752,76.87889,76.884384,76.88576,76.88713,76.88713,76.888504,76.894,76.894,76.894,76.894,76.89537,76.89674,76.89674,76.89674,76.89674,76.89674,76.89674,76.90224,76.90361,76.91185,76.92558,76.93794,76.93794,76.931076,76.93245,76.939316,76.94069,76.9091,76.90498,76.90636,76.9091,76.92009,76.91322,76.91322,76.93382,76.97914,76.980515,76.976395,76.95305,76.98738,76.834946,76.86653,76.87889,76.892624,76.892624,76.88576,76.88576,76.90361,76.91322,76.9146,76.9146,76.9146,76.91597,76.91597,76.94481,76.94618,76.90498,76.90636,76.90773,76.9146,76.92421,76.91597,76.92009,76.94206,76.94206,76.947556,76.94481,76.97777,76.98189,76.98189,76.972275,76.955795,76.955795,76.955795,76.97777,76.97502,77.02721,77.02721,77.093124,77.056046,76.992874,76.992874,77.01073,77.00523,77.051926,77.056046,77.056046,77.05742,77.05742,77.05742,77.07802,77.04231,77.051926,77.0533,77.072525,77.0739,77.06566,77.084885,77.101364,77.12471,77.16728,77.093124,77.14943,77.18376,77.33208,77.30873,77.31972,77.17415,77.19063,77.22084,77.22633,77.22633,77.22908,77.17827,77.185135,77.17964,77.18788,77.189255,77.18376,77.18239,77.18239,77.18239,77.18651,77.18651,77.27577,77.28401,77.285385,77.285385,77.28676,77.28676,76.646805,76.64818,76.66054,76.968155,76.97365,76.97365,76.98738,76.97365,76.98326,76.96541,76.96541,76.89812,76.89812,76.89812,76.89812,76.884384,76.93245,76.9915,76.99013,76.99013,76.988754,76.98601,76.98601,76.98601,76.86104,76.93382,76.96541,76.96129,76.96129,76.96541,76.96541,76.98326,76.93657,76.94481,76.92558,76.92833,77.02446,77.051926,77.07802,77.02583,77.02721,77.02858,77.02721,77.02721,77.02858,77.02034,77.01622,77.02721,77.02995,77.02995,77.02995,77.02995,77.02583,77.05742,77.0739,77.08763,77.080765,77.080765,77.089005,77.11098,77.12059,77.12196,77.12334,77.12334,77.1151,77.11784,77.11647,77.11784,77.084885,77.0945,77.09587,77.09587,77.09587,77.0945,77.097244,77.09862,77.09862,77.09862,77.09999,77.105484,77.10686,77.10823,77.10823,77.10823,77.109604,77.11784,77.12196,77.12196,77.12196,77.12334,77.10411,77.10411,77.10274,77.10411,77.10411,77.10686,77.10823,77.12608,77.12608,77.12608,77.12608,77.13158,77.13432,77.13295,77.13295,77.1357,77.15904,77.15904,77.15904,77.12471,77.12471,77.12608,77.13158,77.01485,77.01897,76.992874,76.99425,76.99974,77.00661,77.00798,77.00386,77.00523,77.0533,77.0533,77.0533,77.0533,77.03682,77.06154,77.06978,77.07115,77.07115,77.072525,76.996994,77.02858,76.99974,77.01622,77.01622,77.06703,77.06703,77.0739,77.0739,77.14119,77.09862,77.13982,77.13707,77.1357,77.1357,77.1357,77.1302,77.18788,77.18788,77.185135,77.185135,77.18239,77.185135,77.185135,77.185135,77.18651,77.18651,77.18376,77.205734,77.189255,77.289505,77.289505,77.28676,77.28676,77.28813,77.28813,77.29637,77.285385,77.29088,77.281265,77.281265,77.28264,77.28264,77.285385,77.28401,77.30049,77.301865,77.293625,77.29088,77.25929,77.310104,77.310104,77.19475,77.19612,77.20436,77.25105,77.25792,77.260666,77.260666,77.26341,77.26204,77.32384,77.322464,77.001114,77.00798,77.01485,76.99974,76.99974,76.99425,76.99425,76.992874,76.99425,76.99425,76.996994,77.01759,77.01759,77.02583,77.02721,77.02721,77.01759,77.02446,77.02583,77.02583,77.04231,77.04506,77.06291,77.064285,77.06703,77.060165,77.00798,77.00798,77.060165,77.060165,77.06154,77.06978,77.0945,77.0945,77.0945,77.09587,77.13982,77.09038,77.09038,77.093124,77.1151,77.08214,77.13295,77.1357,77.13707,77.13844,77.143936,77.156296,77.156296,77.156296,77.156296,77.15492,77.15355,77.15355,77.15492,77.15492,77.156296,77.15492,77.156296,77.156296,77.15904,77.15767,77.15767,77.160416,77.035446,77.035446,77.04506,77.043686,77.15355,77.15355,77.15492,77.156296,77.156296,77.14943,77.14943,77.14943,77.15767,77.16591,77.14943,77.14943,77.14943,77.148056,77.15355,77.148056,77.148056,77.143936,77.12746,77.1302,77.143936,77.14119,77.14119,77.14668,77.14119,77.13707,77.13707,77.14531,77.15492,77.15492,77.18239,77.189255,77.18788,77.18788,77.17415,77.23183,77.23183,77.23183,77.24831,77.22908,77.22908,77.22908,77.22908,77.17964,77.17964,77.181015,77.181015,77.181015,77.181015,77.18376,77.19612,77.19612,77.19475,77.193375,77.22771,77.22771,77.22771,77.260666,77.31697,77.33208,77.33345,77.33345,77.3362,77.28813,77.310104,77.310104,77.310104,77.31148,77.33208,77.33208,77.33345,77.33345,77.3307,77.3307,77.33345,77.17964,77.17964,77.297745,77.281265,77.27989,77.27989,77.27852,76.546555,76.546555,76.550674,76.296616,76.667404,76.66878,76.67427,76.70174,76.80473,77.10823,77.10274,77.10274,77.10274,77.12746,77.12608,77.12608,77.12608,77.12471,77.12471,77.10686,77.09175,77.084885,77.27165,77.0739,77.060165,77.039566,77.039566,76.98189,76.98326,76.86516,76.955795,76.95442,76.955795,76.96953,76.96953,76.9709,76.884384,77.0121,77.00935,77.01073,77.168655,77.281265,77.27989,77.281265,77.28676,77.28676,77.29088,77.29225,77.310104,77.31148,77.31285,77.318344,77.32109,77.3362,77.33482,77.56004,77.56142,77.56279,77.55318,77.543564,77.54494,77.56416,77.56554,77.56554,77.56691,77.56966,77.56416,77.56554,77.56416,77.56554,77.59987,77.610855,77.60948,77.60948,77.61635,77.56279,77.56279,77.365036,77.365036,77.57652,77.58888,77.844315,77.84569,77.84706,77.84706,77.848434,77.86354,77.377396,77.389755,77.410355,77.41173,77.34856,77.397995,77.502365,77.44331,77.45155,77.46254,77.47078,77.47215,77.46529,77.45842,77.45842,77.46529,77.47627,77.50511,77.50511,77.40349,77.406235,77.36778,77.41997,77.46803,77.46803,77.43645,77.43782,77.48726,77.48039,77.514725,77.485886,77.52159,77.52434,77.52571,77.38426,77.40761,77.389755,77.40761,77.4131,77.4131,77.414474,77.45567,77.481766,77.48314,77.4955,77.4543,77.51335,77.51198,77.57927,77.58064,77.59575,77.58476,77.610855,77.56004,77.64656,78.74794,76.25542,76.972275,76.972275,76.97365,76.968155,76.97914,76.97914,76.98189,76.98189,76.98326,76.9915,76.9915,76.972275,76.976395,76.97777,76.951675,76.94893,76.93657,77.00523,77.00523,76.992874,77.03407,77.0327,77.097244,77.09862,77.12746,76.9146,76.91048,76.892624,76.892624,76.892624,76.892624,76.88576,76.76628,76.863785,76.86241,76.86241,76.86241,77.11784,77.11235,77.11372,77.23595,77.143936,75.979385,76.80611,76.80199,76.79649,76.968155,76.968155,76.826706,76.82533,76.830826,76.82808,76.82945,76.82945,76.82945,76.82808,76.82945,76.830826,76.84456,76.99837,77.047806,77.080765,77.097244,76.70311,76.70448,76.70586,76.74431,76.74431,76.74431,76.79787,76.780014,76.84593,76.85829,76.87889,76.955795,76.99562,77.00386,77.00523,77.00523,77.02309,77.097244,77.61772,77.590256,77.56142,77.9995,77.9995,78.00087,77.98988,77.99675,77.994,77.99538,77.99538,77.99812,77.99263,77.99263,77.99538,77.99675,77.99812,77.99675,77.99812,77.9995,78.00224,77.98988,78.00774,78.01048,78.011856,78.011856,78.0146,78.015976,78.01735,78.01735,78.020096,78.024216,78.02559,78.02696,78.03108,78.032455,78.03383,78.0352,78.028336,78.02971,78.036575,78.03795,78.03795,78.040695,78.04207,78.04207,77.96379,77.965164,78.01048,78.040695,78.03932,78.04207,78.04344,78.04207,78.04207,78.04619,78.044815,78.04619,78.04619,78.04619,78.00774,78.0558,78.07503,78.08052,78.09288,78.09425,78.09837,78.04756,78.05031,78.05168,78.04756,78.0558,78.05855,78.061295,78.06267,78.06404,78.05443,78.061295,78.06816,78.069534,78.077774,74.86427,74.88487,75.61272,75.59212,75.903854,75.78575,75.79262,74.26552,74.31633,74.3177,74.794235,74.78325,74.79561,74.79698,74.79698,74.798355,74.798355,74.79973,74.8011,74.802475,74.80385,74.806595,75.02907,74.906845,74.91371,74.898605,74.898605,74.89998,74.90135,74.915085,74.923325,74.92195,74.91646,74.931564,74.92882,74.95354,74.95491,75.094986,74.831314,74.79973,74.88487,74.8835,74.8835,74.8835,74.88487,74.935684,74.9604,74.97139,74.98375,74.886246,75.14305,75.14168,75.14305,75.144424,75.14168,75.1458,75.14305,75.152664,75.16228,75.14992,75.148544,75.148544,75.148544,75.15404,75.14717,75.14717,75.14717,75.14717,75.156784,75.16777,75.187,75.59212,75.662155,75.66765,75.187,75.20073,74.827194,75.187,75.18562,74.92882,74.927444,74.92882,74.97276,74.97139,74.98512,75.019455,75.023575,75.02495,75.015335,75.08263,75.1458,75.08812,75.11284,75.115585,75.11696,75.12245,76.55754,76.26503,76.830826,76.81297,76.88988,77.05467,77.06566,77.12608,77.13982,77.13982,77.14256,77.14256,77.1508,77.1508,77.1508,77.168655,76.76079,76.76491,76.70998,76.70998,76.44081,76.513596,76.52046,76.31859,76.31859,76.27739,76.05217,76.05217,76.05354,76.05354,76.05354,76.05217,76.337814,76.38451,76.93657,77.056046,77.68227,77.74956,77.75093,77.75093,79.801254,79.80263,79.87953,79.90837,79.864426,79.880905,79.88228,79.94957,79.93721,78.75481,78.75343,78.75481,78.75343,79.44008,79.44145,80.173416,80.173416,80.39177,81.35307,81.39702,81.3929,78.833084,78.83446,78.83446,78.85368,78.85231,79.55818,79.584274,80.79964,80.761185,80.7914,80.812,80.83122,80.832596,80.832596,80.832596,80.89302,80.9301,80.9301,81.303635,81.29814,81.29677,81.30638,81.299515,80.43434,81.56319,81.56456,81.56593,81.56731,81.57005,81.57143,81.57143,83.27019,82.59453,82.36107,82.36107,82.372055,82.409134,82.42699,82.42561,82.42699,82.42561,82.58629,82.59178,82.556076,82.4572,82.45857,82.45857,82.45857,82.468185,82.468185,82.51625,82.517624,82.51625,82.517624,82.52861,82.580795,82.580795,82.58217,82.593155,82.593155,82.61238,82.54234,82.63435,82.63435,82.61925,82.62749,82.617874,82.626114,82.62749,82.62749,82.62749,82.62886,82.63298,82.63435,82.63435,82.63573,82.62886,82.63573,82.6371,82.6371,82.64809,82.64809,82.668686,82.63435,82.6577,82.6577,82.6577,82.65221,82.65907,82.6371,82.63573,82.63573,82.63573,82.6371,82.62886,82.63023,82.63298,82.63298,82.63298,82.63298,82.63298,82.63298,82.63573,82.63435,82.63435,82.63435,82.63435,82.63435,82.63435,82.67006,82.67006,82.67006,82.67006,82.66731,82.67006,82.693405,82.685165,82.722244,82.72362,82.72362,82.72499,82.714005,82.71538,82.76344,82.76344,82.7607,82.76207,82.76344,82.77031,82.76619,82.768936,82.76207,82.62474,82.62886,82.63161,82.63298,82.64397,82.64397,82.64259,82.64534,82.64809,82.65083,82.65221,82.65221,82.64259,82.64397,82.64534,82.64946,82.65083,82.660446,82.69203,82.69203,82.69066,82.693405,82.76619,82.47917,83.00926,83.02025,83.02162,83.02162,83.04497,83.04497,83.04497,83.04634,83.04634,83.043594,83.04634,83.047714,83.05733,83.05733,83.05733,83.03673,83.03673,83.05733,83.07243,83.56682,84.35921,84.07219,79.913864,79.96605,79.96742,79.96742,79.97429,79.97978,79.97841,79.97566,79.977036,79.97841,79.97429,79.95781,79.956436,79.95918,79.960556,79.960556,79.96193,79.9633,79.96193,79.9633,79.960556,79.96193,79.964676,79.964676,79.964676,79.96742,79.97154,79.97154,79.977036,79.97978,79.97017,79.97429,79.97566,79.97566,79.977036,79.922104,79.92348,79.92485,79.92348,79.92485,79.92485,79.91661,79.92485,79.92485,79.92348,79.92348,79.92348,79.92348,79.917984,79.917984,79.91936,79.922104,79.92073,79.922104,79.92348,79.92485,79.92485,79.92485,79.92485,79.93034,79.93034,79.93172,79.98253,79.9839,79.985275,79.985275,80.05257,80.064926,80.0663,79.981155,80.01961,80.06218,80.06767,80.06767,80.06767,80.06218,80.06218,80.06218,80.06081,80.06081,80.06081,80.06081,80.06218,80.06218,80.06218,80.05943,80.04295,80.04433,80.0457,80.04707,80.05806,80.05806,80.05806,80.0869,80.069046,80.069046,80.069046,80.009995,80.01137,80.07042,80.1281,78.783646,79.62273,79.60213,79.64195,79.643326,80.218735,80.23384,80.25444,80.290146,80.298386,80.79414,80.79552,80.79414,80.79414,80.79689,80.79689,80.79689,80.79552,80.1693,80.1693,80.45494,80.45357,80.47417,80.47554,80.51811,80.51811,80.519485,80.52086,80.52086,80.519485,80.51262,80.50987,80.50987,80.515366,80.51399,80.51674,80.511246,80.51262,80.58266,80.58403,80.58952,80.5909,80.75981,80.761185,80.761185,80.752945,80.75432,80.75157,80.75157,80.765305,80.76393,80.76668,80.769424,80.95619,80.96855,80.969925,80.978165,80.978165,81.02898,81.03172,81.03172,81.0331,79.96742,79.87816,80.13222,80.15282,80.15556,80.14458,80.14732,80.1487,80.15007,80.12123,80.13771,79.01024,79.21211,79.21211,79.213486,80.15968,80.15968,80.16106,80.15968,80.16106,80.93147,81.80626,81.80763,81.804886,81.804886,81.80626,81.82274,82.92,82.89665,82.84721,82.64534,82.990036,83.94722,83.978806,83.95958,83.96507,83.958206,83.9431,83.94173,83.94447,83.17818,83.211136,84.35646,82.22374,82.74971,82.68242,82.681046,82.68379,82.70714,82.709885,82.71126,82.72087,82.70714,82.709885,83.127365,83.12599,83.127365,83.12874,83.143845,83.25096,83.25508,83.207016,83.22899,83.31001,83.28529,83.30177,83.381424,83.53111,83.52974,83.55034,83.55034,83.52287,84.78493,84.78493,84.7863,84.80278,84.80278,84.85771,84.86183,84.863205,84.86458,84.863205,84.87007,84.871445,84.88106,84.88518,84.88655,84.90028,85.04036,85.04997,85.051346,85.047226,85.02251,84.92088,84.92226,84.91814,84.91951,84.92088,84.91951,84.92088,84.92088,84.92363,84.92226,84.92363,84.91539,84.92638,84.9044,84.9044,84.90578,84.90715,84.90715,84.90303,84.90303,84.9044,84.90303,84.9044,84.90852,84.90852,84.91127,84.91264,84.9044,84.90303,84.9044,84.9044,84.90303,84.90303,84.91539,84.91402,84.91539,84.91676,84.91676,84.91676,84.90578,84.90578,84.90715,84.90715,84.90852,84.9305,84.91127,84.91127,85.27931,85.25597,85.37407,85.41939,85.41939,85.5114,85.45097,85.40428,85.09529,85.23125,85.23125,85.23125,85.23125,85.23537,85.23262,85.23262,85.23262,85.24361,85.24498,85.24635,85.54985,85.55122,85.55672,85.55122,85.5526,85.56084,85.56633,85.56496,85.56496,85.57594,85.57732,85.57732,86.00578,86.08818,86.21452,86.05797,86.05934,86.05934,86.06346,86.064835,85.9124,85.99205,85.99342,85.99205,86.00166,86.285934,86.28731,86.28731,86.28731,86.28731,86.30379,86.261215,86.390305,86.390305,86.39168,86.40129,86.19667,86.35048,86.38481,86.32301,86.32439,87.08244,87.08382,87.08519,87.08931,87.120895,86.90529,86.903915,86.87645,86.87508,86.93001,86.93138,86.93138,84.80141,85.20653,85.272446,85.264206,85.264206,85.264206,85.272446,85.27382,85.276566,85.27794,85.27931,85.29167,85.29167,85.29167,85.2903,85.2903,85.28206,85.28618,85.28755,85.2903,85.29167,85.29167,85.293045,85.29442,85.68718,85.530624,85.46883,84.9662,85.02251,85.46333,86.940994,86.97395,86.97807,87.020645,88.19206,88.19206,88.26347,88.26622,88.40492,88.431015,88.29643,88.293686,88.29094,88.289566,88.28819,88.28819,88.289566,88.27446,88.27446,88.27034,88.27171,88.27446,88.27583,88.27583,88.27583,88.26622,88.17833,88.04924,88.05061,88.543625,87.36122,87.84462,87.83363,87.83363,87.23213,87.233505,87.39967,87.51778,87.52876,87.52876,87.52464,87.52602,87.52464,87.567215,87.567215,87.57408,87.60292,87.60704,87.60841,87.61116,87.61116,87.61253,87.60292,87.60292,87.60155,87.600174,87.60292,87.60155,87.60155,87.60292,87.60292,87.60292,87.60292,87.60292,87.60155,87.59331,87.5988,87.600174,87.600174,87.596054,87.596054,87.59743,87.5988,87.59468,87.596054,87.59468,87.800674,87.87483,87.68669,87.688065,87.688065,87.68944,87.69081,87.69768,87.68257,87.68257,87.683945,87.683945,87.68532,87.68532,87.71416,87.71553,87.71553,87.7169,87.74025,87.82402,88.24013,88.013535,88.218155,88.18657,88.18657,88.181076,88.242874,88.017654,88.06297,88.03139,88.02727,88.025894,88.02452,88.025894,88.025894,88.030014,88.03139,88.03276,88.03551,88.06847,87.337875,87.7018,87.71416,87.71416,87.78145,87.78282,87.784195,87.78557,87.78694,87.788315,87.78969,87.79106,87.800674,87.80205,87.80205,87.80205,87.77458,87.775955,87.77733,87.80754,87.80754,87.808914,87.808914,87.81029,87.81029,87.813034,87.813034,87.81166,87.81578,87.81578,87.81853,87.81853,87.817154,87.81441,87.81441,87.8199,87.8199,87.82127,87.82265,87.82402,87.83363,87.83363,87.83501,87.82539,87.82814,87.83089,87.83226,87.83363,87.83638,87.83775,87.84187,87.84187,87.80342,87.80342,87.804794,87.804794,87.80617,87.80617,87.82127,87.83363,87.83089,87.85286,87.85698,87.867966,87.880325,87.88582,87.78145,87.88582,87.88994,87.49443,87.50267,87.50404,87.50542,87.5013,87.495804,87.49992,87.79793,87.81029,87.6606,87.6606,87.66197,87.93388,87.91603,87.91466,87.92427,87.9229,87.9229,87.9229,87.9435,87.94212,87.9435,87.921524,87.921524,87.917404,87.917404,87.917404,87.917404,87.91603,87.91603,87.91603,87.91603,87.91603,87.91603,87.91603,87.91466,87.91466,87.91466,87.91466,87.91466,87.913284,87.913284,87.913284,87.913284,87.913284,87.913284,87.913284,87.905045,87.905045,87.91603,87.94212,87.9435,87.94487,87.96684,87.96684,84.566574,84.754715,84.771194,85.06096,85.15297,85.155716,85.168076,85.188675,85.188675,85.24635,85.15297,85.12962,85.17906,85.17082,85.77095,84.91676,85.960464,86.594925,86.5963,86.5963,86.081314,86.077194,87.254105,87.39967,88.443375,88.422775,89.73564,89.804306,88.3239,88.43376,88.42415,88.439255,88.50105,88.49007,88.506546,88.54912,88.44475,88.447495,88.44887,88.46123,79.06105,79.01573,79.01848,79.02809,79.029465,79.02809,79.01848,79.0226,79.03908,79.04045,79.04045,79.03908,79.04045,79.05281,79.05144,79.05281,79.05281,79.054184,79.03633,79.04045,79.04045,79.03908,79.04045,79.041824,79.0432,79.0432,79.04457,79.045944,79.04457,79.04457,79.05144,79.054184,79.05556,79.05693,79.04732,79.04869,79.058304,79.43184,74.702225,74.76814,74.823074,74.82445,74.8217,74.82857,74.87251,74.878006,74.87938,74.882126,74.91371,74.9453,74.94667,74.935684,74.94942,74.990616,74.99199,74.948044,75.02495,74.927444,74.927444,74.9041,74.89998,74.902725,74.915085,74.93019,74.88762,74.63219,74.63356,74.68712,76.15105,76.15654,92.73903,92.7404,92.7404,92.741776,92.741776,92.74315,92.741776,92.74315,92.741776,92.74315,92.74452,92.745895,92.741776,92.74315,92.73628,92.741776,92.78435,92.32979,92.504196,92.58659,92.59071,92.361374,92.37236,92.37236,92.37511,92.37648,92.37785,92.37785,92.39296,92.39296,92.34215,92.34352,92.34352,92.344894,92.34627,92.34764,92.38472,92.39159,92.39296,92.4987,92.574234,92.85713,90.57884,90.625534,90.9716,90.96748,90.96748,91.07872,91.06911,91.16524,91.17622,91.347885,91.86012,91.581345,91.59645,91.65001,91.693954,91.72279,91.72417,91.72279,91.748886,91.673355,91.67473,91.67061,91.67198,91.67198,91.68297,91.68297,91.63628,91.63353,91.63902,91.6761,91.673355,91.71593,91.71593,91.7173,91.72691,91.873856,91.86424,91.86699,91.86836,91.873856,91.87523,91.87935,91.87935,91.87935,91.88072,91.882095,91.88347,91.798325,91.798325,91.82167,91.823044,91.8354,91.84227,91.82579,91.82579,91.82716,91.83266,91.83128,91.76674,91.82854,91.82991,91.84776,91.84914,91.85875,91.88896,91.52916,91.61705,91.61705,92.02217,92.70058,92.745895,92.74727,92.74727,92.74727,92.20482,92.20619,92.32979,92.7404,92.653885,93.66325,93.77998,93.81157,93.81294,93.67836,93.74565,93.769,93.75664,93.834915,93.78685,93.96538,93.96538,93.97087,93.968124,93.9695,93.96675,93.951645,93.95302,93.96538,93.96538,93.964005,93.964005,93.96263,93.96263,93.96126,93.96126,93.96126,93.96126,93.959885,93.959885,93.95851,93.95851,93.959885,93.959885,93.959885,93.959885,93.959885,93.95851,93.95714,93.95851,93.95851,93.95851,93.95714,93.822556,93.822556,93.82393,93.82805,93.834915,93.726425,93.726425,93.76076,93.759384,93.74153,93.74428,93.593216,93.5836,93.5836,93.68111,93.69484,93.70445,93.769,93.82393,93.82393,93.843155,93.82118,95.22606,95.30571,95.30571,95.30708,95.30983,95.3112,95.31532,95.316696,95.32356,95.32356,95.32356,95.32356,95.316696,95.316696,95.31532,95.31532,95.31532,95.31532,95.316696,95.30571,95.30571,95.30708,95.30708,95.30983,95.31395,95.32219,95.320816,95.31944,95.31944,95.31944,95.31944,95.320816,95.31807,95.31807,95.31807,95.32631,95.31944,95.320816,95.32219,95.32356,95.32631,95.32768,95.33043,95.33043,95.3318,95.3318,95.3318,95.3318,95.333176,95.33455,95.33043,95.3318,95.3318,95.333176,95.33455,95.33592,95.33592,95.33455,95.34828,95.38124,95.38124,95.55565],\"marker\":{\"color\":\"green\",\"size\":15},\"mode\":\"markers\",\"name\":\"Vehicles \\u003c 15Km\",\"type\":\"scattermapbox\"},{\"lat\":[8.251419,8.243179,8.160782,8.164902,8.170395,8.178635,8.177261,8.196487,8.196487,8.197861,8.2061,8.2061,8.208847,8.203354,8.171768,8.1731415,8.167648,8.167648,8.170395,8.175888,8.177261,8.178635,8.184128,8.185501,8.806229,10.485764,10.489883,10.27153,10.27153,10.27153,10.274277,10.955429,10.932083,10.932083,10.960922,12.518234,12.084274,12.085648,12.085648,12.202377,12.882156,13.055191,13.243332,13.662186,13.663559,13.663559,12.526474,12.161179,11.80275,11.824722,12.56218,12.603378,12.787399,13.611374,13.611374,13.612747,12.66655,12.985153,13.610001,13.611374,14.004135,14.883041,14.885788,14.887161,14.891281,14.892654,14.896774,14.899521,14.899521,14.900894,14.900894,14.902267,14.902267,14.902267,14.899521,14.902267,14.869308,14.873428,14.870682,14.862442,14.866562,14.867935,14.8789215,14.855576,14.863815,14.975052,15.731735,16.437607,16.436234,16.437607,16.440353,16.440353,16.441727,16.441727,16.489792,16.489792,16.495285,16.498032,15.933609,16.769943,16.769943,16.769943,14.2087555,14.2087555,14.222488,15.023117,15.008011,15.009384,15.010757,15.012131,15.012131,15.013504,15.013504,15.082169,15.6479645,15.649338,16.235733,16.190414,16.190414,16.191788,18.052597,18.133621,18.439865,18.695297,18.70491,18.70079,18.70079,18.706284,18.711777,18.710403,18.671951,18.681564,18.685684,18.689804,18.689804,18.732376,18.908157,18.90953,18.912277,18.912277,18.912277,18.915024,18.915024,18.916397,18.91365,18.915024,18.916397,18.91777,18.92601,18.928757,18.927383,18.919144,18.920517,18.92189,18.923264,18.924637,18.92601,18.932877,18.93013,18.932877,18.932877,18.935623,18.94661,19.287186,19.288559,19.2762,19.28444,19.287186,19.287186,19.288559,19.291306,19.289932,19.291306,19.292679,19.295425,19.296799,19.299545,19.299545,19.420395,19.421768,19.348984,19.483566,19.483566,19.494553,19.495926,19.505539,19.505539,19.506912,19.482193,19.483566,19.500046,19.498672,19.498672,19.500046,19.50142,19.506912,19.59343,19.598923,19.600296,20.97908,20.837631,19.938126,19.944992,20.074081,20.438004,21.484451,21.483078,21.484451,21.484451,21.49681,22.357864,22.359238,22.360611,22.36473,22.36885,22.371597,21.809921,22.252121,16.923752,16.96907,16.96907,16.96907,16.970444,16.941605,16.941605,17.16957,17.31514,17.426376,17.42775,17.42775,17.43187,17.43599,17.804031,18.239365,18.136368,18.137741,18.137741,18.136368,17.918015,17.9496,18.012772,17.98256,17.015762,17.050095,18.17482,18.176193,18.306656,18.30803,18.537369,18.523636,18.382187,18.424759,19.188309,19.200668,19.17595,19.177322,19.204788,19.206161,19.23912,19.332504,19.333878,19.528885,18.465958,18.46733,19.679947,17.063828,17.817764,17.82875,17.82875,17.82875,17.451096,17.66121,17.668076,18.011398,18.827133,18.828506,18.739243,19.333878,19.523392,19.524765,18.916397,18.858719,19.361343,19.361343,19.362717,19.567337,19.587936,19.58519,19.58931,19.592056,19.59343,19.60991,19.616776,20.210037,19.979324,19.980698,19.690933,20.080948,20.080948,21.378708,21.455612,21.463852,22.033768,22.035141,22.031021,22.20543,22.41417,22.37297,22.234268,22.367477,22.058487,22.058487,20.687943,19.807663,19.846115,21.661606,22.475967,22.475967,22.47734,21.623154,21.11229,21.778336,12.032089,12.032089,12.032089,12.051315,12.051315,12.420731,12.974167,12.97554,12.807999,12.916489,12.924728,13.310623,13.149948,13.149948,13.1375885,13.655319,13.382034,13.73497,14.149704,14.204636,15.197525,15.15358,15.234604,17.843857,17.755966,17.75734,17.09404,17.095413,17.164078,17.076187,17.074814,17.786179,18.840866,19.236374,19.232254,19.232254,19.23088,19.23088,19.23088,19.465714,19.467087,19.467087,19.465714,17.231369,17.339859,18.04985,18.236618,18.236618,18.236618,17.972946,17.971573,17.972946,17.972946,17.977066,17.972946,17.972946,17.9702,17.971573,17.97432,17.979813,17.979813,18.644485,18.644485,19.061966,19.061966,19.068832,19.114151,19.049606,19.381943,19.4561,19.458847,19.431381,18.437119,18.441238,18.82164,19.880447,19.884567,19.884567,19.868088,19.863968,19.863968,19.869461,19.880447,19.88594,19.887314,19.887314,19.888687,19.89006,19.892807,19.891434,19.89418,19.895554,19.896927,20.065842,20.113907,20.1194,20.12352,20.267715,20.275955,20.275955,20.275955,20.284195,20.281448,19.98207,20.35698,20.358353,20.359726,20.3611,20.362473,20.363846,20.367966,20.367966,20.367966,20.36522,20.366592,20.366592,20.367966,20.369339,20.369339,20.369339,20.369339,20.369339,20.370712,20.370712,20.370712,20.385818,20.370712,20.370712,20.372086,20.68245,20.683823,20.952988,20.873337,20.873337,20.425644,20.42839,20.43251,20.442123,22.30568,22.474594,22.452621,20.876083,21.029892,20.932388,21.08345,19.70192,20.700302,21.09993,21.142502,21.6053,21.760483,22.30568,22.30568,22.30568,21.998062,21.998062,22.033768,22.140884,21.922531,22.018661,22.017288,22.157364,22.158737,22.158737,22.157364,22.158737,22.157364,22.16011,22.161484,22.18071,22.223282,22.221909,22.20131,22.257614,22.257614,22.26036,22.342758,22.326279,22.327652,22.327652,22.329025,22.331772,22.330399,22.327652,22.327652,22.329025,22.327652,22.327652,22.337265,22.337265,22.335892,22.337265,22.338638,22.338638,22.338638,22.338638,22.340012,22.344131,22.344131,22.344131,22.344131,22.344131,22.344131,22.355118,22.346878,22.346878,22.348251,22.348251,22.349625,22.349625,22.352371,22.352371,22.357864,22.359238,22.359238,22.359238,22.326279,22.326279,22.337265,22.338638,22.338638,22.344131,22.344131,22.345505,22.345505,22.345505,22.345505,22.345505,22.345505,22.345505,22.335892,22.335892,22.335892,22.335892,22.340012,22.340012,22.340012,22.340012,22.340012,22.340012,22.340012,22.340012,22.344131,22.345505,22.345505,22.345505,22.345505,22.344131,22.344131,22.344131,22.344131,22.345505,22.341385,22.341385,22.341385,22.341385,22.341385,22.342758,22.342758,22.342758,22.342758,22.341385,22.341385,22.341385,22.342758,22.344131,22.344131,22.344131,22.344131,22.344131,22.334518,22.334518,22.334518,22.335892,22.335892,22.335892,22.335892,22.335892,22.340012,22.342758,22.342758,22.344131,22.344131,22.345505,22.345505,22.345505,22.345505,22.344131,22.344131,21.165848,21.684952,21.686325,21.73851,21.73851,21.73851,21.75087,21.75911,21.73851,21.739883,21.744003,21.745377,21.744003,21.752243,21.741257,21.752243,21.77147,21.765976,21.801682,22.09694,22.09694,22.099686,22.099686,22.099686,22.099686,22.101059,22.101059,22.116165,22.132645,22.132645,22.136765,22.136765,22.136765,22.136765,22.136765,22.136765,22.138138,22.138138,22.153244,22.154617,22.154617,22.154617,22.17659,22.17659,22.216415,21.874466,21.874466,21.87584,21.877213,21.877213,21.877213,21.878586,21.878586,21.878586,21.878586,21.87996,21.87996,21.87996,21.87996,21.881332,21.882706,21.884079,21.87996,21.901932,21.903305,21.892319,21.895065,21.886826,21.885452,21.897812,21.897812,21.896439,21.95961,22.025528,22.025528,22.025528,22.025528,22.026901,22.026901,22.026901,22.026901,22.026901,22.085953,22.031021,20.394058,20.470963,20.472336,20.472336,20.843124,20.959854,21.764603,21.683578,21.683578,21.684952,21.686325,21.684952,21.684952,21.684952,21.686325,22.099686,22.359238,22.388077,22.49794,21.926651,21.93077,21.93077,21.948624,21.904678,21.901932,21.901932,21.901932,21.903305,21.912918,21.912918,21.919785,21.926651,21.928024,21.928024,21.926651,21.928024,21.919785,21.923904,21.925278,21.923904,21.923904,21.923904,21.925278,21.926651,21.929398,21.944504,21.944504,21.945877,21.945877,21.948624,21.945877,21.945877,21.94725,21.94725,21.948624,21.932144,21.933517,21.93901,21.948624,21.949997,21.97609,21.97609,22.316666,22.318039,22.029648,22.031021,22.031021,22.042007,22.065353,22.92366,23.838272,23.857498,23.841019,23.841019,23.841019,23.894577,23.882217,22.72316,22.661362,22.705307,23.010178,23.01567,23.01567,23.01567,23.012924,23.017044,23.1324,23.147507,23.163986,23.354874,23.762741,24.32991,24.331284,24.332657,25.9655,25.968246,25.966873,25.96962,25.96962,25.964127,25.964127,25.9655,25.96962,25.96962,25.970993,26.936417,22.779465,22.779465,22.780838,22.780838,22.81517,22.81517,22.886581,22.887955,22.889328,22.890701,22.904434,22.92366,22.926407,22.529526,22.640762,22.772598,22.773972,22.772598,22.659988,22.556992,22.544632,22.651749,22.872849,23.008804,23.014297,23.008804,23.050003,23.633652,23.446884,23.448257,24.351883,24.766617,24.952011,24.956131,24.96437,24.96437,24.965744,24.96437,24.478226,24.01268,24.064865,24.191208,24.79271,24.877853,24.879227,24.883347,24.88472,24.930038,24.935532,22.71904,22.703934,22.666855,22.566605,22.628403,22.628403,22.628403,22.596817,22.62291,22.62291,22.625656,22.628403,22.629776,22.672348,22.683334,23.022537,23.192825,23.724289,23.581467,22.658615,22.679214,22.692947,22.692947,22.708054,22.708054,22.708054,22.751999,23.471603,23.515549,23.515549,23.516922,23.516922,23.516922,23.680344,23.805313,23.89183,24.060745,24.007187,25.015182,25.267868,24.384842,24.577103,24.030533,24.35463,24.35463,24.35463,24.356003,24.356003,25.208817,25.699081,26.218185,26.565628,27.0298,27.086105,27.086105,27.086105,27.860641,25.388718,25.388718,25.39009,25.484848,25.683975,25.84053,25.675735,26.49559,26.301956,26.034164,26.036911,26.036911,26.038284,26.038284,26.035538,26.035538,26.036911,26.038284,26.039658,26.038284,26.039658,26.039658,26.04103,26.038284,26.039658,26.70433,27.215195,27.848282,27.862015,27.862015,27.598343,27.606583,27.603836,27.60521,27.606583,27.610703,28.12294,26.869125,28.793106,28.793106,28.620071,28.764267,28.764267,28.76564,28.42781,28.512955,28.795853,29.113083,29.117203,29.118576,28.345413,28.675003,28.676376,28.676376,28.676376,28.676376,28.67775,28.67775,28.67775,28.676376,28.679123,28.819199,28.44841,28.414078,28.41957,28.42781,28.434677,28.688736,28.574753,28.5775,28.512955,28.512955,28.887863,29.133682,29.132309,29.132309,28.935928,29.496231,29.496231,29.455032,29.482498,29.75029,29.72557,29.73793,29.843674,29.6624,29.87114,29.765396,29.76677,29.818954,29.820328,29.823074,29.831314,29.832687,29.831314,29.831314,29.812088,29.814835,30.111465,30.116959,30.19661,29.95079,30.387497,30.38887,30.391617,30.399857,30.40123,30.387497,30.390244,30.391617,30.39299,30.39299,30.394363,30.394363,30.48088,30.490494,30.491867,30.49324,30.495987,30.508347,30.5262,30.527573,30.559158,29.603348,29.560776,30.20897,30.210342,30.225449,30.226822,29.599228,29.831314,29.945297,30.132065,30.138931,30.141678,30.143051,30.144424,30.07164,30.126572,30.236435,30.236435,30.236435,30.237808,30.240555,30.240555,30.664902,30.40123,30.390244,30.692368,30.692368,31.383133,32.323837,32.326584,32.330704,32.343063,33.52684,33.63945,33.63945,33.632584,33.642197,33.69438,33.6985,33.699875,32.870407,32.8965,32.94594,32.89238,32.994003,33.03795,33.03932,33.040695,32.490005,33.16017,33.165665,33.081894,33.081894,33.083267,33.083267,33.083267,33.08464,33.079147,33.083267,33.08464,33.086014,33.095627,33.103867,33.103867,33.10524,33.16841,33.178024,33.17253,33.175278,33.161545,33.178024,33.18489,33.179398,33.18077,33.360672,33.1588,33.17253,33.210983,33.245316,33.245316,33.248062,33.25081,33.252182,33.25493,33.298874,33.300247,33.265915,33.2563,33.26729,33.28514,33.283768,33.296127,33.296127,33.327713,33.329086,33.329086,33.12996,33.12996,33.131332,33.131332,33.15605,33.128586,33.131332,33.143692,33.231583,33.223343,33.224716,33.139572,33.14644,33.374405,33.362045,33.36754,33.36891,33.35106,33.353806,33.353806,33.35106,33.35106,33.35106,33.349686,33.35106,33.35106,33.352432,33.352432,33.352432,33.352432,33.353806,33.348312,33.348312,33.35518,33.35518,33.35518,33.449936,33.449936,33.45131,33.452682,33.449936,33.449936,33.45131,33.45131,33.45131,33.454056,33.454056,33.456802,33.456802,33.456802,33.456802,33.456802,33.456802,33.456802,33.458176,33.454056,33.45543,33.454056,33.456802,33.45131,33.45131,33.45131,33.45131,33.45131,33.45131,33.45131,33.452682,31.38176,31.399612,31.129074,31.258163,31.254044,31.255417,31.442184,31.536942,31.589127,31.58638,31.536942,31.547928,31.709976,31.77864,32.102737,31.098862,31.098862,31.359787,31.359787,32.535324,32.594376,33.341446,33.344193,33.345566,33.345566,33.34694,33.34694,22.949753,22.949753,23.413925,23.400192,23.408432,23.283463,23.363113,23.372726,23.3947,23.489456,22.596817,22.937393,22.945633,22.947006,23.368607,23.36998,23.36998,23.375473,23.371353,23.36998,23.36998,23.36998,23.371353,23.372726,23.371353,23.220291,23.34526,23.34526,23.34526,23.346634,23.346634,23.346634,23.526535,24.045639,24.318924,24.754257,24.818802,25.004196,25.236282,25.237656,25.140152,24.001694,24.568863,24.215927,24.32579,24.327164,24.327164,24.332657,24.332657,24.711685,24.711685,25.271988,25.30632,25.195084,25.204697,25.20607,25.20607,22.901688,23.115921,22.793198,23.214798,23.287582,23.33702,23.308182,23.364487,23.36586,23.246384,23.247757,23.26561,23.26561,23.306808,23.339767,23.89595,24.075851,24.044266,24.412308,24.412308,24.413681,24.424667,23.93303,23.934402,24.042892,24.042892,24.052505,24.052505,24.052505,24.052505,24.052505,24.053879,24.053879,24.053879,24.005814,24.007187,24.007187,24.007187,24.00856,24.009933,24.011307,24.03328,24.03328,24.026413,24.474106,24.479599,25.060501,25.000076,25.000076,24.990463,25.090714,25.092087,25.09346,25.09346,25.094833,24.210434,24.22142,24.222794,24.22554,23.923416,23.92479,23.926163,24.274979,24.353256,24.353256,24.356003,24.356003,24.377975,24.449387,24.995956,25.049515,25.063248,25.064621,25.060501,24.971237,25.011063,25.348892,25.565872,25.597458,25.634537,25.899582,25.887222,25.324173,25.31456,25.804825,25.813065,25.83229,25.841904,25.843277,25.847397,25.847397,25.847397,25.847397,25.851517,25.520554,25.537033,25.537033,25.571365,26.06987,26.362381,26.363754,26.488724,26.535416,26.535416,26.538162,26.470871,26.47911,26.480484,26.485977,26.485977,26.492844,26.490097,26.49147,26.49147,26.49559,26.492844,26.502457,26.50795,26.49971,26.50383,26.377487,26.527176,27.215195,27.228928,27.228928,27.2303,27.515945,27.726059,27.498093,27.515945,27.727432,27.727432,27.727432,27.686234,27.708206,27.752151,27.945786,27.829056,27.816696,27.816696,27.81807,27.88948,27.88948,27.88536,27.886734,27.9142,27.955399,27.955399,27.954025,26.94603,26.81282,25.40245,25.421677,25.600204,25.600204,25.602951,25.604324,25.602951,25.604324,25.609818,25.61531,25.622177,25.62355,25.624924,25.634537,25.633163,25.683975,25.399704,26.07399,26.27037,25.541153,25.575485,25.359879,25.714188,25.7238,25.725174,25.55214,25.561752,25.707321,25.745773,25.754013,26.108322,26.47499,26.47499,26.683731,26.783981,26.873245,26.877365,26.907578,26.90895,26.910324,26.911697,26.91307,26.91307,27.164383,27.16713,27.16713,27.168503,27.169876,27.17125,27.172623,27.172623,27.211075,27.219315,27.241287,27.213821,27.201462,27.297592,27.296219,27.297592,27.298965,27.300339,27.334671,27.33879,27.366257,27.369003,27.369003,26.965256,27.14653,22.556992,22.558365,22.559738,23.817673,23.819046,23.846512,23.846512,23.89595,23.82454,23.831406,23.836899,23.836899,23.838272,23.836899,23.825912,23.841019,23.825912,23.825912,23.827286,23.830032,23.831406,23.834152,23.838272,23.842392,23.842392,23.842392,23.843765,23.845139,23.845139,23.841019,23.842392,23.842392,23.846512,23.847885,23.849258,23.850632,23.853378,23.854752,23.856125,23.858871,23.860245,23.860245,23.858871,23.857498,23.858871,23.858871,23.860245,23.88359,23.88359,23.864365,23.862991,23.867111,23.862991,23.862991,23.862991,23.862991,23.868484,23.869858,23.878098,23.878098,23.88359,23.87947,23.880844,23.882217,23.873978,23.88771,23.89183,23.89183,23.884964,23.889084,23.890457,23.890457,23.890457,23.894577,23.894577,23.89595,23.89595,23.897324,23.897324,23.897324,23.897324,23.898697,23.862991,23.864365,23.878098,23.87947,23.880844,23.880844,23.893204,23.894577,23.89595,23.897324,23.90007,23.89595,23.493576,23.890457,23.89183,23.89183,23.893204,23.619919,23.621292,23.621292,22.665482,23.794327,23.81218,23.91655,24.20906,24.210434,24.12117,24.805069,25.026169,24.130783,24.171982,24.33403,24.603195,24.946518,24.86824,24.86824,24.925919,24.887466,24.88472,25.133286,25.147018,25.147018,25.148392,25.148392,25.144272,25.255508,24.802322,25.071487,25.256882,25.053635,23.758621,23.629532,23.865738,23.87947,23.88771,22.864609,23.04863,24.196701,24.196701,24.290085,24.291458,24.292831,24.291458,24.291458,24.292831,24.291458,24.291458,24.290085,24.290085,24.290085,24.290085,24.290085,24.290085,24.287338,24.288712,24.291458,24.296951,24.339523,24.340897,24.340897,24.356003,24.360123,24.36287,24.365616,24.36699,24.36699,24.368362,24.368362,24.369736,24.369736,24.372482,24.376602,24.405441,24.413681,24.4178,24.42192,24.423294,24.424667,24.42604,24.427414,24.428787,24.431534,24.520798,24.520798,24.520798,24.520798,24.520798,24.520798,24.520798,24.520798,24.520798,24.520798,24.520798,24.520798,24.519424,24.519424,24.519424,24.519424,24.519424,24.519424,24.519424,24.545517,24.54689,24.54689,24.54689,24.545517,24.545517,24.537277,24.537277,24.529037,24.53041,24.531784,24.531784,24.53041,24.53041,24.53041,24.53041,24.53041,24.53041,24.53041,24.53041,24.53041,24.53041,24.529037,24.529037,24.53041,24.53041,24.533157,24.53453,24.535904,24.537277,24.53865,24.53865,24.540024,24.541397,24.54277,24.545517,24.545517,24.545517,24.545517,24.54689,24.54689,24.54689,24.548264,24.548264,24.549637,24.549637,24.549637,24.544144,24.545517,24.545517,24.544144,24.544144,24.544144,24.544144,24.544144,24.544144,24.544144,24.544144,24.544144,24.544144,24.544144,24.544144,24.544144,24.523544,24.524918,24.52629,24.52629,24.524918,24.527664,24.529037,24.529037,24.53041,24.53041,24.53041,24.523544,24.523544,24.523544,24.522171,24.523544,24.522171,24.522171,24.522171,24.522171,24.523544,24.523544,24.523544,24.523544,24.523544,24.523544,24.523544,24.523544,24.523544,24.523544,24.522171,24.519424,24.519424,24.520798,24.520798,24.520798,24.520798,24.522171,24.522171,24.522171,24.522171,24.523544,24.523544,24.523544,24.523544,24.523544,24.523544,24.523544,24.524918,24.524918,24.523544,24.523544,24.523544,24.523544,24.524918,24.52629,24.52629,24.52629,24.52629,24.52629,24.52629,24.52629,24.52629,24.52629,24.52629,24.52629,24.52629,24.52629,24.52629,24.527664,24.527664,24.529037,24.529037,24.529037,24.529037,24.529037,24.527664,24.527664,24.527664,24.527664,24.527664,24.527664,24.527664,24.527664,24.531784,24.533157,24.533157,24.533157,24.533157,24.537277,24.53865,24.53865,24.540024,24.541397,24.54277,24.544144,24.545517,24.54689,24.549637,24.552383,24.552383,24.553757,24.553757,24.553757,24.553757,24.553757,24.553757,24.552383,24.553757,24.553757,24.55513,24.556503,24.556503,24.564743,24.564743,24.566116,24.566116,24.56749,24.568863,24.568863,24.568863,24.568863,24.568863,24.568863,24.360123,24.36287,24.364243,24.36699,24.371109,24.376602,24.399948,24.375229,24.56337,24.56337,24.570236,24.57161,24.57573,24.585342,24.586716,24.588089,24.590836,24.593582,24.594955,24.597702,24.608688,24.607315,24.599075,24.76387,24.783096,24.832535,24.843521,24.621048,24.622421,24.623795,24.629288,24.612808,24.63478,24.633408,24.63478,25.317307,25.365372,25.421677,25.44777,25.616684,25.616684,25.65651,25.465622,26.384354,26.160507,25.822678,25.942154,25.466995,25.466995,25.53154,25.54802,25.600204,25.600204,25.594711,25.594711,25.596085,25.593338,25.593338,25.593338,25.593338,25.594711,25.596085,25.597458,25.601578,25.601578,25.600204,25.600204,25.600204,25.600204,25.482101,25.567245,25.567245,25.600204,25.600204,25.596085,25.521927,25.922928,26.1866,26.187973,26.187973,26.187973,26.083603,26.196213,26.436539,26.547775,26.355515,26.345901,26.72493,26.72493,26.72081,26.723557,26.72493,26.72493,25.504074,26.08635,26.987228,26.987228,26.989975,27.28798,27.28386,27.282486,27.28386,27.282486,27.282486,27.286606,27.28798,27.289352,27.241287,28.265762,28.265762,28.254776,28.253403,28.24791,28.334427,28.213577,28.284988,28.545914,29.136429,29.176254,29.067764,30.222702,30.224075,30.243301,30.50972,30.51796,30.519333,30.519333,33.767166,33.774033,33.77266,33.794632,34.228592,34.103622,34.176407,34.276657,34.300003,34.300003,34.301376,34.301376,34.316483,34.337082,34.08577,34.139328,9.238815,9.238815,9.240189,9.240189,9.163284,22.3098,23.89595,24.307938,25.22255,25.184097,25.133286,25.168991,25.168991,25.170364,25.170364,25.171738,25.170364,25.171738,25.171738,25.173111,25.173111,25.178604,25.175858,25.144272,25.144272,25.163498,25.164871,25.168991,25.168991,25.168991,25.162125,25.168991,25.171738,25.171738,25.171738,25.170364,25.170364,25.174484,25.168991,25.015182,23.817673,23.817673,23.862991,23.862991,23.862991,25.111313,25.111313,24.85588,24.86,24.910812,24.910812,24.898453,24.899826,25.82405,25.82405,25.98198,25.966873,25.958633,25.97786,25.979233,26.030045,26.248398,25.372238,25.905075,26.023178,26.021805,26.023178,26.255264,26.461258,26.109695,26.168747,26.556015,26.697464,27.39235,27.393723,25.889969,25.894089,25.894089,25.839157,25.96962,25.494461,25.516434,25.65651,25.65651,25.743027,25.745773,25.997086,25.685349,25.686722,25.73616,25.745773,25.712814,25.711441,25.734787,25.738907,25.73204,25.777359,25.759506,25.75676,25.75676,25.683975,25.685349,25.682602,25.682602,25.681229,25.681229,25.683975,25.681229,25.682602,25.682602,25.682602,25.682602,25.683975,25.678482,25.677109,25.682602,25.686722,25.688095,25.688095,25.688095,25.689468,25.688095,25.688095,25.689468,25.689468,25.686722,25.688095,25.704575,25.666122,25.666122,25.667496,25.666122,25.667496,25.674362,25.668869,25.668869,25.683975,25.685349,25.718307,25.71968,25.710068,25.714188,25.916061,26.211319,26.042404,26.380234,26.380234,26.398087,26.513443,26.514816,26.47911,26.09047,26.093216,26.09459,26.650772,26.639786,25.438156,25.721054,25.714188,26.455765,26.619186,26.635666,26.63292,27.38411,27.565384,27.90184,27.745285,27.844162,26.793594,26.785355,26.794968,26.79634,26.827927,26.771622,26.797714,26.792221,26.82518,26.83342,26.838913,26.840286,27.145157,26.91719,27.190475,27.39235,27.753525,27.639542,28.161392],\"lon\":[77.16591,77.19612,77.627335,77.64107,77.6548,77.64519,77.64656,77.635574,77.635574,77.63695,77.639694,77.64107,77.64656,77.67265,77.70424,77.70424,77.70836,77.70973,77.70836,77.702866,77.702866,77.70149,77.698746,77.698746,76.93794,76.07826,76.07689,77.4955,78.7191,78.720474,78.72322,78.75618,79.8452,79.847946,79.81773,75.015335,75.51933,75.51796,75.51933,75.33531,75.03044,74.93294,74.92195,75.12108,75.119705,75.12108,76.60011,76.69762,77.819595,77.844315,77.68364,77.78664,77.06291,76.95442,76.95442,76.95442,78.12721,78.06816,77.76192,77.76604,77.83058,74.32869,74.32869,74.32869,74.32869,74.32869,74.35066,74.32869,74.331436,74.331436,74.33418,74.33418,74.335556,74.3383,74.34242,74.339676,74.376755,74.37126,74.376755,74.39461,74.3795,74.37813,74.36302,74.41933,74.43306,75.699234,73.8604,73.69011,73.69148,73.69148,73.69148,73.692856,73.69148,73.692856,73.92357,73.92494,73.92082,73.918076,75.50011,75.30922,75.31059,75.311966,76.22383,76.22383,76.20598,76.55617,76.58501,76.58501,76.58501,76.58638,76.58775,76.58638,76.58775,76.49574,76.55205,76.55205,77.469406,77.61223,77.6136,77.614975,73.02544,73.10921,73.11058,73.0323,73.02544,73.02681,73.02681,73.03093,73.02818,73.02956,73.06526,73.03917,73.050156,73.04329,73.04466,73.083115,72.80846,72.816696,72.81807,72.82219,72.82356,72.81807,72.82219,72.81807,72.82356,72.824936,72.82631,72.82768,72.82768,72.824936,72.82768,72.829056,72.83043,72.83043,72.8318,72.8318,72.8318,72.82768,72.829056,72.83043,72.8318,72.83043,72.7961,72.79472,72.79472,72.7961,72.79884,72.7961,72.7961,72.7961,72.80296,72.80708,72.81395,72.81532,72.81807,72.81944,72.829056,72.83592,72.84279,72.84279,72.88811,72.929306,72.93068,72.986984,72.98836,73.00621,73.00758,73.00484,73.03917,73.03917,73.06938,73.070755,73.07213,73.070755,73.070755,73.087234,72.874374,72.87712,72.87712,70.54527,70.692215,72.86888,72.862015,72.9142,73.103714,72.92656,72.92793,72.92793,72.929306,72.96364,72.26326,72.26326,72.307205,72.311325,72.26875,72.27013,72.862015,73.01582,73.517075,73.54729,73.54866,73.642044,73.642044,73.6956,73.696976,73.53493,73.52394,73.63518,73.633804,73.63518,73.63243,73.66539,73.81508,73.28087,73.80821,73.80684,73.80684,73.809586,74.39186,73.88374,74.343796,74.45091,74.85878,75.22133,75.00023,75.00023,73.2383,73.2383,73.13805,73.6187,74.51683,74.46602,73.25615,73.250656,73.274,73.274,73.24928,73.24928,73.26988,73.28636,73.28636,74.485245,75.17464,75.17464,75.62096,76.980515,75.971146,76.771774,76.771774,76.771774,78.10936,78.62297,78.59825,78.74794,76.09886,76.12358,76.33919,76.97777,77.0121,77.0121,77.75917,77.907486,77.410355,78.43346,78.43346,78.499374,78.491135,78.49251,78.491135,78.48976,78.48976,78.491135,78.50075,73.74504,74.99199,74.99199,75.29549,75.645676,75.645676,73.21495,73.295975,73.29735,74.89998,74.89998,74.910965,74.75578,74.569016,74.78737,75.090866,75.07713,75.85991,75.86128,77.30049,78.48015,78.57353,75.995865,77.0121,77.0121,77.01347,77.92122,78.74657,78.25493,79.64882,79.65019,79.65019,79.66667,79.668045,79.92622,79.55681,79.55681,79.83421,79.89876,79.89189,79.45381,79.84657,79.89189,79.91936,79.0638,80.10887,79.743576,80.0251,80.093765,79.258804,79.67766,79.97429,79.012985,79.10362,79.10225,80.498886,80.49614,80.47279,81.12236,81.12373,81.39839,79.85893,79.28352,79.36455,79.36455,79.375534,79.38377,79.38377,80.009995,80.009995,80.009995,80.01137,81.741714,81.82823,83.24135,83.26195,83.26332,83.264694,83.49266,83.49541,83.49403,83.49541,83.48305,83.49678,83.49815,83.50777,83.51326,83.49815,83.50365,83.51601,82.88017,82.881546,82.47368,82.47505,82.613754,82.56981,82.63298,82.38304,82.30476,82.296524,82.76482,83.16719,83.24684,82.994156,79.11873,79.12285,79.12285,79.125595,79.129715,79.13109,79.125595,79.12422,79.12285,79.121475,79.12285,79.121475,79.121475,79.1201,79.121475,79.1201,79.1201,79.1201,79.00337,79.033585,79.02809,79.03633,78.98964,78.9814,78.9814,78.9814,78.98003,78.9814,79.563675,79.99214,79.99214,79.99214,79.993515,79.99489,79.99626,79.99214,79.993515,79.99489,79.997635,79.997635,79.99901,79.99901,79.993515,79.99489,79.99626,79.997635,79.99901,79.99901,80.00038,80.001755,79.99489,80.00313,80.0045,80.00313,79.30412,79.30275,78.85643,79.2849,79.28902,79.705124,79.705124,79.705124,80.009995,79.17091,80.36568,80.69939,81.65657,81.58241,81.74446,81.88728,83.40065,83.477554,81.62636,81.76781,82.050705,82.93648,82.02049,82.02049,82.02049,82.28554,82.28554,82.30751,82.44896,82.87056,82.88017,82.881546,82.48741,82.48741,82.48741,82.49016,82.488785,82.49153,82.49565,82.49428,82.505264,82.517624,82.519,82.55058,82.53822,82.53822,82.54234,82.44072,82.517624,82.51625,82.517624,82.517624,82.51213,82.517624,82.52312,82.52312,82.52312,82.52449,82.52724,82.52586,82.52586,82.52724,82.52724,82.52449,82.52449,82.52586,82.52724,82.52724,82.52449,82.52449,82.52586,82.52586,82.52724,82.52724,82.51625,82.52312,82.52312,82.52174,82.52174,82.52174,82.52174,82.52037,82.52037,82.51488,82.513504,82.51488,82.51488,82.52998,82.53136,82.53273,82.53273,82.5341,82.52998,82.52998,82.53273,82.53273,82.5341,82.53685,82.53685,82.53822,82.5396,82.54509,82.54646,82.54784,82.55058,82.54784,82.54784,82.54921,82.54921,82.54921,82.55058,82.55058,82.55058,82.54234,82.54097,82.54234,82.54234,82.54234,82.54372,82.54372,82.54509,82.54509,82.54372,82.54646,82.54646,82.54784,82.54784,82.54784,82.54646,82.54646,82.54784,82.54784,82.54921,82.54921,82.55058,82.55058,82.54646,82.54646,82.54784,82.55058,82.55058,82.551956,82.556076,82.556076,82.5547,82.5547,82.5547,82.556076,82.556076,82.5547,82.551956,82.55333,82.551956,82.551956,82.5547,82.5547,82.55745,82.55882,82.560196,82.560196,83.436356,83.202896,83.202896,83.2798,83.28117,83.28117,83.456955,83.461075,83.81813,83.81813,83.81676,83.81676,83.82912,83.83873,83.85246,83.853836,83.85521,83.862076,83.094406,83.45421,83.45421,83.452835,83.452835,83.452835,83.452835,83.45558,83.45558,83.46382,83.51738,83.51738,83.51875,83.51875,83.51875,83.51875,83.52013,83.52013,83.51875,83.51875,83.49403,83.49403,83.49403,83.49541,83.50777,83.50777,83.49678,83.72475,83.72475,83.72887,83.73024,83.73161,83.73161,83.73161,83.73161,83.73161,83.73299,83.73024,83.73024,83.73161,83.73161,83.73024,83.73024,83.73024,83.73299,83.71513,83.71376,83.72612,83.72475,83.72887,83.73024,83.71925,83.71925,83.722,83.803024,83.786545,83.78792,83.78792,83.78929,83.80028,83.80165,83.803024,83.807144,83.80852,83.907394,84.03511,84.58031,85.46883,85.46883,85.4702,86.01814,86.1129,84.524,85.430374,85.434494,85.43175,85.43175,85.43312,85.434494,85.434494,85.43312,84.37569,84.95247,84.955215,84.94972,85.25322,85.23262,85.23399,85.25047,85.272446,85.28343,85.284805,85.28618,85.28618,85.29442,85.29579,85.297165,85.29442,85.293045,85.29442,85.297165,85.297165,85.29854,85.30266,85.301285,85.30403,85.305405,85.305405,85.30678,85.30815,85.297165,85.280685,85.28206,85.284805,85.28618,85.28618,85.28755,85.288925,85.28755,85.288925,85.28755,85.3109,85.3109,85.31227,85.29854,85.29854,85.217514,85.21889,86.28319,86.28319,88.08769,88.089066,88.09044,88.08769,88.080826,70.10582,69.695206,69.67186,69.686966,69.68834,69.68971,69.67735,69.724045,70.95726,71.10283,72.37999,72.26463,72.25914,72.26051,72.26189,72.26326,72.26189,72.37724,72.44728,72.532425,72.065506,72.07237,71.99135,71.99272,71.99135,71.267624,71.26488,71.26625,71.26625,71.267624,71.269,71.27037,71.269,71.269,71.27037,71.269,70.81032,73.363266,73.36464,73.36464,73.36601,73.36189,73.36189,74.0815,74.08562,74.08699,74.08836,74.0966,74.15016,74.147415,74.5388,74.66789,74.59099,74.59099,74.69673,74.97963,75.12245,75.1664,75.18288,74.6418,74.79561,74.79561,74.81621,75.37926,75.123825,75.745926,75.75279,73.65166,73.52394,74.12819,74.13231,74.118576,74.11995,74.11995,74.13231,75.13893,75.35179,75.649796,75.63881,75.13481,75.61546,75.61546,75.62508,75.62645,75.59349,75.60585,76.42433,76.56441,76.74568,76.96129,76.83357,76.834946,76.83632,77.293625,77.27165,77.2744,77.27577,77.27577,77.27577,77.25792,77.273026,76.72371,77.34306,75.991745,77.02309,77.48039,77.88826,77.89238,77.89375,77.88414,77.88689,77.88826,78.353806,77.77702,77.794876,77.798996,77.79762,77.798996,77.80037,77.72072,78.55568,78.624344,75.96016,76.7292,76.01097,76.14693,77.4131,77.731705,78.31673,78.52547,78.52547,78.52547,78.52684,78.52684,78.74931,73.805466,73.312454,73.26164,73.94829,74.07326,74.07463,74.076004,75.6443,76.329575,76.33095,76.329575,76.31447,76.03706,76.58775,76.71272,76.738815,77.6136,78.30025,78.30711,78.30849,78.30711,78.30849,78.31261,78.31535,78.31673,78.31123,78.31261,78.31398,78.31398,78.31535,78.31123,78.31673,78.31673,78.22609,76.4106,75.979385,75.97664,75.97664,76.847305,76.84868,76.85005,76.85005,76.85005,76.851425,77.3156,78.59276,73.24516,73.24516,76.44356,76.49986,76.501236,76.501236,76.655045,76.86516,76.76491,77.29637,77.297745,77.29912,77.54631,77.98714,77.99263,77.994,77.99675,78.00224,77.99812,77.9995,78.00087,78.01048,78.01323,77.88277,78.60649,78.662796,78.666916,78.67241,78.699875,78.07503,78.43346,78.43346,78.57765,78.58177,77.610855,77.34856,77.34993,77.3568,77.739944,77.41585,77.41722,77.68089,77.731705,76.23619,76.25679,76.24718,76.15654,76.304855,77.12471,77.29637,77.29637,77.2538,77.252426,77.25105,77.24144,77.24144,77.24419,77.24556,77.25792,77.256546,76.714096,76.71959,76.70586,77.20024,76.79237,76.79237,76.791,76.78825,76.78825,76.92833,76.935196,76.939316,76.94206,76.943436,76.93794,76.939316,76.79649,76.80061,76.80199,76.80199,76.80336,76.80473,76.81297,76.81297,77.28813,77.46803,77.53395,77.51747,77.51747,77.51747,77.52159,78.33458,78.12309,78.15193,78.34831,78.38539,78.38402,78.382645,78.382645,78.50212,78.60237,77.52159,77.527084,77.52846,77.527084,77.52571,77.527084,77.67128,78.07915,78.09288,78.35655,78.357925,75.3875,75.79811,75.80086,75.811844,75.81322,74.35478,74.260025,74.2614,74.27101,74.272385,74.23805,74.23393,74.23256,74.58412,74.7393,74.7599,74.87663,74.835434,74.81346,74.81346,74.81346,75.93544,74.60472,74.60335,74.802475,74.80522,74.802475,74.80385,74.80522,74.80797,74.839554,74.85603,74.86015,74.86702,74.802475,74.84642,74.84779,74.84505,74.839554,74.8423,74.85191,74.85603,74.86839,74.86702,74.814835,74.84093,74.84642,74.573135,74.9041,74.94667,75.035934,75.084,75.08537,75.08949,75.11284,75.111465,75.10872,75.119705,75.119705,75.18425,75.2021,75.18288,75.17601,75.17876,75.1815,75.18288,75.199356,75.199356,75.20073,75.29411,75.29411,75.29411,75.29549,75.307846,75.51933,75.51659,75.57289,75.25017,75.257034,75.26665,75.588,75.79811,75.79399,75.8091,75.81734,75.81734,75.886,75.88463,75.88463,75.88875,75.89012,75.89012,75.89287,75.891495,75.891495,75.88875,75.88875,75.89012,75.89012,75.88875,75.89424,75.895615,75.88051,75.886,75.887375,75.80635,75.807724,75.807724,75.82146,75.82558,75.82695,75.82283,75.82283,75.8242,75.8091,75.81047,75.811844,75.811844,75.811844,75.81322,75.81459,75.81459,75.81596,75.81459,75.81734,75.81734,75.82008,75.81734,75.8297,75.8297,75.83107,75.83244,75.83382,75.83656,75.83794,75.83931,76.175766,76.17027,76.867905,76.9146,76.926956,76.926956,76.7086,76.69762,76.72371,76.730576,76.892624,76.892624,76.08925,76.34468,76.534195,77.38014,77.42546,77.53258,77.53395,75.98488,76.03706,75.95192,75.954666,75.954666,75.95604,75.954666,75.95604,79.18465,79.18602,79.01161,79.021225,79.017105,79.69414,80.03746,80.14732,80.064926,80.10475,80.37117,81.07979,81.07567,81.07567,80.17204,80.17204,80.173416,80.17067,80.18028,80.1844,80.185776,80.18715,80.1844,80.1844,80.18715,80.3492,80.85594,80.857315,80.857315,80.857315,80.857315,80.85869,80.83397,78.96492,79.125595,79.05556,79.14482,79.045944,79.94545,79.95506,80.0045,80.515366,80.5854,81.0894,81.33385,81.33247,81.33522,81.34758,81.34758,80.18028,80.181656,80.347824,80.38353,80.73372,80.757065,80.75569,80.757065,81.841965,81.70189,82.47368,81.98341,82.560196,82.53136,82.681046,83.00377,83.002396,83.33336,83.331985,83.33336,83.33336,84.296036,84.291916,83.857956,81.9532,82.19902,81.88042,81.88179,81.88179,81.88454,82.31438,82.3185,82.30202,82.30339,82.300644,82.30202,82.30339,82.30476,82.30614,82.30476,82.30614,82.32124,82.39815,82.39815,82.39952,82.40227,82.40227,82.40364,82.41737,82.409134,82.41051,82.42287,82.54509,82.55333,82.11525,82.75795,82.75932,82.84584,82.80739,82.814255,82.801895,82.80327,82.80327,83.039474,83.02574,83.02574,83.02574,83.9431,83.9431,83.94447,84.17656,84.16145,84.1642,84.23836,84.23973,84.30977,84.220505,83.018875,83.006516,82.99278,82.99553,82.998276,83.60939,83.82912,78.8015,79.2231,79.571915,79.57329,79.65706,79.80675,80.347824,80.3643,80.53734,80.544205,80.623856,80.63072,80.63072,80.63347,80.648575,80.65132,80.652695,80.669174,81.41762,81.39015,81.391525,81.54671,80.1638,80.78316,80.78453,80.59227,80.57579,80.57716,80.58952,80.60188,80.60326,80.60326,80.62248,80.623856,80.63347,80.63484,80.63484,80.636215,80.63347,80.65132,80.627975,80.627975,80.660934,80.66643,80.7502,80.71449,80.018234,80.00313,80.0045,80.0045,79.76967,79.67903,79.809494,80.0251,79.9276,79.92897,79.92897,79.94545,79.93721,79.93996,79.479904,79.83971,79.90425,79.90425,79.90425,79.87541,79.876785,79.8864,79.8864,79.897385,79.93721,79.93721,79.956436,80.8271,81.512375,81.579666,81.65794,81.57555,81.57692,81.57692,81.57692,81.60713,81.60713,81.60713,81.608505,81.614,81.61537,81.616745,81.616745,81.61812,81.729355,82.54921,82.28142,82.480545,83.002396,83.08891,83.477554,82.98866,82.98729,82.98729,84.140854,84.1642,84.30153,84.31114,84.300156,82.99141,83.19603,83.19878,83.39104,81.74446,82.79915,82.801895,82.689285,82.69066,82.69203,82.693405,82.69478,82.718124,83.13835,83.13835,83.1411,83.1411,83.1411,83.1411,83.1411,83.14247,83.098526,83.0999,83.08479,83.10127,83.14659,82.97081,82.97218,82.97218,82.97081,82.97081,83.0999,83.10814,83.16307,83.16307,83.164444,83.71788,83.67531,84.91814,84.91814,84.91951,84.57893,84.57893,84.942856,84.942856,84.988174,85.00328,85.004654,85.004654,85.00603,85.004654,85.0074,85.03349,84.992294,85.03487,85.03624,85.03761,85.04173,85.043106,85.04173,85.04173,85.03624,85.03761,85.03899,85.03624,85.03624,85.03624,85.04173,85.04036,85.04173,85.03624,85.03624,85.03624,85.03899,85.043106,85.04448,85.04448,85.03899,85.03624,85.03761,85.04173,85.04448,85.043106,85.043106,85.04448,85.00191,85.00328,85.02525,85.02663,85.02388,85.02937,85.03075,85.03212,85.03349,85.02388,85.02388,85.01976,85.02113,85.01289,85.01839,85.01839,85.01839,85.02525,84.99779,84.99779,85.000534,85.00191,85.00877,85.00603,85.0074,85.00877,85.01427,85.01564,85.01564,85.01564,85.01701,85.01701,85.01839,85.01976,85.01976,85.06233,85.06233,85.059586,85.05821,85.05684,85.05821,85.05409,85.05409,85.05409,85.05409,85.05409,85.071945,85.61302,85.080185,85.07881,85.080185,85.07881,85.67894,85.67894,85.68581,86.24336,85.84923,87.00279,84.97032,84.93599,84.93599,85.196915,85.24361,85.41664,86.35048,86.90529,86.6169,87.07832,85.915146,86.244736,86.244736,86.21315,86.22551,86.22688,85.85335,85.814896,85.81627,85.814896,85.81627,86.0717,86.23375,87.02339,86.732254,86.79268,86.94237,87.40242,88.359604,88.24974,88.246994,88.24562,88.68645,88.832016,87.54799,87.54799,87.25273,87.24724,87.24724,87.24861,87.249985,87.249985,87.25136,87.25273,87.254105,87.25548,87.25685,87.258224,87.2596,87.26509,87.270584,87.27196,87.254105,87.2802,87.35298,87.3571,87.358475,87.421646,87.42851,87.43126,87.434006,87.43675,87.438126,87.4395,87.44087,87.44362,87.44499,87.450485,87.462845,87.48619,87.48619,87.48482,87.48482,87.48482,87.48619,87.48619,87.48619,87.48619,87.487564,87.51366,87.51366,87.51503,87.51503,87.5164,87.5164,87.51778,87.51778,87.51915,87.51915,87.53288,87.53288,87.534256,87.534256,87.53563,87.53563,87.537,87.538376,87.538376,87.44499,87.442245,87.44362,87.44499,87.446365,87.450485,87.458725,87.458725,87.47795,87.47795,87.47795,87.47795,87.479324,87.479324,87.4807,87.48207,87.483444,87.48482,87.48482,87.48619,87.48619,87.487564,87.491684,87.49306,87.49443,87.49443,87.47795,87.47795,87.47795,87.47795,87.479324,87.4807,87.4807,87.48207,87.48207,87.45186,87.4601,87.46147,87.46147,87.45735,87.458725,87.458725,87.458725,87.458725,87.45735,87.458725,87.458725,87.46422,87.462845,87.462845,87.46559,87.466965,87.46834,87.46971,87.471085,87.47246,87.47383,87.475204,87.47658,87.47795,87.47795,87.479324,87.4807,87.50542,87.50267,87.5013,87.5013,87.50404,87.49992,87.49855,87.49855,87.495804,87.495804,87.49718,87.50679,87.50679,87.50816,87.51091,87.50954,87.51228,87.51915,87.52052,87.52052,87.52052,87.52052,87.5219,87.52327,87.52464,87.52602,87.52739,87.52876,87.530136,87.530136,87.53151,87.53975,87.53975,87.54112,87.54112,87.542496,87.542496,87.542496,87.542496,87.54387,87.54387,87.54524,87.54524,87.546616,87.546616,87.54799,87.54799,87.54936,87.54936,87.54936,87.550735,87.55211,87.55348,87.554855,87.550735,87.55211,87.554855,87.55623,87.5576,87.558975,87.56035,87.56172,87.563095,87.563095,87.56447,87.56584,87.56584,87.567215,87.567215,87.56859,87.56859,87.56996,87.571335,87.571335,87.57271,87.57408,87.575455,87.575455,87.57683,87.57683,87.5782,87.5782,87.579575,87.579575,87.58232,87.58507,87.58644,87.587814,87.58919,87.60155,87.604294,87.60567,87.60704,87.60979,87.61116,87.61253,87.61253,87.61253,87.61391,87.61665,87.61803,87.6194,87.62077,87.62077,87.62215,87.62352,87.62352,87.62627,87.62489,87.62489,87.63725,87.638626,87.638626,87.655106,87.65648,87.65648,87.65648,87.65785,87.659225,87.66197,87.663345,87.663345,87.66472,87.667465,88.03688,88.03825,88.03825,88.03963,88.041,88.04237,88.03688,88.09868,88.0204,88.0204,88.01903,88.01903,88.01903,88.017654,88.017654,88.017654,88.017654,88.01628,88.01628,88.013535,88.005295,88.00667,88.01216,87.337875,87.567215,87.7169,87.72102,87.997055,87.997055,87.99568,87.99156,88.00255,87.98332,87.98607,87.984695,84.721756,84.7245,84.75197,84.754715,84.93736,84.938736,84.9868,85.547104,84.85771,85.74898,86.30653,86.244736,86.63887,86.64024,86.6581,86.72676,86.787186,86.787186,86.807785,86.807785,86.80641,86.811905,86.81328,86.81328,86.816025,86.81877,86.82152,86.824265,86.7968,86.79817,86.82564,86.828384,86.82976,86.832504,86.9561,86.891556,86.891556,86.836624,86.83937,86.93825,87.061844,86.79817,85.90141,85.90279,85.90279,85.90416,86.12526,85.87944,86.277695,86.474075,86.490555,86.57295,85.25185,85.25322,85.25597,85.25734,85.25459,85.25597,88.3033,88.13576,88.41591,88.41728,88.418655,88.28682,88.30055,88.30467,88.30467,88.306046,88.30742,88.3033,88.30879,88.30879,88.68919,78.91548,78.916855,78.93608,78.937454,78.95943,79.59801,79.8246,79.82323,79.80812,79.51836,79.526596,80.11574,78.783646,78.783646,78.8633,79.488144,79.49638,79.49501,79.49638,74.08974,74.08836,74.09111,74.25316,74.405594,74.556656,74.5388,75.17876,75.21446,75.21446,75.21446,75.215836,75.26253,76.567154,77.535324,77.4543,92.77336,92.774734,92.774734,92.77611,92.82829,93.02605,91.73927,92.64015,91.96449,92.03316,92.38609,92.37236,92.37236,92.36824,92.36961,92.36961,92.37099,92.37236,92.37236,92.36961,92.37236,92.36687,92.36824,92.37373,92.37373,92.37648,92.37648,92.37785,92.37785,92.3806,92.38609,92.39021,92.37373,92.37373,92.37511,92.37923,92.3806,92.38884,92.403946,92.76787,93.17711,93.17848,93.196335,93.196335,93.19771,92.91069,92.92854,93.57674,93.63167,93.68797,93.68935,93.82805,93.82805,90.06798,90.06798,90.78758,90.934525,91.05675,91.235275,91.23665,90.304184,90.24513,91.877975,92.63878,91.55525,91.558,91.56212,92.086716,91.45088,92.1801,92.215805,92.199326,92.39021,92.06062,92.06474,92.97386,92.97386,92.975235,93.438034,93.43666,94.127426,94.131546,94.093094,94.09447,93.859634,93.863754,93.59459,94.04228,94.04228,93.98872,93.97774,94.03816,94.04091,94.00246,94.00795,94.0258,93.922806,93.964005,94.02031,94.02031,94.064255,94.06288,94.06563,94.067,94.068375,94.06975,94.06563,94.07112,94.07112,94.072495,94.07387,94.07524,94.07524,94.080734,94.08348,94.07799,94.043655,94.04503,94.05052,94.051895,94.05327,94.05464,94.056015,94.056015,94.05739,94.06151,94.060135,94.04503,94.0876,94.088974,94.088974,94.093094,94.09584,94.09035,94.10133,94.10408,94.09447,94.09447,94.08623,94.08623,94.09035,94.09996,93.95302,93.050766,93.400955,92.87224,92.87361,92.903824,92.971115,92.97249,93.067245,93.97362,93.972244,93.972244,93.538284,93.563,94.32793,94.635544,94.64378,94.37599,94.65477,94.64378,94.65477,94.189224,92.983475,93.40233,93.60008,94.21532,94.31419,94.52156,94.51744,94.51332,94.45564,94.82506,94.807205,94.81407,94.807205,94.803085,94.803085,94.803085,94.89647,95.06264,94.92531,95.62157,95.59685,95.79872,95.82619],\"marker\":{\"color\":\"red\",\"size\":15},\"mode\":\"markers\",\"name\":\"Vehicles \\u003e= 15Km\",\"type\":\"scattermapbox\"},{\"lat\":[8.1908371,8.198264,8.3681,8.370961,8.42455,8.43991,8.48931,8.502395,8.5644,8.692527,8.723886,8.768707,8.781152,8.836236,8.845117,8.8476,8.870292,8.87271,8.90301,8.97491,8.987052,8.99005,9.14285,9.25563,9.40606665359596,9.444974,9.465264,9.52714,9.52881,9.57269792771464,9.575942,9.58713,9.58719918540767,9.659963,9.69697,9.716795,9.893636,9.9386,9.943838,9.952571,9.960368,9.98902,9.993807,10.043523,10.072756,10.07688,10.125897,10.32103,10.34179,10.3598916737269,10.37708,10.501236,10.518634,10.613038,10.6277531736346,10.6547546353082,10.667743,10.732875,10.7348196826896,10.7379227,10.74675587,10.761539896188,10.783768,10.787408427407,10.824413,10.8291968918148,10.881978,10.9471580309788,10.963542,10.964132,10.96424,10.976974589898,10.984496,10.98765,10.992074,11.029332,11.0331,11.060586,11.08483,11.085351,11.099836,11.1117490155204,11.121669,11.122423,11.141296,11.15166,11.15239612,11.18145,11.19183,11.247141,11.2527,11.2657,11.29816,11.305216,11.312852,11.330194,11.34366,11.367712,11.40915,11.413427,11.45721,11.490431,11.54295,11.5577140901926,11.58718,11.61606,11.6329748,11.648758,11.649476,11.671364,11.7605609283875,11.766516,11.82786,11.8473,11.86481,11.9111569228416,11.91694,11.9268437732712,11.95461,11.9730077766624,12.0179552897987,12.0981767069826,12.182536,12.22755,12.237028,12.338052,12.42453671,12.479939,12.51175,12.6954863136639,12.711102,12.71315,12.76455437,12.7837689,12.784225,12.7956077162396,12.81259,12.81546967272,12.8706418715398,12.8740825306494,12.89126,12.900863371389,12.9231284222421,12.9231284222421,12.92597073,12.9342794798951,12.9433720200409,12.9455074183865,12.9487668813905,12.9516981905649,12.9593373,12.9829591989382,12.98686,12.99362802,12.99661,12.99795,13.0049119044626,13.02295,13.027377,13.0292398597971,13.0353105792701,13.0405329069492,13.0416800801403,13.0422313533812,13.053258,13.056253,13.057169,13.0627992565243,13.072414068467,13.08554,13.09539,13.12183,13.1273573282958,13.1338993559935,13.1695794463591,13.1967,13.2094905414379,13.21293,13.217845664027,13.220953,13.2244017744173,13.2572822,13.30467416,13.3148898976874,13.32785686,13.40891,13.44136569,13.515598,13.54209,13.54405085,13.61774282,13.63022,13.6604065,13.93940397,14.03345,14.08984,14.17455,14.388249,14.440853,14.48903,14.497139,14.50856,14.50946,14.622046,14.628451,14.66839,14.679084,14.74053,14.809342,14.811788,14.89251,15.109491,15.128072,15.216582,15.2187,15.239635,15.2905,15.293561,15.295235,15.327534,15.350529,15.356132,15.366874,15.37063,15.387306,15.396647,15.436177,15.475053,15.500211,15.516474,15.523822,15.524549,15.536228,15.538137,15.544977,15.5457217,15.732083,15.7522,15.770249,15.807419,15.80961,15.84466,15.85676,15.87709,15.9656,16.1446371,16.149943,16.164371,16.168927,16.177538,16.185682,16.206856,16.23487,16.287694,16.293308,16.324162,16.419171,16.435208,16.436172,16.464699,16.511925,16.512197,16.514336,16.551767,16.602989,16.62001,16.627587,16.633633,16.6427533554204,16.684568,16.68827,16.70557,16.70612,16.75224,16.80589,16.812661,16.849517,16.850299,16.85766,16.886082,16.89824,16.914024,17.00326,17.00326,17.01062,17.02442,17.036203,17.051124,17.06205,17.08477,17.08834,17.24508,17.25181,17.27365,17.275504,17.27772,17.287397,17.298447,17.31592,17.31761,17.32156,17.33438,17.34042,17.34064,17.359143,17.43695,17.46035,17.461021,17.47823,17.481306,17.51099,17.52272,17.540331,17.54047,17.54781,17.58657,17.60652,17.61217,17.63131,17.66307,17.67138,17.67508,17.68449,17.68921,17.69557,17.69767,17.70793,17.740468,17.76692906,17.821747,17.83158,17.88667,17.896756,17.92477,17.92907,18.0335,18.093632,18.10686,18.14557,18.151633,18.17944,18.22399,18.275902,18.28799,18.293459,18.323872,18.38603,18.392358,18.4,18.4,18.41,18.41086,18.42837,18.444856,18.449136,18.473994,18.4864101,18.4894429,18.493553,18.54199,18.6039087,18.6135698,18.62264,18.62323,18.62575,18.62695,18.63737,18.6446745,18.65612,18.672825,18.69354,18.6944677,18.73032,18.738572,18.75835,18.76885,18.818178,18.83,18.83,18.83,18.83,18.86487,18.877854,18.922749,18.940606,18.952299,18.954178,18.968659,18.9703331,18.99,18.99,18.99,18.99,19.04143,19.048134,19.048957,19.05462,19.067159,19.067883,19.0680125,19.074976,19.076919,19.08,19.096918,19.104051,19.11,19.117578,19.149282,19.16,19.160032,19.17548,19.18969,19.216635,19.216635,19.2366099047045,19.2494273058184,19.25,19.2579784852821,19.2798019383972,19.279874,19.285508,19.309773,19.31,19.345541,19.3455603252433,19.347448,19.368951,19.45,19.5445363067337,19.6030823,19.6260646,19.6427533554204,19.71548,19.72,19.72015,19.736242,19.737505,19.795251,19.84,19.85,19.857243,19.86,19.870634,19.873596,19.9,19.91,19.91,19.91,19.924419,19.9405658,19.94492,19.993406,19.995994,20.01,20.024585,20.02469978,20.028544,20.06636,20.094826,20.13,20.135367,20.215689,20.23,20.24,20.244521,20.27121,20.31,20.3121859,20.323168,20.35,20.36,20.3653,20.37124,20.375084,20.460028,20.464216,20.4771825,20.48502,20.49,20.5,20.5115,20.522227,20.537071,20.564191,20.58,20.590713,20.68,20.68,20.69,20.69,20.69,20.717575,20.7454542,20.777194,20.78303,20.83,20.83,20.840681,20.842313,20.843221,20.8765067,20.88,20.899287,20.9,20.9076257,20.91953,20.93,20.93434,20.93434,20.93602,20.956826,20.9599521,20.965881,20.987333,20.999917,21.001611,21.00249,21.01,21.0225181,21.023175,21.0486792,21.058035,21.068619,21.07,21.07,21.09,21.1,21.1033683,21.11252,21.1185,21.12793,21.12873,21.13,21.1388,21.14,21.14,21.14,21.148455,21.15,21.15,21.162174,21.16362,21.1636386,21.1638471,21.16636,21.18,21.1812293031872,21.2,21.22039,21.23,21.231734,21.238489,21.241028,21.2581006,21.30105,21.30556,21.3323757,21.33544,21.33609,21.339984,21.350699,21.35944,21.3633718,21.3869243,21.41,21.43,21.435848,21.451364,21.455982,21.46,21.482909,21.499347,21.49958,21.506332,21.541284,21.5667622,21.6245269,21.626318,21.6455,21.650055,21.652955,21.659895,21.659895,21.68708,21.698912,21.71805,21.723835,21.7388757,21.7507815,21.75218,21.761715,21.761715,21.783669,21.78443,21.7889601,21.796631,21.811426,21.82,21.827555,21.839728,21.847196,21.850304,21.86192,21.870574,21.872963,21.884879,21.885729,21.894291,21.894718,21.90454,21.912995,21.9260065,21.941674,21.946416,21.957011,21.979052,21.9841,21.99129,21.995182,22.0054,22.0124307,22.03211,22.042476,22.05,22.056789,22.056789,22.05688,22.06,22.061347,22.065976,22.065976,22.065976,22.065976,22.0667465,22.068097,22.0789317,22.0949407,22.1059959,22.1467301,22.15447,22.1670757,22.17884,22.181431,22.192883,22.2086299,22.22,22.227927,22.2330346,22.235855,22.24,22.2401176,22.2556338,22.259011,22.278454,22.2794304,22.282999,22.2915422,22.303031,22.31,22.31,22.324385,22.3288943,22.34262,22.35105,22.35577,22.360663,22.373402,22.3782928,22.38653,22.386632,22.3907823,22.39446,22.39631,22.409791,22.4141677,22.4248379,22.46659,22.4685923,22.46925,22.470215,22.478051,22.4787463,22.4792761,22.5034551,22.508238,22.541012,22.5489355,22.5577782664182,22.55857,22.56088,22.56579,22.569456,22.570877,22.57738,22.588178,22.594644,22.5978,22.612244,22.615696,22.63831,22.63942,22.651839,22.654505,22.654505,22.668888,22.66939,22.674141,22.677843,22.681376,22.683657,22.68875,22.703503,22.7120836,22.712831,22.719823,22.74379,22.7443473,22.76994,22.77,22.775987,22.784508,22.788947,22.7910003,22.797287,22.799767,22.8272522,22.8352,22.8363477,22.845883,22.8681386,22.874518,22.876455,22.8794211,22.8799084643853,22.8799751,22.880661,22.88151,22.89,22.93505,22.9495,22.95275,22.9581413,22.9581774,22.95928,22.9632,22.97236,22.975962,22.977289,23.00135,23.0041006,23.0099342,23.02,23.0619204,23.071339,23.078508,23.0803416,23.0843263,23.1015734,23.103224,23.1259369,23.1264852,23.143998,23.1507,23.157312,23.161079,23.1648716,23.173494,23.18927,23.190926,23.192111,23.195052,23.2071219,23.212063,23.22606,23.232421,23.246239,23.24974,23.2513692,23.2530954,23.2635853,23.271136,23.27474,23.27573,23.2781875,23.288486,23.300328,23.3069543,23.3072911,23.3165173,23.33368,23.34235,23.345626,23.346289,23.3512659,23.3590101,23.369347,23.372947,23.3815905,23.38347,23.3936253,23.4037944,23.420483,23.429046,23.43893,23.464088,23.47,23.48581,23.5422745,23.54576,23.55947,23.57199,23.572514,23.58,23.588,23.595917,23.62092,23.632139,23.638815,23.64489,23.64986,23.65,23.6518285,23.668272,23.673008,23.67964,23.6806408,23.68486,23.6876964,23.725112,23.7489003,23.754283,23.770737,23.7818908,23.7847819,23.79,23.810662,23.8109553,23.81796,23.84266,23.8450865,23.8477,23.8482,23.849,23.851982,23.854527,23.873549,23.87797,23.888336,23.891691,23.89897,23.918357,23.9601531,23.9951,24.017853,24.023327,24.035243,24.0417943,24.04283,24.0466296,24.048392,24.052747,24.05926,24.06,24.072932,24.082731,24.09057,24.093046,24.123112,24.126844,24.1543619,24.1687809,24.17,24.19841,24.20347,24.21,24.211418,24.226426,24.227001,24.228486,24.2626164,24.264035,24.273,24.28284,24.283419,24.2898795,24.2995348,24.320618,24.363184,24.365479,24.3918,24.405,24.4406612,24.44371,24.4652677,24.4741866,24.49,24.4906369,24.496986,24.508654,24.51397,24.5219689,24.534611,24.54049,24.548,24.548,24.55866,24.573301,24.575428,24.576439,24.577838,24.590867,24.59109,24.597631,24.6079,24.611936,24.619774,24.63035,24.6311331,24.662267,24.666351,24.666351,24.667776,24.677006,24.6794169,24.704557,24.73059,24.731576,24.741674,24.747497,24.75178,24.752689,24.758785,24.77219,24.77567,24.791395,24.795134,24.799,24.8015818,24.8460617,24.8615185,24.8872482,24.899327,24.906309,24.918523,24.918599,24.9433661,24.9472,24.9716586,24.974992,25.01,25.01269,25.019022,25.034773,25.041431,25.053375,25.099485,25.1,25.121749,25.12958,25.133463,25.146408,25.151565,25.16518,25.16875,25.17,25.171804,25.19,25.193822,25.197755,25.203822,25.21,25.213378,25.213378,25.221301,25.23,25.2380585,25.23821,25.247172,25.249048,25.254736,25.257978,25.271224,25.278236,25.281629,25.308278,25.309947,25.31,25.322432,25.324471,25.3311069,25.342059,25.377085,25.37848,25.3818,25.386761,25.416676,25.416676,25.417929,25.421991,25.424271,25.425241,25.426408,25.42936,25.4395,25.457412,25.462363,25.467438,25.467766,25.474496,25.47488,25.50376,25.51,25.56674,25.568747,25.572232,25.57438,25.5815,25.582039,25.594095,25.594789,25.59765,25.598872,25.639485,25.648738,25.68854,25.689216,25.692574,25.743,25.745472,25.749486,25.766903,25.7679319,25.7719294,25.77514,25.77714,25.7868,25.7961344,25.805249,25.81486,25.8303215,25.84962,25.860192,25.86033,25.862968,25.87446,25.8754,25.89074,25.894255,25.907809,25.945935,25.948804,25.953508,25.96032,25.960479,25.97,25.9768194,25.980081,25.984209,25.988881,26.03987,26.077392,26.084481,26.096515,26.099315,26.111288,26.112038,26.112154,26.115218,26.11743,26.122,26.134843,26.135046,26.140472,26.144071,26.1452161,26.1459524,26.14889,26.1495306,26.149792,26.158509,26.159299,26.16097,26.162454,26.179444,26.183689,26.195753,26.196183,26.2085498,26.214813,26.22,26.223297,26.227484,26.231948,26.2446,26.255046,26.255192,26.25756,26.261719,26.26421,26.28687,26.28817,26.288482,26.29196,26.296378,26.2964885,26.298539,26.300049,26.301213,26.311039,26.322827,26.325572,26.336458,26.3489,26.35058,26.395514,26.398565,26.40308,26.410098,26.412051,26.420956,26.424831,26.426567,26.427421,26.440463,26.4423058,26.455081,26.462668,26.46317,26.46422,26.4671062,26.47,26.472626,26.479144,26.4862373,26.486731,26.487066,26.487549,26.49,26.499827,26.503899,26.504737,26.506787,26.507178,26.50742,26.509142,26.523038,26.54,26.556907,26.5597,26.572,26.593444,26.600743,26.60281,26.605468,26.607764,26.609754,26.62427,26.65194,26.660755,26.66823,26.668977,26.6711,26.698648,26.701665,26.705321,26.70686,26.711419993083,26.719,26.727,26.74,26.74,26.74,26.74,26.743087,26.759592,26.759604,26.763768,26.765196,26.765609,26.77,26.771062,26.77738,26.789834,26.7968,26.79999463,26.79999463,26.80627,26.824327,26.83694,26.84671,26.854626,26.86,26.86977,26.87172,26.87318,26.876739,26.887425,26.894094,26.897849,26.909497,26.921848,26.922087,26.92333,26.92378,26.927259,26.932004,26.94507,26.957326,26.98603,26.98843,27.000491,27.013029,27.02463,27.0260804,27.03201,27.039829,27.04074,27.0410422,27.0410422,27.04907,27.07,27.07267,27.086913,27.089218,27.09191,27.092931,27.11,27.12276,27.1295979,27.130187,27.157062,27.166634,27.1667,27.17657,27.194756,27.199813,27.202188,27.2090908,27.21098,27.216052,27.21794,27.21984,27.22337,27.22376,27.2284,27.234844,27.2363,27.244788,27.25274,27.2768786,27.291599,27.312431,27.33476,27.338167,27.3625,27.362742,27.368937,27.37162,27.38069,27.39773,27.400312,27.411438,27.455168,27.474468,27.47562,27.478638,27.497603,27.50242,27.53063,27.530644,27.5392579,27.555312,27.55963,27.565592,27.57655,27.588799,27.59005,27.59653,27.598468,27.598651,27.63777,27.63943,27.64455,27.65218,27.653644,27.6744,27.74048,27.74325,27.747734,27.76872,27.79271,27.80046,27.834803,27.880498,27.88984,27.89861,27.89987,27.9091349,27.924634,27.924634,27.98167,27.9898624,27.9907,28.00234,28.0038131814979,28.01955,28.02502,28.02594,28.05063,28.0591414,28.06387,28.08179,28.097094,28.10598,28.10947,28.1212,28.13439,28.15614,28.1716,28.17354,28.17781,28.18246,28.20472,28.2055206,28.22784,28.23216,28.2436,28.26005,28.26348,28.27223,28.28302,28.28354,28.28411,28.35645,28.36278,28.38615,28.404161,28.4049156,28.4092,28.411188,28.4140952,28.41528,28.42844,28.44228,28.445888,28.45834,28.459372,28.4631,28.49587,28.501641,28.514729,28.522632,28.5383531,28.55519,28.57919,28.59035,28.594904,28.616093,28.619008,28.636554,28.66316,28.66857,28.67551,28.675677,28.67704,28.6822,28.683037,28.683127,28.68677,28.686968,28.7013896,28.713009,28.7136609,28.71539,28.717458,28.76188,28.77378,28.776029,28.7763,28.78124,28.7817057,28.78193,28.78212,28.7983494,28.799653,28.80103,28.80358,28.82006,28.82879,28.835546,28.9009043984185,28.90091,28.909025,28.9090454,28.90937,28.91549,28.92019,28.92356,28.9307317,28.9443616,28.962411,28.965561,28.96594,28.97396,28.993005,29.01935,29.07989,29.08623,29.1008882,29.100909,29.10961,29.11017,29.130995,29.1644549,29.17165,29.19996,29.20372,29.22324,29.30103,29.33339,29.33528,29.344,29.34719,29.3598217,29.38354,29.42842,29.45895,29.46078,29.4914019,29.494914,29.53221,29.5618777,29.592889,29.59891,29.61409,29.63342,29.64416,29.66004,29.72224,29.7393305,29.767009,29.77175,29.84468,29.88,29.88578,29.88627,29.896242,29.898468,29.96729,29.96959,29.97147,29.9716167,30.03434,30.09546,30.09802,30.15856,30.1634,30.17257,30.19985,30.23526,30.23533,30.2544,30.25587,30.26459,30.26571,30.26572,30.27349,30.28216,30.28688,30.30251,30.3055789,30.32634,30.38594,30.41689,30.42164,30.43621,30.4365013099614,30.43681,30.4925,30.52619,30.58914,30.58914,30.59321,30.62878,30.6337,30.70466,30.71369,30.71879,30.71985,30.74345,30.74359,30.80993,30.81601,30.8182,30.86268,30.89725,30.89809,30.90199,30.92453,30.95997,30.99783,31.01528,31.02941,31.03197,31.04593,31.04759,31.08162,31.08202,31.09038,31.12176,31.18428,31.20342,31.23622,31.29852,31.30837,31.43282,31.4597,31.505399,31.62037,31.63414,31.64048,31.69911,31.763165722,31.849049,31.88192,31.88647,32.149139,32.238445,32.26497,32.2761437,32.36071,32.388582,32.5585743,32.604093,32.6669874,32.7162,32.75971,32.916324,33.331291,33.4531,33.498875,33.641771,33.658468,33.711408,33.735296,33.8258975,33.930717,34.03676,34.03676,34.105598,34.24145,34.5492471,36.697078,39.17194,40.4430822,84.059401,85.886889,86.300343,20.688095,22.29411111,25.73425,26.526671,27.37388,10.711559,12.30859,12.37454,12.40034,12.49592,12.9439,13.11669,13.15342,13.31341,13.37598,13.43472,13.92366,14.20425,14.28722,22.63437,22.74905,22.76036,23.76387,24.10208,26.2531,26.6658,16.0535345,16.22577],\"lon\":[77.4192042,77.431443,77.08208,77.601832,76.96298,77.02151,76.92499,77.939263,76.98546,77.725692,77.721218,78.079623,78.097412,78.130644,78.1287,76.62336,77.476345,76.59853,76.6231987751414,76.81786,77.296035,76.74058,76.51179,76.81557,76.5601213258008,76.342719,77.801233,78.60677,78.60575,76.5195377327769,77.944131,76.53727,76.5371484883641,76.338314,76.64741,76.359563,76.706869,78.05829,78.149949,78.09133,78.177213,77.45804,78.024826,76.336836,76.509188,78.73963,76.314119,77.9517,77.95543,76.1734992355818,77.95692,76.257687,76.259183,76.132978,78.4354931127657,79.4395869997898,76.985734,77.507533,79.1044554930304,76.6211402,78.6457587,79.6314916623624,76.618447,79.5908317231946,76.186638,79.1320570021146,76.31949,79.3403230953791,78.0515775,76.007543,78.04916,78.4602610866996,76.961871,78.06506,77.584026,77.075673,76.965063,77.336835,77.12504,77.366741,77.382595,79.0724616791157,76.099047,76.101922,77.318913,77.313679,78.61703534,75.85007,75.53033,77.521442,78.15938,78.16508,76.94509,76.000471,77.666934,77.692292,77.706654,77.862023,76.71248,77.673949,77.397521,77.893896,77.97773,79.5680362465513,75.59275,78.560198,92.7239,78.120493,76.131591,78.132543,75.5082745120481,79.739305,75.61668,75.41911,78.08045,79.7491668192523,79.808761,79.5466802931248,76.90401,75.6611086,75.3723880388869,75.2316600237525,78.174477,75.1596,79.08725,78.378754,75.73226756,78.216094,75.96361,79.9665126342331,77.893648,77.88553,75.19755901,77.7514367,77.849309,78.7297321628251,77.67689,77.408840234639,79.6549650867238,79.6704445336247,77.439099,77.5102314894719,79.3452258032799,79.3452258032799,74.83230349,79.1403652980629,79.2310250833157,79.2041225304303,80.1807501952055,79.1368928521897,77.5804496,80.1246983100695,77.024039,76.07082972,76.08862,77.70174,80.1088006342348,77.51561,77.51789,77.510222612851,80.0427967092397,80.055798176351,80.1636438315427,80.1256297274887,77.63167,80.109329,80.095377,80.1004502544226,80.1502468581377,77.4111,77.97954,78.12371,78.1553100767392,80.2105133602278,80.2305353117926,79.07199,80.1942221183509,77.2575,80.1679699986538,79.121505,80.2732643630718,77.6966370492632,74.7438818,77.5376146968701,75.76586927,77.72714,74.73836988,80.088574,78.52102,76.02036954,74.69248425,79.46513,79.5560621,75.58484445,79.32443,78.7544,77.62659,79.938266,75.95458,78.81264,79.999228,78.82926,78.78883,75.613684,74.848923,77.58331,74.316148,77.60503,75.386294,74.141068,78.03457,76.901756,76.917319,76.637682,75.1392,76.464785,75.5798,75.14642,75.147614,76.295218,75.103292,76.313138,75.16783,73.9329,74.00315,75.649578,75.645939,76.577122,80.026731,74.924701,74.910753,80.047744,80.048771,73.833919,75.329634,74.0419463,75.986687,75.1253,76.727434,74.570634,78.03191,78.00884,74.534317,78.01647,75.0291,74.515677,76.51852,74.845533,75.629728,75.61107,75.358049,77.3309,74.42566,73.70916,75.919975,80.479453,74.372392,74.594645,74.597413,75.10677,80.673493,80.67256,80.75365,81.508848,73.549004,74.29741,74.711362,80.959801,68.1359723050485,75.044328,74.29015,78.05527,74.43538,74.27836,81.53313,75.742509,75.735174,75.711994,79.58746,76.203432,74.51443,80.111032,79.93916,79.93916,81.81003,73.411169,81.830178,81.856286,82.13215,79.25712,74.21763,80.18444,80.10653,74.52763,76.872628,78.58927,74.169781,75.683104,78.67161,78.6629,78.62965,78.42581,78.57727,78.57741,76.846137,78.66165,78.43233,82.14531,75.85194,73.218584,75.45195,78.27475,73.531735,78.2333,78.3431,78.41494,74.03134,80.76539,75.31532,75.95965,74.01824,75.89947,83.189912,83.02942,83.20266,75.86907,75.85805,83.26321,73.98963,76.940305,75.60405,75.02329,77.516139,79.44967,79.5979,75.1915,73.40373,83.397,74.56345,73.969714,74.60513,75.67962,76.522414,74.13278,76.003759,83.938086,79.84219,73.855969,76.56,76.6,77.09,79.13776,79.15343,73.97362,73.907776,73.873206,74.1634826,74.0464297,74.000482,73.78162,74.6859172,74.01848,73.74394,78.20556,73.74456,73.74426,73.84952,73.7904463,78.12112,75.069489,78.09616,73.8539059,73.85628,73.846536,73.57232,73.86718,74.371765,76.5,76.5,76.5,76.5,73.019214,82.562513,73.125174,73.186541,73.172453,73.169914,73.1333448,73.130448,75.75,75.75,75.75,75.75,78.35452,73.029097,72.90987,74.68544,73.022092,81.975661,81.9611831,74.728017,72.878358,77.25,72.885639,73.065842,77.34,73.027256,74.761429,77.32,74.702202,74.08132,83.416707,83.41,83.419895,72.9675106736952,73.0554348328926,76.75,73.0441679814155,73.1004004390879,73.100715,73.10765,84.787092,77.23,73.133247,73.1334481274489,73.131822,84.944599,76.43,73.353989115146,74.1894098,74.1735238,73.1359723050485,74.08132,77.15,74.478569,73.635746,72.917906,72.753976,79.36,75.85,74.01394,75.51,73.9549,85.819195,75.35,75.23,74.75,76.04,83.177194,74.4874033,83.173036,73.782828,73.747553,79.2,73.839665,73.8374002,73.852157,73.78018,85.0962,76.58,76.573211,74.042902,78.05,76.97,85.756677,72.88574,72.89,86.6249382,74.203075,85.83,72.9,72.92687,72.90634,74.481678,81.088239,86.248804,86.6249382,82.922011,75.73,78.53,74.4551,74.4827571,85.959513,85.719163,85.99,74.208552,76.79,76.91,86.15,78.61,76.57,86.1149,81.5832643,85.371532,73.06527,79.02,76.34,85.227289,85.164463,85.216757,74.7832345,76.21,85.016732,77.75,70.3638381,73.00963,79.0,86.263722,86.263722,72.976,85.279796,85.1616101,85.917883,74.374575,85.188413,75.597375,83.0793301,77.8,71.4202303,76.115301,70.2862374,86.493483,74.786381,80.43,72.97,79.0,73.12,81.0356051,73.38852,73.09376,72.85433,72.8541,79.0,73.4137,79.22,79.17,72.84,81.20256,79.47,79.57,71.8291474,72.73696,73.7658994,81.2529064,73.56451,79.06,81.9972939038138,79.01,81.40087,79.08,81.415767,81.5844422,81.304316,81.5608236,72.95448,83.046309,81.6464703,81.655319,74.920468,83.582171,83.69131,74.2592713,81.6615319,70.2653265,79.96,80.21,86.843326,86.861554,84.015922,79.2,75.002982,84.00621,83.93422,81.822876,84.02943,70.4502154,69.9371726,78.793722,73.03628,82.198399,69.6377897,85.641775,85.641775,81.5532,75.115336,72.67184,75.120709,72.047103,70.3209119,73.0234,84.019731,84.019731,87.730314,80.226491,72.1458462,75.617798,84.93066,85.46,75.186898,76.352317,76.207529,84.030007,73.52264,75.214993,85.100704,77.880945,77.904797,83.394272,70.7191839,73.07528,83.388067,83.3869779,86.752025,77.868497,78.953486,86.704281,83.12652,81.26196,82.506127,82.06375,78.931144,82.66917,82.0567865,83.64,85.388315,85.388315,75.38269,85.47,78.947538,78.906462,78.906462,78.906462,78.906462,82.1232939,83.12318,73.1516391,70.6596149,82.1413107,79.533311,76.08485,84.8651963,87.93033,83.33633,87.913713,70.8010415,84.48,84.694573,70.7972001,84.77721,84.78,84.7425796,70.8000269,75.482584,82.275069,86.7298004,88.228621,74.397916,87.910957,73.18,73.18,82.76853,70.8727534,73.8511750796178,87.27275,82.70575,77.1497827,87.356967,70.888645,87.341343,88.41461,68.9877658,73.13957,82.74611,79.544362,69.8790229,71.1958881,87.9594628,87.9580427,88.099536,82.622027,88.069365,70.1110719,70.1157816,70.2081661,88.257001,75.653028,85.7990271,83.4606839204158,73.45773,83.50276,72.9825,87.709498,77.798015,88.19372,79.61157,88.22436,88.2253,75.769827,75.358127,75.84783,72.19319,75.820766,88.329194,88.329194,88.850865,72.85785,75.879581,86.398057,84.55,76.03868,88.41814,87.34013,87.972953,75.930959,88.370294,77.71915,73.6187854,87.4928,73.61,87.338084,73.606766,75.90628,86.1426978,88.315157,88.246246,86.2572144,74.26095,69.654066,75.948957,70.8341317,92.752433,88.044468,72.5937882,70.8290905763555,86.1358009,75.970774,72.59265,72.4,88.18869,72.59171,72.46727,85.9427148,86.0077775,72.4763,72.6584,72.48487,86.84664,88.11409,88.53769,71.1565567,71.2667485,72.57,70.1380986,79.912835,70.0516425,69.9429124,70.108999,70.148545,79.889888,83.1838088,70.0629608,77.481063,83.1206,83.222939,83.110821,70.1909575,84.6565002,75.784878,77.063674,81.570452,88.538765,69.5464308,87.947095,87.081,87.861479,87.059025,72.73808,69.6335138,69.6807581,69.9077819,87.815319,72.64342,81.43826,85.4127034,75.080591,75.073098,83.9491014,70.5190368,86.3558549,77.40121,87.06268,88.469917,76.194222,70.5776227,85.421348,76.72188,86.3218002,85.2986383,87.58398,85.2303257,85.3913709,88.5297649,88.5130719,87.470938,88.452761,71.96,87.904366,74.4300573,72.95034,72.95269,72.37049,87.239405,72.36,72.3693,80.21833,87.140987,74.25037,87.119305,87.10136,87.52397,72.39,86.1326278,85.415193,86.2051428,83.201148,85.0569741,92.72287,85.5337546,85.520035,86.0315755,92.682204,78.809293,86.3738739,86.7011594,72.38,91.327983,84.7954886,80.38293,73.74334,86.4806864,86.449,71.697558,85.2214,91.29571,79.438149,87.510202,73.0725,76.885132,77.909859,80.398205,78.855666,87.5241986,85.3611,75.083706,85.378388,85.938197,85.3832529,74.772574,84.0407971,81.369038,73.666641,87.622368,88.25,82.630281,82.575086,75.053628,88.266511,88.219944,74.038134,85.6460977,85.3762324,72.43,72.43796,82.67545,82.76,82.769101,82.42032,88.00817,87.813861,85.4752101,80.796403,72.1419,71.16241,87.839962,83.9644198,85.4350339,77.090739,74.940434,92.227225,85.252,74.9014,85.5341596,85.8132742,85.7104655,86.6514244,83.02,73.6510325,81.19352,81.223674,87.86986,73.6744301,84.902962,81.000289,83.038,83.038,76.17604,80.841674,73.749977,80.868904,84.804023,73.73971,82.322898,74.666721,80.406973,74.254981,77.261249,76.1214,87.8062018,77.326491,83.061052,83.061052,85.501249,74.65832,92.5654482,83.064591,74.42968,78.431855,84.3661637,71.780548,84.37769,78.838392,73.021137,93.899412,87.91873,85.000237,74.636046,76.962537,92.7915044,87.2187957,92.3733902,79.6075958,74.623362,74.582459,84.067191,84.063019,87.0592406,87.8284,87.8415281,92.554836,88.1,88.16785,73.854942,74.631142,73.860424,88.152748,75.226691,82.5,82.626921,75.85771,82.589518,75.319402,73.846527,85.209955,75.85151,88.24,83.596448,81.58,84.606837,73.111088,86.972263,84.98,80.909587,80.909587,83.495651,88.8,87.6427664,87.2159,83.386643,82.01794,83.05444,83.12037,85.517065,77.62628,82.795482,77.630107,83.056557,83.05,92.372579,87.428401,74.5659886,84.495538,72.598924,74.57891,74.6223,79.9978736,86.129379,86.129379,77.606406,78.646548,81.949943,82.873882,78.063338,80.01488,86.044,81.83358,92.296728,78.534688,78.65665,73.240478,75.56134,80.33623,87.22,73.89041,78.810248,85.242004,83.484302,84.7822,83.992706,85.137566,83.587828,74.469863,91.869107,78.468048,91.893467,85.25568,82.717434,88.059504,81.919,71.410779,71.418681,84.05985,82.7661985,87.4892525,85.722502,87.475258,84.725502,84.74,87.590422,75.412682,79.0578275,74.615677,93.768691,82.004057,85.781029,86.593063,87.8436,78.332448,93.755733,81.993514,80.828265,80.800452,73.745269,93.74905,79.441947,83.5,74.634905,83.574194,75.171086,83.574636,79.58461,82.641489,83.19226,83.180098,91.878387,91.767092,91.756726,91.776671,90.578206,78.07146,85.379303,73.054726,80.937201,91.67507,91.789894,85.3587659,90.6322047,75.75028,81.2589098,86.701358,73.048185,74.3735,81.257186,78.178292,73.04523,81.713127,79.844274,93.87235,84.4304667,80.187563,82.09,81.264736,73.027257,72.956548,91.58562,78.139053,82.037191,74.492207,87.268112,80.11239,75.88802,86.063625,92.625564,73.01944,74.754672,72.9873053,91.716009,89.763875,78.273934,86.859076,89.486691,92.655866,92.663869,86.077103,73.71202,74.766931,73.511409,80.31639,80.347056,74.6607,90.977417,92.001571,91.628509,74.68263,82.608327,80.1853551,80.265398,80.443914,82.39352,84.452011,72.2697337,89.76,89.7976,73.813705,83.7838214,78.558588,80.349159,90.966263,89.53,77.976524,93.972373,91.209859,90.54048,85.512174,77.97351,88.243607,83.770183,88.82,78.772528,88.7345,93.776,74.92347,74.85662,78.82275,77.936326,74.996484,84.9111107,80.92456,75.13984,88.464891,75.93089,84.19864,85.531,80.832736,92.232926,89.115305,78.94564,77.8950611239172,88.4545,88.395,83.25,83.22,83.24,83.91,83.561126,88.44445,79.053995,80.918932,82.095753,82.16773,82.66,82.211937,81.06917,75.38205,75.84635,84.5379999,84.5379999,75.77605,74.805479,75.50762,75.62688,88.622863,83.95,75.95806,70.98112,75.70532,76.21432,81.055154,75.79277,80.968512,81.070062,77.931708,81.27259,74.27249,26.92378,81.226326,81.199582,75.74739,84.8388,75.78376,75.77341,94.650801,74.803349,76.87995,77.9669964,75.82473,78.062859,77.906,79.9078495999999,79.9078495999999,75.75591,88.17,76.99491,72.329309,80.88816,77.992599,83.284406,88.33,93.718954,81.9273936,77.622063,78.405062,94.014347,73.88783,77.40823,88.491518,78.047063,78.315562,77.5040994,77.55365,94.0702,73.70859,73.70589,73.70329,75.9299,88.4933,77.852626,76.6213,27.244788,75.20248,72.3213324,77.530417,80.192705,75.95215,95.321753,81.37504048,95.334197,79.593938,77.70103,77.692404,75.97596,77.695438,80.125563,94.884169,77.662864,73.5065,95.303475,95.343894,76.05146,76.62369,80.732044,80.7244522,94.633251,76.61249,81.633346,75.20047,78652671.0,75.17229,76.62844,95.556443,95.556614,76.12278,76.08705,74.38803,76.14138,78.068276,78.41073,76.21684,75.83291,77.488748,74.45299,76.95239,76.24115,77.417768,78.026348,72.96112,76.30316,76.30107,78.0394597,80.794982,80.794982,76.4014,76.0964599,76.09658,76.83955,74.6130710429825,76.4783,73.26751,76.09642,75.32677,79.1391888,73.33673,75.3561,77.936461,77.00799,75.3606,76.11594,77.56885,73.37693,76.70055,76.126,76.61132,76.82049,76.75555,94.8210669,77.06611,76.80858,76.81306,75.66698,76.07375,77.28988,76.87138,76.85656,76.85534,77.31692,77.31482,74.53548,77.939687,79.3686115,76.99289,80.563938,77.826092,76.99492,77.00624,77.0106,77.179425,73.68159,77.180099,77.67933,77.30555,77.481647,77.506928,77.280689,77.1179744,76.24779,77.52794,76.21176,77.325162,77.008036,77.391067,77.442905,77.33897,76.63642,76.89262,77.318586,77.49793,77.03786,76.990103,77.008445,77.37573,76.961309,79.0980368,77.458825,77.6795847,76.88865,77.462679,77.18628,77.14271,77.144897,77.14213,77.14093,79.0284147,76.11898,76.11259,79.2041046,77.037915,77.14559,75.54122,76.22908,78.842096,78.453977,73.8558228123205,76.54049,79.702942,79.7029671,77.27923,76.56649,75.85132,76.46374,79.5167537,76.9451097,79.390769,79.416918,77.083279,75.60107,79.330088,77.07682,76.68245,73.1077,77.7120005,77.712008,75.83351,75.82681,79.132057,78.8865898,75.773,75.68926,74.34802,73.89779,76.32077,76.93764,75.85276,76.98322,76.39465,79.09144,77.01574,78.442218,75.52151,76.97148,76.9687816,77.245501,75.03179,80.2066224,78547834.0,74.31961,76.12488,74.32422,74.3364,77.02049,76.98273,78.4841937,77.85582,76.4031,73.87252,82.752,73.8938,77.87511,77.954772,77.981369,76.89481,76.04871,74.72068,77.594673,75.38937,77.22345,74.88094,74.22506,77.31662,74.96063,74.94694,79.2555,74.49403,76.8538,77.08076,75.11157,30.26571,75.21818,75.88096,77.990662,76.42456,75.99626,79.0465,780412812.0,75.5468,76.52409,75.88217,77.58763,77.7339654720639,77.58236,76.5831,75.88024,74.84624,74.84624,76.40921,76.96817,75.58716,76.79983,76.80965,76.19134,76.70126,75.84155,76.12901,76.89561,75.21305,75.22229,76.18934,77.07012,76.54924,75.8575,76.80865,75.82621,74.98547,75.78328,76.71096,76.71434,76.70434,77.12838,77.13916,76.6007,75.34436,76.13212,76.57792,75.76997,76.64047,75.652,76.76416,76.32374,77.6781,75.855515,74.90336,74.87227,76.56207,76.95096,75.2292358874,75.23395,76.215364,77.14453,76.274206,75.560447,75.65085,75.5912315,76.052301,75.536778,75.0418618,75.577983,74.867401,74.8899,75.135337,75.14525,74.3285,75.0704,75.166987,75.131058,75.027849,74.857857,77.118569,75.0730757,74.926323,74.86463,74.86463,74.7543642,74.717283,76.1367968,74.901639,94.630035,73.5921508,22.12061,20.349597,20.288639,77.042117,87.39630556,87.45930556,89.192936,74.65206,78.628477,76.30383,76.58607,76.66894,76.80498,77.75531,77.97954,77.32783,77.10927,77.10336,77.06573,76.64226,76.42844,76.39953,88.30789,88.48894,88.43378,86.86489,87.74278,92.3513,92.7687,80.6850576,80.067943],\"marker\":{\"color\":\"blue\",\"size\":15},\"mode\":\"markers\",\"name\":\"Workshops\",\"type\":\"scattermapbox\"}],                        {\"template\":{\"data\":{\"histogram2dcontour\":[{\"type\":\"histogram2dcontour\",\"colorbar\":{\"outlinewidth\":0,\"ticks\":\"\"},\"colorscale\":[[0.0,\"#0d0887\"],[0.1111111111111111,\"#46039f\"],[0.2222222222222222,\"#7201a8\"],[0.3333333333333333,\"#9c179e\"],[0.4444444444444444,\"#bd3786\"],[0.5555555555555556,\"#d8576b\"],[0.6666666666666666,\"#ed7953\"],[0.7777777777777778,\"#fb9f3a\"],[0.8888888888888888,\"#fdca26\"],[1.0,\"#f0f921\"]]}],\"choropleth\":[{\"type\":\"choropleth\",\"colorbar\":{\"outlinewidth\":0,\"ticks\":\"\"}}],\"histogram2d\":[{\"type\":\"histogram2d\",\"colorbar\":{\"outlinewidth\":0,\"ticks\":\"\"},\"colorscale\":[[0.0,\"#0d0887\"],[0.1111111111111111,\"#46039f\"],[0.2222222222222222,\"#7201a8\"],[0.3333333333333333,\"#9c179e\"],[0.4444444444444444,\"#bd3786\"],[0.5555555555555556,\"#d8576b\"],[0.6666666666666666,\"#ed7953\"],[0.7777777777777778,\"#fb9f3a\"],[0.8888888888888888,\"#fdca26\"],[1.0,\"#f0f921\"]]}],\"heatmap\":[{\"type\":\"heatmap\",\"colorbar\":{\"outlinewidth\":0,\"ticks\":\"\"},\"colorscale\":[[0.0,\"#0d0887\"],[0.1111111111111111,\"#46039f\"],[0.2222222222222222,\"#7201a8\"],[0.3333333333333333,\"#9c179e\"],[0.4444444444444444,\"#bd3786\"],[0.5555555555555556,\"#d8576b\"],[0.6666666666666666,\"#ed7953\"],[0.7777777777777778,\"#fb9f3a\"],[0.8888888888888888,\"#fdca26\"],[1.0,\"#f0f921\"]]}],\"heatmapgl\":[{\"type\":\"heatmapgl\",\"colorbar\":{\"outlinewidth\":0,\"ticks\":\"\"},\"colorscale\":[[0.0,\"#0d0887\"],[0.1111111111111111,\"#46039f\"],[0.2222222222222222,\"#7201a8\"],[0.3333333333333333,\"#9c179e\"],[0.4444444444444444,\"#bd3786\"],[0.5555555555555556,\"#d8576b\"],[0.6666666666666666,\"#ed7953\"],[0.7777777777777778,\"#fb9f3a\"],[0.8888888888888888,\"#fdca26\"],[1.0,\"#f0f921\"]]}],\"contourcarpet\":[{\"type\":\"contourcarpet\",\"colorbar\":{\"outlinewidth\":0,\"ticks\":\"\"}}],\"contour\":[{\"type\":\"contour\",\"colorbar\":{\"outlinewidth\":0,\"ticks\":\"\"},\"colorscale\":[[0.0,\"#0d0887\"],[0.1111111111111111,\"#46039f\"],[0.2222222222222222,\"#7201a8\"],[0.3333333333333333,\"#9c179e\"],[0.4444444444444444,\"#bd3786\"],[0.5555555555555556,\"#d8576b\"],[0.6666666666666666,\"#ed7953\"],[0.7777777777777778,\"#fb9f3a\"],[0.8888888888888888,\"#fdca26\"],[1.0,\"#f0f921\"]]}],\"surface\":[{\"type\":\"surface\",\"colorbar\":{\"outlinewidth\":0,\"ticks\":\"\"},\"colorscale\":[[0.0,\"#0d0887\"],[0.1111111111111111,\"#46039f\"],[0.2222222222222222,\"#7201a8\"],[0.3333333333333333,\"#9c179e\"],[0.4444444444444444,\"#bd3786\"],[0.5555555555555556,\"#d8576b\"],[0.6666666666666666,\"#ed7953\"],[0.7777777777777778,\"#fb9f3a\"],[0.8888888888888888,\"#fdca26\"],[1.0,\"#f0f921\"]]}],\"mesh3d\":[{\"type\":\"mesh3d\",\"colorbar\":{\"outlinewidth\":0,\"ticks\":\"\"}}],\"scatter\":[{\"fillpattern\":{\"fillmode\":\"overlay\",\"size\":10,\"solidity\":0.2},\"type\":\"scatter\"}],\"parcoords\":[{\"type\":\"parcoords\",\"line\":{\"colorbar\":{\"outlinewidth\":0,\"ticks\":\"\"}}}],\"scatterpolargl\":[{\"type\":\"scatterpolargl\",\"marker\":{\"colorbar\":{\"outlinewidth\":0,\"ticks\":\"\"}}}],\"bar\":[{\"error_x\":{\"color\":\"#2a3f5f\"},\"error_y\":{\"color\":\"#2a3f5f\"},\"marker\":{\"line\":{\"color\":\"#E5ECF6\",\"width\":0.5},\"pattern\":{\"fillmode\":\"overlay\",\"size\":10,\"solidity\":0.2}},\"type\":\"bar\"}],\"scattergeo\":[{\"type\":\"scattergeo\",\"marker\":{\"colorbar\":{\"outlinewidth\":0,\"ticks\":\"\"}}}],\"scatterpolar\":[{\"type\":\"scatterpolar\",\"marker\":{\"colorbar\":{\"outlinewidth\":0,\"ticks\":\"\"}}}],\"histogram\":[{\"marker\":{\"pattern\":{\"fillmode\":\"overlay\",\"size\":10,\"solidity\":0.2}},\"type\":\"histogram\"}],\"scattergl\":[{\"type\":\"scattergl\",\"marker\":{\"colorbar\":{\"outlinewidth\":0,\"ticks\":\"\"}}}],\"scatter3d\":[{\"type\":\"scatter3d\",\"line\":{\"colorbar\":{\"outlinewidth\":0,\"ticks\":\"\"}},\"marker\":{\"colorbar\":{\"outlinewidth\":0,\"ticks\":\"\"}}}],\"scattermapbox\":[{\"type\":\"scattermapbox\",\"marker\":{\"colorbar\":{\"outlinewidth\":0,\"ticks\":\"\"}}}],\"scatterternary\":[{\"type\":\"scatterternary\",\"marker\":{\"colorbar\":{\"outlinewidth\":0,\"ticks\":\"\"}}}],\"scattercarpet\":[{\"type\":\"scattercarpet\",\"marker\":{\"colorbar\":{\"outlinewidth\":0,\"ticks\":\"\"}}}],\"carpet\":[{\"aaxis\":{\"endlinecolor\":\"#2a3f5f\",\"gridcolor\":\"white\",\"linecolor\":\"white\",\"minorgridcolor\":\"white\",\"startlinecolor\":\"#2a3f5f\"},\"baxis\":{\"endlinecolor\":\"#2a3f5f\",\"gridcolor\":\"white\",\"linecolor\":\"white\",\"minorgridcolor\":\"white\",\"startlinecolor\":\"#2a3f5f\"},\"type\":\"carpet\"}],\"table\":[{\"cells\":{\"fill\":{\"color\":\"#EBF0F8\"},\"line\":{\"color\":\"white\"}},\"header\":{\"fill\":{\"color\":\"#C8D4E3\"},\"line\":{\"color\":\"white\"}},\"type\":\"table\"}],\"barpolar\":[{\"marker\":{\"line\":{\"color\":\"#E5ECF6\",\"width\":0.5},\"pattern\":{\"fillmode\":\"overlay\",\"size\":10,\"solidity\":0.2}},\"type\":\"barpolar\"}],\"pie\":[{\"automargin\":true,\"type\":\"pie\"}]},\"layout\":{\"autotypenumbers\":\"strict\",\"colorway\":[\"#636efa\",\"#EF553B\",\"#00cc96\",\"#ab63fa\",\"#FFA15A\",\"#19d3f3\",\"#FF6692\",\"#B6E880\",\"#FF97FF\",\"#FECB52\"],\"font\":{\"color\":\"#2a3f5f\"},\"hovermode\":\"closest\",\"hoverlabel\":{\"align\":\"left\"},\"paper_bgcolor\":\"white\",\"plot_bgcolor\":\"#E5ECF6\",\"polar\":{\"bgcolor\":\"#E5ECF6\",\"angularaxis\":{\"gridcolor\":\"white\",\"linecolor\":\"white\",\"ticks\":\"\"},\"radialaxis\":{\"gridcolor\":\"white\",\"linecolor\":\"white\",\"ticks\":\"\"}},\"ternary\":{\"bgcolor\":\"#E5ECF6\",\"aaxis\":{\"gridcolor\":\"white\",\"linecolor\":\"white\",\"ticks\":\"\"},\"baxis\":{\"gridcolor\":\"white\",\"linecolor\":\"white\",\"ticks\":\"\"},\"caxis\":{\"gridcolor\":\"white\",\"linecolor\":\"white\",\"ticks\":\"\"}},\"coloraxis\":{\"colorbar\":{\"outlinewidth\":0,\"ticks\":\"\"}},\"colorscale\":{\"sequential\":[[0.0,\"#0d0887\"],[0.1111111111111111,\"#46039f\"],[0.2222222222222222,\"#7201a8\"],[0.3333333333333333,\"#9c179e\"],[0.4444444444444444,\"#bd3786\"],[0.5555555555555556,\"#d8576b\"],[0.6666666666666666,\"#ed7953\"],[0.7777777777777778,\"#fb9f3a\"],[0.8888888888888888,\"#fdca26\"],[1.0,\"#f0f921\"]],\"sequentialminus\":[[0.0,\"#0d0887\"],[0.1111111111111111,\"#46039f\"],[0.2222222222222222,\"#7201a8\"],[0.3333333333333333,\"#9c179e\"],[0.4444444444444444,\"#bd3786\"],[0.5555555555555556,\"#d8576b\"],[0.6666666666666666,\"#ed7953\"],[0.7777777777777778,\"#fb9f3a\"],[0.8888888888888888,\"#fdca26\"],[1.0,\"#f0f921\"]],\"diverging\":[[0,\"#8e0152\"],[0.1,\"#c51b7d\"],[0.2,\"#de77ae\"],[0.3,\"#f1b6da\"],[0.4,\"#fde0ef\"],[0.5,\"#f7f7f7\"],[0.6,\"#e6f5d0\"],[0.7,\"#b8e186\"],[0.8,\"#7fbc41\"],[0.9,\"#4d9221\"],[1,\"#276419\"]]},\"xaxis\":{\"gridcolor\":\"white\",\"linecolor\":\"white\",\"ticks\":\"\",\"title\":{\"standoff\":15},\"zerolinecolor\":\"white\",\"automargin\":true,\"zerolinewidth\":2},\"yaxis\":{\"gridcolor\":\"white\",\"linecolor\":\"white\",\"ticks\":\"\",\"title\":{\"standoff\":15},\"zerolinecolor\":\"white\",\"automargin\":true,\"zerolinewidth\":2},\"scene\":{\"xaxis\":{\"backgroundcolor\":\"#E5ECF6\",\"gridcolor\":\"white\",\"linecolor\":\"white\",\"showbackground\":true,\"ticks\":\"\",\"zerolinecolor\":\"white\",\"gridwidth\":2},\"yaxis\":{\"backgroundcolor\":\"#E5ECF6\",\"gridcolor\":\"white\",\"linecolor\":\"white\",\"showbackground\":true,\"ticks\":\"\",\"zerolinecolor\":\"white\",\"gridwidth\":2},\"zaxis\":{\"backgroundcolor\":\"#E5ECF6\",\"gridcolor\":\"white\",\"linecolor\":\"white\",\"showbackground\":true,\"ticks\":\"\",\"zerolinecolor\":\"white\",\"gridwidth\":2}},\"shapedefaults\":{\"line\":{\"color\":\"#2a3f5f\"}},\"annotationdefaults\":{\"arrowcolor\":\"#2a3f5f\",\"arrowhead\":0,\"arrowwidth\":1},\"geo\":{\"bgcolor\":\"white\",\"landcolor\":\"#E5ECF6\",\"subunitcolor\":\"white\",\"showland\":true,\"showlakes\":true,\"lakecolor\":\"white\"},\"title\":{\"x\":0.05},\"mapbox\":{\"style\":\"light\"}}},\"mapbox\":{\"center\":{\"lon\":591259.8440936164,\"lat\":22.486327729505106},\"style\":\"open-street-map\",\"zoom\":6},\"legend\":{\"yanchor\":\"top\",\"y\":0.99,\"xanchor\":\"left\",\"x\":0.01}},                        {\"responsive\": true}                    ).then(function(){\n",
       "                            \n",
       "var gd = document.getElementById('2706211a-ee01-45fd-bf51-6b2998cb2ed4');\n",
       "var x = new MutationObserver(function (mutations, observer) {{\n",
       "        var display = window.getComputedStyle(gd).display;\n",
       "        if (!display || display === 'none') {{\n",
       "            console.log([gd, 'removed!']);\n",
       "            Plotly.purge(gd);\n",
       "            observer.disconnect();\n",
       "        }}\n",
       "}});\n",
       "\n",
       "// Listen for the removal of the full notebook cells\n",
       "var notebookContainer = gd.closest('#notebook-container');\n",
       "if (notebookContainer) {{\n",
       "    x.observe(notebookContainer, {childList: true});\n",
       "}}\n",
       "\n",
       "// Listen for the clearing of the current output cell\n",
       "var outputEl = gd.closest('.output');\n",
       "if (outputEl) {{\n",
       "    x.observe(outputEl, {childList: true});\n",
       "}}\n",
       "\n",
       "                        })                };                });            </script>        </div>"
      ]
     },
     "metadata": {},
     "output_type": "display_data"
    }
   ],
   "source": [
    "import plotly.graph_objects as go\n",
    "import pandas as pd\n",
    "''' \n",
    "# Sample data for demonstration (replace this with your actual data)\n",
    "data = {\n",
    "    'geohash_7': ['t9qygyn', 't9qyuss', 't9rnqmw', 't9rnqy2', 't9rnrp6'],\n",
    "    'geohash_5': ['t9qyg', 't9qyu', 't9rnq', 't9rnq', 't9rnr'],\n",
    "    'Latitude': [8.251419, 8.243179, 8.160782, 8.164902, 8.170395],\n",
    "    'Longitude': [77.165909, 77.196121, 77.627335, 77.641068, 77.654800],\n",
    "    'month': [5, 5, 5, 5, 5],\n",
    "    'LOB': ['ICV Trucks', 'LCV', 'Buses', 'Buses', 'HCV Const'],\n",
    "    'PL': ['912 LPK', '610 SK', 'LPO1315', 'LPO1315', 'SIGNA 3525.TK. FBV'],\n",
    "    'PPL': ['ICV Tipper', 'LCV Tippers', 'ICV Buses', 'ICV Buses', 'MAV Tippers 35'],\n",
    "    'vehicleId_count': [37, 22, 28, 21, 22],\n",
    "    'distance': [15.918548, 18.718955, 21.959578, 23.315958, 23.050879],\n",
    "    'color': ['red', 'red', 'red', 'red', 'red']\n",
    "}\n",
    "\n",
    "workshop_data = {\n",
    "    'lat': [12.9715987, 13.0826802, 12.2958104],\n",
    "    'lon': [77.5945627, 80.2707184, 76.6393805]\n",
    "}\n",
    "\n",
    "# Convert to DataFrame\n",
    "classified_points = pd.DataFrame(data)\n",
    "workshops = pd.DataFrame(workshop_data)\n",
    "'''\n",
    "\n",
    "# Filtering vehicles based on distance from the workshop\n",
    "vehicles_near = classified_points[classified_points['distance'] < 15]\n",
    "vehicles_far = classified_points[classified_points['distance'] >= 15]\n",
    "'''\n",
    "# Print statements to check data\n",
    "print(\"Vehicles near (< 15 km):\")\n",
    "print(vehicles_near[['Latitude', 'Longitude']])\n",
    "print(\"Vehicles far (>= 15 km):\")\n",
    "print(vehicles_far[['Latitude', 'Longitude']])\n",
    "print(\"Workshops:\")\n",
    "print(df_workshop)\n",
    "'''\n",
    "# Define the figure\n",
    "fig = go.Figure()\n",
    "\n",
    "# Adding vehicle locations (distance < 15 kms) in green\n",
    "fig.add_trace(go.Scattermapbox(\n",
    "    lat=vehicles_near['Latitude'],\n",
    "    lon=vehicles_near['Longitude'],\n",
    "    mode='markers',\n",
    "    marker=dict(color='green', size=15),\n",
    "    name=\"Vehicles < 15Km\"\n",
    "))\n",
    "\n",
    "# Adding vehicle locations (distance >= 15 kms) in red\n",
    "fig.add_trace(go.Scattermapbox(\n",
    "    lat=vehicles_far['Latitude'],\n",
    "    lon=vehicles_far['Longitude'],\n",
    "    mode='markers',\n",
    "    marker=dict(color='red', size=15),\n",
    "    name=\"Vehicles >= 15Km\"\n",
    "))\n",
    "\n",
    "# Adding workshop locations in blue\n",
    "fig.add_trace(go.Scattermapbox(\n",
    "    lat=df_workshop['Lattitude'],\n",
    "    lon=df_workshop['Longitude'],\n",
    "    mode='markers',\n",
    "    marker=dict(color='blue', size=15),\n",
    "    name=\"Workshops\"\n",
    "))\n",
    "\n",
    "# Update the layout of the plot to use a mapbox style and set the center and zoom level\n",
    "fig.update_layout(\n",
    "    mapbox_style='open-street-map', \n",
    "    mapbox_center_lon=df_workshop['Longitude'].mean(),  # Adjust the center based on your data\n",
    "    mapbox_center_lat=df_workshop['Lattitude'].mean(),  # Adjust the center based on your data\n",
    "    mapbox_zoom=6,\n",
    "    legend=dict(yanchor=\"top\", y=0.99, xanchor=\"left\", x=0.01)\n",
    ")\n",
    "\n",
    "# Show the plot\n",
    "fig.show()\n"
   ]
  },
  {
   "cell_type": "code",
   "execution_count": null,
   "id": "c34fca84",
   "metadata": {
    "papermill": {
     "duration": 0.011719,
     "end_time": "2024-06-30T15:07:10.123748",
     "exception": false,
     "start_time": "2024-06-30T15:07:10.112029",
     "status": "completed"
    },
    "tags": []
   },
   "outputs": [],
   "source": []
  }
 ],
 "metadata": {
  "kaggle": {
   "accelerator": "none",
   "dataSources": [
    {
     "datasetId": 3962024,
     "sourceId": 6897305,
     "sourceType": "datasetVersion"
    },
    {
     "datasetId": 5152786,
     "sourceId": 8610536,
     "sourceType": "datasetVersion"
    }
   ],
   "dockerImageVersionId": 30732,
   "isGpuEnabled": false,
   "isInternetEnabled": true,
   "language": "python",
   "sourceType": "notebook"
  },
  "kernelspec": {
   "display_name": "Python 3",
   "language": "python",
   "name": "python3"
  },
  "language_info": {
   "codemirror_mode": {
    "name": "ipython",
    "version": 3
   },
   "file_extension": ".py",
   "mimetype": "text/x-python",
   "name": "python",
   "nbconvert_exporter": "python",
   "pygments_lexer": "ipython3",
   "version": "3.10.13"
  },
  "papermill": {
   "default_parameters": {},
   "duration": 60.046833,
   "end_time": "2024-06-30T15:07:11.862915",
   "environment_variables": {},
   "exception": null,
   "input_path": "__notebook__.ipynb",
   "output_path": "__notebook__.ipynb",
   "parameters": {},
   "start_time": "2024-06-30T15:06:11.816082",
   "version": "2.5.0"
  }
 },
 "nbformat": 4,
 "nbformat_minor": 5
}
